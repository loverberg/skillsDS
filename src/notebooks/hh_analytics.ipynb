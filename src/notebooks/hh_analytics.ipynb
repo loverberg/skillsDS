{
 "cells": [
  {
   "cell_type": "markdown",
   "metadata": {},
   "source": [
    "## Анализ полученных данных\n",
    "\n",
    "Статистика по вакансиям для удобного отображения вынесена в отдельную тетрадку."
   ]
  },
  {
   "cell_type": "code",
   "execution_count": 104,
   "metadata": {},
   "outputs": [],
   "source": [
    "#!pip install plotly\n",
    "import matplotlib.pyplot as plt\n",
    "import seaborn as sns\n",
    "import plotly.express as px\n",
    "import pandas as pd\n",
    "import numpy as np\n",
    "import re\n",
    "\n",
    "import nltk\n",
    "# nltk.download('stopwords')\n",
    "from nltk.corpus import stopwords\n",
    "\n",
    "from scipy.sparse import hstack\n",
    "from sklearn.linear_model import Ridge\n",
    "from sklearn.feature_extraction import DictVectorizer\n",
    "from sklearn.feature_extraction.text import TfidfVectorizer\n",
    "\n",
    "pd.options.mode.chained_assignment = None\n",
    "\n",
    "sns.set()"
   ]
  },
  {
   "cell_type": "markdown",
   "metadata": {},
   "source": [
    "### Загрузка данных"
   ]
  },
  {
   "cell_type": "code",
   "execution_count": 105,
   "metadata": {},
   "outputs": [
    {
     "data": {
      "text/html": [
       "<div>\n",
       "<style scoped>\n",
       "    .dataframe tbody tr th:only-of-type {\n",
       "        vertical-align: middle;\n",
       "    }\n",
       "\n",
       "    .dataframe tbody tr th {\n",
       "        vertical-align: top;\n",
       "    }\n",
       "\n",
       "    .dataframe thead th {\n",
       "        text-align: right;\n",
       "    }\n",
       "</style>\n",
       "<table border=\"1\" class=\"dataframe\">\n",
       "  <thead>\n",
       "    <tr style=\"text-align: right;\">\n",
       "      <th></th>\n",
       "      <th>Ids</th>\n",
       "      <th>Employer</th>\n",
       "      <th>Name</th>\n",
       "      <th>Salary</th>\n",
       "      <th>From</th>\n",
       "      <th>To</th>\n",
       "      <th>Experience</th>\n",
       "      <th>Schedule</th>\n",
       "      <th>Keys</th>\n",
       "      <th>Description</th>\n",
       "    </tr>\n",
       "  </thead>\n",
       "  <tbody>\n",
       "    <tr>\n",
       "      <th>0</th>\n",
       "      <td>50880086</td>\n",
       "      <td>Домклик</td>\n",
       "      <td>Data analyst/data engineer</td>\n",
       "      <td>False</td>\n",
       "      <td>NaN</td>\n",
       "      <td>NaN</td>\n",
       "      <td>От 1 года до 3 лет</td>\n",
       "      <td>Полный день</td>\n",
       "      <td>['Python', 'SQL', 'PostgreSQL', 'Базы данных',...</td>\n",
       "      <td>Мы - это продуктовая IT компания по созданию h...</td>\n",
       "    </tr>\n",
       "    <tr>\n",
       "      <th>1</th>\n",
       "      <td>50439267</td>\n",
       "      <td>NXP Semiconductors</td>\n",
       "      <td>Data Engineer</td>\n",
       "      <td>False</td>\n",
       "      <td>NaN</td>\n",
       "      <td>NaN</td>\n",
       "      <td>От 1 года до 3 лет</td>\n",
       "      <td>Полный день</td>\n",
       "      <td>['Python', 'Linux', 'English', 'TCL', 'Data En...</td>\n",
       "      <td>NXP Semiconductors N.V. (NASDAQ: NXPI) enables...</td>\n",
       "    </tr>\n",
       "    <tr>\n",
       "      <th>2</th>\n",
       "      <td>51056512</td>\n",
       "      <td>ПИК-БРОКЕР</td>\n",
       "      <td>Data Engineer</td>\n",
       "      <td>True</td>\n",
       "      <td>150000.0</td>\n",
       "      <td>250000.0</td>\n",
       "      <td>От 1 года до 3 лет</td>\n",
       "      <td>Полный день</td>\n",
       "      <td>['Python', 'SQL', 'PostgreSQL', 'Git', 'Airflow']</td>\n",
       "      <td>Мы - ПИК-Брокер - молодая и очень динамично ра...</td>\n",
       "    </tr>\n",
       "    <tr>\n",
       "      <th>3</th>\n",
       "      <td>50657338</td>\n",
       "      <td>COMTEK Inc.</td>\n",
       "      <td>Data Scientist</td>\n",
       "      <td>False</td>\n",
       "      <td>NaN</td>\n",
       "      <td>NaN</td>\n",
       "      <td>От 3 до 6 лет</td>\n",
       "      <td>Полный день</td>\n",
       "      <td>['Python', 'SQL', 'Power BI', 'Английский язык...</td>\n",
       "      <td>Подбираем команду для крупной американской ком...</td>\n",
       "    </tr>\n",
       "    <tr>\n",
       "      <th>4</th>\n",
       "      <td>50439196</td>\n",
       "      <td>Медиа Бизнес Солюшенс</td>\n",
       "      <td>Data scientist</td>\n",
       "      <td>False</td>\n",
       "      <td>NaN</td>\n",
       "      <td>NaN</td>\n",
       "      <td>От 1 года до 3 лет</td>\n",
       "      <td>Полный день</td>\n",
       "      <td>['Python', 'PostgreSQL', 'Tensorflow', 'sklear...</td>\n",
       "      <td>М3 — компания, которая занимается развитием ци...</td>\n",
       "    </tr>\n",
       "  </tbody>\n",
       "</table>\n",
       "</div>"
      ],
      "text/plain": [
       "        Ids               Employer                        Name  Salary  \\\n",
       "0  50880086                Домклик  Data analyst/data engineer   False   \n",
       "1  50439267     NXP Semiconductors               Data Engineer   False   \n",
       "2  51056512             ПИК-БРОКЕР               Data Engineer    True   \n",
       "3  50657338            COMTEK Inc.              Data Scientist   False   \n",
       "4  50439196  Медиа Бизнес Солюшенс              Data scientist   False   \n",
       "\n",
       "       From        To          Experience     Schedule  \\\n",
       "0       NaN       NaN  От 1 года до 3 лет  Полный день   \n",
       "1       NaN       NaN  От 1 года до 3 лет  Полный день   \n",
       "2  150000.0  250000.0  От 1 года до 3 лет  Полный день   \n",
       "3       NaN       NaN       От 3 до 6 лет  Полный день   \n",
       "4       NaN       NaN  От 1 года до 3 лет  Полный день   \n",
       "\n",
       "                                                Keys  \\\n",
       "0  ['Python', 'SQL', 'PostgreSQL', 'Базы данных',...   \n",
       "1  ['Python', 'Linux', 'English', 'TCL', 'Data En...   \n",
       "2  ['Python', 'SQL', 'PostgreSQL', 'Git', 'Airflow']   \n",
       "3  ['Python', 'SQL', 'Power BI', 'Английский язык...   \n",
       "4  ['Python', 'PostgreSQL', 'Tensorflow', 'sklear...   \n",
       "\n",
       "                                         Description  \n",
       "0  Мы - это продуктовая IT компания по созданию h...  \n",
       "1  NXP Semiconductors N.V. (NASDAQ: NXPI) enables...  \n",
       "2  Мы - ПИК-Брокер - молодая и очень динамично ра...  \n",
       "3  Подбираем команду для крупной американской ком...  \n",
       "4  М3 — компания, которая занимается развитием ци...  "
      ]
     },
     "execution_count": 105,
     "metadata": {},
     "output_type": "execute_result"
    }
   ],
   "source": [
    "df = pd.read_csv('../../hh_results.csv')\n",
    "df.head()"
   ]
  },
  {
   "cell_type": "markdown",
   "metadata": {},
   "source": [
    "### Количество вакансий"
   ]
  },
  {
   "cell_type": "code",
   "execution_count": 106,
   "metadata": {},
   "outputs": [],
   "source": [
    "df['Name'] = df.Name.str.lower()"
   ]
  },
  {
   "cell_type": "code",
   "execution_count": 107,
   "metadata": {},
   "outputs": [],
   "source": [
    "df['Name'] = df.Name.apply(lambda x:'data engineer' if 'data engineer' in x else x)"
   ]
  },
  {
   "cell_type": "code",
   "execution_count": 108,
   "metadata": {},
   "outputs": [],
   "source": [
    "df['Name'] = df.Name.apply(lambda x:'data scientist' if 'data scientist' in x else x)"
   ]
  },
  {
   "cell_type": "code",
   "execution_count": 109,
   "metadata": {},
   "outputs": [],
   "source": [
    "for i in ('product analyst', 'аналитик данных', 'продуктовый аналитик', 'data analyst'):\n",
    "    df['Name'] = df.Name.apply(lambda x:'data analyst' if i in x else x)"
   ]
  },
  {
   "cell_type": "code",
   "execution_count": 110,
   "metadata": {},
   "outputs": [],
   "source": [
    "da_de_ds = df[\n",
    "              (df.Name.str.contains('data engineer')) | \\\n",
    "              (df.Name.str.contains('data analyst')) | \\\n",
    "              (df.Name.str.contains('data scientist'))  \n",
    "             ]"
   ]
  },
  {
   "cell_type": "code",
   "execution_count": 111,
   "metadata": {},
   "outputs": [
    {
     "data": {
      "text/plain": [
       "data engineer     303\n",
       "data scientist    235\n",
       "data analyst      231\n",
       "Name: Name, dtype: int64"
      ]
     },
     "execution_count": 111,
     "metadata": {},
     "output_type": "execute_result"
    }
   ],
   "source": [
    "da_de_ds.Name.value_counts()"
   ]
  },
  {
   "cell_type": "code",
   "execution_count": 112,
   "metadata": {},
   "outputs": [
    {
     "data": {
      "image/png": "[encoded data removed]",
      "text/plain": [
       "<Figure size 1152x720 with 3 Axes>"
      ]
     },
     "metadata": {},
     "output_type": "display_data"
    }
   ],
   "source": [
    "def get_level_stats(data, category):\n",
    "    level_stats ={\n",
    "        'Нет опыта': df[(df.Name.str.contains(category)) & (df.Experience == 'Нет опыта')].Ids.count(),\n",
    "        'От 1 года до 3 лет': df[(df.Name.str.contains(category)) & (df.Experience == 'От 1 года до 3 лет')].Ids.count(),\n",
    "        'От 3 до 6 лет': df[(df.Name.str.contains(category)) & (df.Experience == 'От 3 до 6 лет')].Ids.count(),\n",
    "        'Более 6 лет': df[(df.Name.str.contains(category)) & (df.Experience == 'Более 6 лет')].Ids.count(),\n",
    "    }\n",
    "    return level_stats\n",
    "    \n",
    "fig, (ax1, ax2, ax3) = plt.subplots(1, 3, figsize=(16, 10))\n",
    "\n",
    "centre_circle = plt.Circle((0,0),0.6, fc='white')\n",
    "centre_circle1 = plt.Circle((0,0),1, fc='white', alpha= 0.4)\n",
    "level_stats = get_level_stats(df, 'data engineer')\n",
    "ax1.pie(level_stats.values(), labels=level_stats.keys(), pctdistance=0.79,\n",
    "        colors=sns.color_palette('winter_r', 4), autopct='%1.f%%', wedgeprops = {'linewidth': 0})\n",
    "ax1.add_artist(centre_circle)\n",
    "ax1.add_artist(centre_circle1)\n",
    "ax1.set_title('Data Engineer', size=12, loc='left')\n",
    "\n",
    "centre_circle = plt.Circle((0,0),0.6, fc='white')\n",
    "centre_circle1 = plt.Circle((0,0),1, fc='white', alpha= 0.4)\n",
    "level_stats = get_level_stats(df, 'data analyst')\n",
    "ax2.pie(level_stats.values(), labels=level_stats.keys(), pctdistance=0.79,\n",
    "        colors=sns.color_palette('winter_r', 4), autopct='%1.f%%', wedgeprops = {'linewidth': 0})\n",
    "ax2.add_artist(centre_circle)\n",
    "ax2.add_artist(centre_circle1)\n",
    "ax2.set_title('Data Analyst', size=12, loc='left')\n",
    "\n",
    "\n",
    "centre_circle = plt.Circle((0,0),0.6, fc='white')\n",
    "centre_circle1 = plt.Circle((0,0),1, fc='white', alpha= 0.4)\n",
    "level_stats = get_level_stats(df, 'data scientist')\n",
    "ax3.pie(level_stats.values(), labels=level_stats.keys(), pctdistance=0.79,\n",
    "        colors=sns.color_palette('winter_r', 4), autopct='%1.f%%', wedgeprops = {'linewidth': 0})\n",
    "ax3.add_artist(centre_circle)\n",
    "ax3.add_artist(centre_circle1)\n",
    "ax3.set_title('Data Scientist', size=12, loc='left')\n",
    "plt.show()"
   ]
  },
  {
   "cell_type": "markdown",
   "metadata": {},
   "source": [
    "### Зарплаты в Data Science"
   ]
  },
  {
   "cell_type": "code",
   "execution_count": 113,
   "metadata": {},
   "outputs": [],
   "source": [
    "salary = da_de_ds[(da_de_ds.From.notnull()) | (da_de_ds.To.notnull())]"
   ]
  },
  {
   "cell_type": "code",
   "execution_count": 114,
   "metadata": {},
   "outputs": [],
   "source": [
    "salary = salary[salary['Experience'] != 'Более 6 лет'].sort_values(by='Experience')"
   ]
  },
  {
   "cell_type": "code",
   "execution_count": 115,
   "metadata": {},
   "outputs": [],
   "source": [
    "salary['mean_salary'] = salary[['From', 'To']].mean(axis=1)"
   ]
  },
  {
   "cell_type": "code",
   "execution_count": 116,
   "metadata": {},
   "outputs": [],
   "source": [
    "salary['Keys'] = salary.Keys.str.lower()"
   ]
  },
  {
   "cell_type": "code",
   "execution_count": 117,
   "metadata": {},
   "outputs": [],
   "source": [
    "dis = salary[['Name', 'Experience']].append(salary[['Name', 'Experience']])\n",
    "dis['Salary'] = salary[['From', 'To']].melt()['value'].tolist()"
   ]
  },
  {
   "cell_type": "code",
   "execution_count": 118,
   "metadata": {},
   "outputs": [
    {
     "data": {
      "application/vnd.plotly.v1+json": {
       "config": {
        "plotlyServerURL": "https://plotly.com"
       },
       "data": [
        {
         "alignmentgroup": "True",
         "hovertemplate": "Специальность=data engineer<br>Уровень=%{x}<br>Уровень зарплат в тыс. рублях=%{y}<extra></extra>",
         "legendgroup": "data engineer",
         "marker": {
          "color": "#636efa"
         },
         "name": "data engineer",
         "notched": false,
         "offsetgroup": "data engineer",
         "orientation": "v",
         "showlegend": true,
         "type": "box",
         "x": [
          "Нет опыта",
          "Нет опыта",
          "Нет опыта",
          "Нет опыта",
          "Нет опыта",
          "От 1 года до 3 лет",
          "От 1 года до 3 лет",
          "От 1 года до 3 лет",
          "От 1 года до 3 лет",
          "От 1 года до 3 лет",
          "От 1 года до 3 лет",
          "От 1 года до 3 лет",
          "От 1 года до 3 лет",
          "От 1 года до 3 лет",
          "От 1 года до 3 лет",
          "От 1 года до 3 лет",
          "От 1 года до 3 лет",
          "От 1 года до 3 лет",
          "От 1 года до 3 лет",
          "От 1 года до 3 лет",
          "От 1 года до 3 лет",
          "От 1 года до 3 лет",
          "От 3 до 6 лет",
          "От 3 до 6 лет",
          "От 3 до 6 лет",
          "От 3 до 6 лет",
          "От 3 до 6 лет",
          "От 3 до 6 лет",
          "От 3 до 6 лет",
          "От 3 до 6 лет",
          "От 3 до 6 лет",
          "От 3 до 6 лет",
          "От 3 до 6 лет",
          "От 3 до 6 лет",
          "От 3 до 6 лет",
          "От 3 до 6 лет",
          "От 3 до 6 лет",
          "Нет опыта",
          "Нет опыта",
          "Нет опыта",
          "Нет опыта",
          "Нет опыта",
          "От 1 года до 3 лет",
          "От 1 года до 3 лет",
          "От 1 года до 3 лет",
          "От 1 года до 3 лет",
          "От 1 года до 3 лет",
          "От 1 года до 3 лет",
          "От 1 года до 3 лет",
          "От 1 года до 3 лет",
          "От 1 года до 3 лет",
          "От 1 года до 3 лет",
          "От 1 года до 3 лет",
          "От 1 года до 3 лет",
          "От 1 года до 3 лет",
          "От 1 года до 3 лет",
          "От 1 года до 3 лет",
          "От 1 года до 3 лет",
          "От 1 года до 3 лет",
          "От 3 до 6 лет",
          "От 3 до 6 лет",
          "От 3 до 6 лет",
          "От 3 до 6 лет",
          "От 3 до 6 лет",
          "От 3 до 6 лет",
          "От 3 до 6 лет",
          "От 3 до 6 лет",
          "От 3 до 6 лет",
          "От 3 до 6 лет",
          "От 3 до 6 лет",
          "От 3 до 6 лет",
          "От 3 до 6 лет",
          "От 3 до 6 лет",
          "От 3 до 6 лет"
         ],
         "x0": " ",
         "xaxis": "x",
         "y": [
          100000,
          174000,
          null,
          200000,
          69600,
          261000,
          150000,
          null,
          130500,
          180000,
          180000,
          null,
          150000,
          200000,
          88000,
          null,
          null,
          110000,
          87000,
          130500,
          180000,
          147900,
          300000,
          null,
          261000,
          200000,
          270000,
          null,
          230769,
          null,
          304500,
          43500,
          200000,
          200000,
          null,
          200000,
          200000,
          150000,
          217500,
          191400,
          null,
          null,
          null,
          250000,
          300150,
          null,
          null,
          200000,
          261000,
          null,
          null,
          166000,
          156600,
          391500,
          150000,
          null,
          165300,
          null,
          304500,
          null,
          191400,
          null,
          400000,
          null,
          423076,
          null,
          384615,
          435000,
          435000,
          500000,
          350000,
          400000,
          null,
          370000
         ],
         "y0": " ",
         "yaxis": "y"
        },
        {
         "alignmentgroup": "True",
         "hovertemplate": "Специальность=data scientist<br>Уровень=%{x}<br>Уровень зарплат в тыс. рублях=%{y}<extra></extra>",
         "legendgroup": "data scientist",
         "marker": {
          "color": "#EF553B"
         },
         "name": "data scientist",
         "notched": false,
         "offsetgroup": "data scientist",
         "orientation": "v",
         "showlegend": true,
         "type": "box",
         "x": [
          "Нет опыта",
          "Нет опыта",
          "Нет опыта",
          "Нет опыта",
          "Нет опыта",
          "От 1 года до 3 лет",
          "От 1 года до 3 лет",
          "От 1 года до 3 лет",
          "От 1 года до 3 лет",
          "От 1 года до 3 лет",
          "От 1 года до 3 лет",
          "От 1 года до 3 лет",
          "От 1 года до 3 лет",
          "От 1 года до 3 лет",
          "От 1 года до 3 лет",
          "От 1 года до 3 лет",
          "От 1 года до 3 лет",
          "От 1 года до 3 лет",
          "От 1 года до 3 лет",
          "От 3 до 6 лет",
          "От 3 до 6 лет",
          "От 3 до 6 лет",
          "От 3 до 6 лет",
          "От 3 до 6 лет",
          "От 3 до 6 лет",
          "От 3 до 6 лет",
          "От 3 до 6 лет",
          "От 3 до 6 лет",
          "От 3 до 6 лет",
          "От 3 до 6 лет",
          "От 3 до 6 лет",
          "От 3 до 6 лет",
          "От 3 до 6 лет",
          "От 3 до 6 лет",
          "От 3 до 6 лет",
          "Нет опыта",
          "Нет опыта",
          "Нет опыта",
          "Нет опыта",
          "Нет опыта",
          "От 1 года до 3 лет",
          "От 1 года до 3 лет",
          "От 1 года до 3 лет",
          "От 1 года до 3 лет",
          "От 1 года до 3 лет",
          "От 1 года до 3 лет",
          "От 1 года до 3 лет",
          "От 1 года до 3 лет",
          "От 1 года до 3 лет",
          "От 1 года до 3 лет",
          "От 1 года до 3 лет",
          "От 1 года до 3 лет",
          "От 1 года до 3 лет",
          "От 1 года до 3 лет",
          "От 3 до 6 лет",
          "От 3 до 6 лет",
          "От 3 до 6 лет",
          "От 3 до 6 лет",
          "От 3 до 6 лет",
          "От 3 до 6 лет",
          "От 3 до 6 лет",
          "От 3 до 6 лет",
          "От 3 до 6 лет",
          "От 3 до 6 лет",
          "От 3 до 6 лет",
          "От 3 до 6 лет",
          "От 3 до 6 лет",
          "От 3 до 6 лет",
          "От 3 до 6 лет",
          "От 3 до 6 лет"
         ],
         "x0": " ",
         "xaxis": "x",
         "y": [
          156600,
          null,
          52200,
          79090,
          null,
          150000,
          130500,
          null,
          270000,
          200000,
          80000,
          200000,
          52200,
          130000,
          115384,
          104400,
          130500,
          null,
          87000,
          null,
          220000,
          300000,
          null,
          200000,
          300000,
          153846,
          174000,
          217500,
          200000,
          300000,
          null,
          230000,
          null,
          200000,
          300000,
          261000,
          280000,
          174000,
          118636,
          180000,
          null,
          261000,
          350000,
          null,
          null,
          100000,
          250000,
          174000,
          170000,
          230769,
          null,
          261000,
          350000,
          174000,
          435000,
          300000,
          null,
          300000,
          250000,
          450000,
          230769,
          null,
          null,
          300000,
          400000,
          435000,
          null,
          139200,
          350000,
          450000
         ],
         "y0": " ",
         "yaxis": "y"
        },
        {
         "alignmentgroup": "True",
         "hovertemplate": "Специальность=data analyst<br>Уровень=%{x}<br>Уровень зарплат в тыс. рублях=%{y}<extra></extra>",
         "legendgroup": "data analyst",
         "marker": {
          "color": "#00cc96"
         },
         "name": "data analyst",
         "notched": false,
         "offsetgroup": "data analyst",
         "orientation": "v",
         "showlegend": true,
         "type": "box",
         "x": [
          "Нет опыта",
          "Нет опыта",
          "Нет опыта",
          "От 1 года до 3 лет",
          "От 1 года до 3 лет",
          "От 1 года до 3 лет",
          "От 1 года до 3 лет",
          "От 1 года до 3 лет",
          "От 1 года до 3 лет",
          "От 1 года до 3 лет",
          "От 1 года до 3 лет",
          "От 1 года до 3 лет",
          "От 1 года до 3 лет",
          "От 1 года до 3 лет",
          "От 1 года до 3 лет",
          "От 1 года до 3 лет",
          "От 1 года до 3 лет",
          "От 1 года до 3 лет",
          "От 1 года до 3 лет",
          "От 1 года до 3 лет",
          "От 1 года до 3 лет",
          "От 1 года до 3 лет",
          "От 1 года до 3 лет",
          "От 1 года до 3 лет",
          "От 1 года до 3 лет",
          "От 1 года до 3 лет",
          "От 3 до 6 лет",
          "От 3 до 6 лет",
          "От 3 до 6 лет",
          "От 3 до 6 лет",
          "От 3 до 6 лет",
          "От 3 до 6 лет",
          "От 3 до 6 лет",
          "От 3 до 6 лет",
          "Нет опыта",
          "Нет опыта",
          "Нет опыта",
          "От 1 года до 3 лет",
          "От 1 года до 3 лет",
          "От 1 года до 3 лет",
          "От 1 года до 3 лет",
          "От 1 года до 3 лет",
          "От 1 года до 3 лет",
          "От 1 года до 3 лет",
          "От 1 года до 3 лет",
          "От 1 года до 3 лет",
          "От 1 года до 3 лет",
          "От 1 года до 3 лет",
          "От 1 года до 3 лет",
          "От 1 года до 3 лет",
          "От 1 года до 3 лет",
          "От 1 года до 3 лет",
          "От 1 года до 3 лет",
          "От 1 года до 3 лет",
          "От 1 года до 3 лет",
          "От 1 года до 3 лет",
          "От 1 года до 3 лет",
          "От 1 года до 3 лет",
          "От 1 года до 3 лет",
          "От 1 года до 3 лет",
          "От 3 до 6 лет",
          "От 3 до 6 лет",
          "От 3 до 6 лет",
          "От 3 до 6 лет",
          "От 3 до 6 лет",
          "От 3 до 6 лет",
          "От 3 до 6 лет",
          "От 3 до 6 лет"
         ],
         "x0": " ",
         "xaxis": "x",
         "y": [
          40000,
          100000,
          null,
          null,
          200000,
          139200,
          104400,
          140000,
          174000,
          104400,
          80000,
          200000,
          174000,
          160000,
          153846,
          200769,
          null,
          220000,
          null,
          156600,
          null,
          150000,
          null,
          147900,
          58800,
          120000,
          237272,
          280000,
          150000,
          200000,
          null,
          200769,
          250000,
          217500,
          70000,
          140000,
          40000,
          49155,
          null,
          null,
          130500,
          200000,
          217500,
          130500,
          120000,
          null,
          348000,
          null,
          null,
          468461,
          80000,
          null,
          66923,
          234900,
          180000,
          null,
          234900,
          null,
          73400,
          null,
          395454,
          370000,
          220000,
          null,
          250000,
          267692,
          null,
          null
         ],
         "y0": " ",
         "yaxis": "y"
        }
       ],
       "layout": {
        "autosize": false,
        "boxmode": "group",
        "height": 600,
        "legend": {
         "title": {
          "text": "Специальность"
         },
         "tracegroupgap": 0
        },
        "template": {
         "data": {
          "bar": [
           {
            "error_x": {
             "color": "#2a3f5f"
            },
            "error_y": {
             "color": "#2a3f5f"
            },
            "marker": {
             "line": {
              "color": "#E5ECF6",
              "width": 0.5
             },
             "pattern": {
              "fillmode": "overlay",
              "size": 10,
              "solidity": 0.2
             }
            },
            "type": "bar"
           }
          ],
          "barpolar": [
           {
            "marker": {
             "line": {
              "color": "#E5ECF6",
              "width": 0.5
             },
             "pattern": {
              "fillmode": "overlay",
              "size": 10,
              "solidity": 0.2
             }
            },
            "type": "barpolar"
           }
          ],
          "carpet": [
           {
            "aaxis": {
             "endlinecolor": "#2a3f5f",
             "gridcolor": "white",
             "linecolor": "white",
             "minorgridcolor": "white",
             "startlinecolor": "#2a3f5f"
            },
            "baxis": {
             "endlinecolor": "#2a3f5f",
             "gridcolor": "white",
             "linecolor": "white",
             "minorgridcolor": "white",
             "startlinecolor": "#2a3f5f"
            },
            "type": "carpet"
           }
          ],
          "choropleth": [
           {
            "colorbar": {
             "outlinewidth": 0,
             "ticks": ""
            },
            "type": "choropleth"
           }
          ],
          "contour": [
           {
            "colorbar": {
             "outlinewidth": 0,
             "ticks": ""
            },
            "colorscale": [
             [
              0,
              "#0d0887"
             ],
             [
              0.1111111111111111,
              "#46039f"
             ],
             [
              0.2222222222222222,
              "#7201a8"
             ],
             [
              0.3333333333333333,
              "#9c179e"
             ],
             [
              0.4444444444444444,
              "#bd3786"
             ],
             [
              0.5555555555555556,
              "#d8576b"
             ],
             [
              0.6666666666666666,
              "#ed7953"
             ],
             [
              0.7777777777777778,
              "#fb9f3a"
             ],
             [
              0.8888888888888888,
              "#fdca26"
             ],
             [
              1,
              "#f0f921"
             ]
            ],
            "type": "contour"
           }
          ],
          "contourcarpet": [
           {
            "colorbar": {
             "outlinewidth": 0,
             "ticks": ""
            },
            "type": "contourcarpet"
           }
          ],
          "heatmap": [
           {
            "colorbar": {
             "outlinewidth": 0,
             "ticks": ""
            },
            "colorscale": [
             [
              0,
              "#0d0887"
             ],
             [
              0.1111111111111111,
              "#46039f"
             ],
             [
              0.2222222222222222,
              "#7201a8"
             ],
             [
              0.3333333333333333,
              "#9c179e"
             ],
             [
              0.4444444444444444,
              "#bd3786"
             ],
             [
              0.5555555555555556,
              "#d8576b"
             ],
             [
              0.6666666666666666,
              "#ed7953"
             ],
             [
              0.7777777777777778,
              "#fb9f3a"
             ],
             [
              0.8888888888888888,
              "#fdca26"
             ],
             [
              1,
              "#f0f921"
             ]
            ],
            "type": "heatmap"
           }
          ],
          "heatmapgl": [
           {
            "colorbar": {
             "outlinewidth": 0,
             "ticks": ""
            },
            "colorscale": [
             [
              0,
              "#0d0887"
             ],
             [
              0.1111111111111111,
              "#46039f"
             ],
             [
              0.2222222222222222,
              "#7201a8"
             ],
             [
              0.3333333333333333,
              "#9c179e"
             ],
             [
              0.4444444444444444,
              "#bd3786"
             ],
             [
              0.5555555555555556,
              "#d8576b"
             ],
             [
              0.6666666666666666,
              "#ed7953"
             ],
             [
              0.7777777777777778,
              "#fb9f3a"
             ],
             [
              0.8888888888888888,
              "#fdca26"
             ],
             [
              1,
              "#f0f921"
             ]
            ],
            "type": "heatmapgl"
           }
          ],
          "histogram": [
           {
            "marker": {
             "pattern": {
              "fillmode": "overlay",
              "size": 10,
              "solidity": 0.2
             }
            },
            "type": "histogram"
           }
          ],
          "histogram2d": [
           {
            "colorbar": {
             "outlinewidth": 0,
             "ticks": ""
            },
            "colorscale": [
             [
              0,
              "#0d0887"
             ],
             [
              0.1111111111111111,
              "#46039f"
             ],
             [
              0.2222222222222222,
              "#7201a8"
             ],
             [
              0.3333333333333333,
              "#9c179e"
             ],
             [
              0.4444444444444444,
              "#bd3786"
             ],
             [
              0.5555555555555556,
              "#d8576b"
             ],
             [
              0.6666666666666666,
              "#ed7953"
             ],
             [
              0.7777777777777778,
              "#fb9f3a"
             ],
             [
              0.8888888888888888,
              "#fdca26"
             ],
             [
              1,
              "#f0f921"
             ]
            ],
            "type": "histogram2d"
           }
          ],
          "histogram2dcontour": [
           {
            "colorbar": {
             "outlinewidth": 0,
             "ticks": ""
            },
            "colorscale": [
             [
              0,
              "#0d0887"
             ],
             [
              0.1111111111111111,
              "#46039f"
             ],
             [
              0.2222222222222222,
              "#7201a8"
             ],
             [
              0.3333333333333333,
              "#9c179e"
             ],
             [
              0.4444444444444444,
              "#bd3786"
             ],
             [
              0.5555555555555556,
              "#d8576b"
             ],
             [
              0.6666666666666666,
              "#ed7953"
             ],
             [
              0.7777777777777778,
              "#fb9f3a"
             ],
             [
              0.8888888888888888,
              "#fdca26"
             ],
             [
              1,
              "#f0f921"
             ]
            ],
            "type": "histogram2dcontour"
           }
          ],
          "mesh3d": [
           {
            "colorbar": {
             "outlinewidth": 0,
             "ticks": ""
            },
            "type": "mesh3d"
           }
          ],
          "parcoords": [
           {
            "line": {
             "colorbar": {
              "outlinewidth": 0,
              "ticks": ""
             }
            },
            "type": "parcoords"
           }
          ],
          "pie": [
           {
            "automargin": true,
            "type": "pie"
           }
          ],
          "scatter": [
           {
            "marker": {
             "colorbar": {
              "outlinewidth": 0,
              "ticks": ""
             }
            },
            "type": "scatter"
           }
          ],
          "scatter3d": [
           {
            "line": {
             "colorbar": {
              "outlinewidth": 0,
              "ticks": ""
             }
            },
            "marker": {
             "colorbar": {
              "outlinewidth": 0,
              "ticks": ""
             }
            },
            "type": "scatter3d"
           }
          ],
          "scattercarpet": [
           {
            "marker": {
             "colorbar": {
              "outlinewidth": 0,
              "ticks": ""
             }
            },
            "type": "scattercarpet"
           }
          ],
          "scattergeo": [
           {
            "marker": {
             "colorbar": {
              "outlinewidth": 0,
              "ticks": ""
             }
            },
            "type": "scattergeo"
           }
          ],
          "scattergl": [
           {
            "marker": {
             "colorbar": {
              "outlinewidth": 0,
              "ticks": ""
             }
            },
            "type": "scattergl"
           }
          ],
          "scattermapbox": [
           {
            "marker": {
             "colorbar": {
              "outlinewidth": 0,
              "ticks": ""
             }
            },
            "type": "scattermapbox"
           }
          ],
          "scatterpolar": [
           {
            "marker": {
             "colorbar": {
              "outlinewidth": 0,
              "ticks": ""
             }
            },
            "type": "scatterpolar"
           }
          ],
          "scatterpolargl": [
           {
            "marker": {
             "colorbar": {
              "outlinewidth": 0,
              "ticks": ""
             }
            },
            "type": "scatterpolargl"
           }
          ],
          "scatterternary": [
           {
            "marker": {
             "colorbar": {
              "outlinewidth": 0,
              "ticks": ""
             }
            },
            "type": "scatterternary"
           }
          ],
          "surface": [
           {
            "colorbar": {
             "outlinewidth": 0,
             "ticks": ""
            },
            "colorscale": [
             [
              0,
              "#0d0887"
             ],
             [
              0.1111111111111111,
              "#46039f"
             ],
             [
              0.2222222222222222,
              "#7201a8"
             ],
             [
              0.3333333333333333,
              "#9c179e"
             ],
             [
              0.4444444444444444,
              "#bd3786"
             ],
             [
              0.5555555555555556,
              "#d8576b"
             ],
             [
              0.6666666666666666,
              "#ed7953"
             ],
             [
              0.7777777777777778,
              "#fb9f3a"
             ],
             [
              0.8888888888888888,
              "#fdca26"
             ],
             [
              1,
              "#f0f921"
             ]
            ],
            "type": "surface"
           }
          ],
          "table": [
           {
            "cells": {
             "fill": {
              "color": "#EBF0F8"
             },
             "line": {
              "color": "white"
             }
            },
            "header": {
             "fill": {
              "color": "#C8D4E3"
             },
             "line": {
              "color": "white"
             }
            },
            "type": "table"
           }
          ]
         },
         "layout": {
          "annotationdefaults": {
           "arrowcolor": "#2a3f5f",
           "arrowhead": 0,
           "arrowwidth": 1
          },
          "autotypenumbers": "strict",
          "coloraxis": {
           "colorbar": {
            "outlinewidth": 0,
            "ticks": ""
           }
          },
          "colorscale": {
           "diverging": [
            [
             0,
             "#8e0152"
            ],
            [
             0.1,
             "#c51b7d"
            ],
            [
             0.2,
             "#de77ae"
            ],
            [
             0.3,
             "#f1b6da"
            ],
            [
             0.4,
             "#fde0ef"
            ],
            [
             0.5,
             "#f7f7f7"
            ],
            [
             0.6,
             "#e6f5d0"
            ],
            [
             0.7,
             "#b8e186"
            ],
            [
             0.8,
             "#7fbc41"
            ],
            [
             0.9,
             "#4d9221"
            ],
            [
             1,
             "#276419"
            ]
           ],
           "sequential": [
            [
             0,
             "#0d0887"
            ],
            [
             0.1111111111111111,
             "#46039f"
            ],
            [
             0.2222222222222222,
             "#7201a8"
            ],
            [
             0.3333333333333333,
             "#9c179e"
            ],
            [
             0.4444444444444444,
             "#bd3786"
            ],
            [
             0.5555555555555556,
             "#d8576b"
            ],
            [
             0.6666666666666666,
             "#ed7953"
            ],
            [
             0.7777777777777778,
             "#fb9f3a"
            ],
            [
             0.8888888888888888,
             "#fdca26"
            ],
            [
             1,
             "#f0f921"
            ]
           ],
           "sequentialminus": [
            [
             0,
             "#0d0887"
            ],
            [
             0.1111111111111111,
             "#46039f"
            ],
            [
             0.2222222222222222,
             "#7201a8"
            ],
            [
             0.3333333333333333,
             "#9c179e"
            ],
            [
             0.4444444444444444,
             "#bd3786"
            ],
            [
             0.5555555555555556,
             "#d8576b"
            ],
            [
             0.6666666666666666,
             "#ed7953"
            ],
            [
             0.7777777777777778,
             "#fb9f3a"
            ],
            [
             0.8888888888888888,
             "#fdca26"
            ],
            [
             1,
             "#f0f921"
            ]
           ]
          },
          "colorway": [
           "#636efa",
           "#EF553B",
           "#00cc96",
           "#ab63fa",
           "#FFA15A",
           "#19d3f3",
           "#FF6692",
           "#B6E880",
           "#FF97FF",
           "#FECB52"
          ],
          "font": {
           "color": "#2a3f5f"
          },
          "geo": {
           "bgcolor": "white",
           "lakecolor": "white",
           "landcolor": "#E5ECF6",
           "showlakes": true,
           "showland": true,
           "subunitcolor": "white"
          },
          "hoverlabel": {
           "align": "left"
          },
          "hovermode": "closest",
          "mapbox": {
           "style": "light"
          },
          "paper_bgcolor": "white",
          "plot_bgcolor": "#E5ECF6",
          "polar": {
           "angularaxis": {
            "gridcolor": "white",
            "linecolor": "white",
            "ticks": ""
           },
           "bgcolor": "#E5ECF6",
           "radialaxis": {
            "gridcolor": "white",
            "linecolor": "white",
            "ticks": ""
           }
          },
          "scene": {
           "xaxis": {
            "backgroundcolor": "#E5ECF6",
            "gridcolor": "white",
            "gridwidth": 2,
            "linecolor": "white",
            "showbackground": true,
            "ticks": "",
            "zerolinecolor": "white"
           },
           "yaxis": {
            "backgroundcolor": "#E5ECF6",
            "gridcolor": "white",
            "gridwidth": 2,
            "linecolor": "white",
            "showbackground": true,
            "ticks": "",
            "zerolinecolor": "white"
           },
           "zaxis": {
            "backgroundcolor": "#E5ECF6",
            "gridcolor": "white",
            "gridwidth": 2,
            "linecolor": "white",
            "showbackground": true,
            "ticks": "",
            "zerolinecolor": "white"
           }
          },
          "shapedefaults": {
           "line": {
            "color": "#2a3f5f"
           }
          },
          "ternary": {
           "aaxis": {
            "gridcolor": "white",
            "linecolor": "white",
            "ticks": ""
           },
           "baxis": {
            "gridcolor": "white",
            "linecolor": "white",
            "ticks": ""
           },
           "bgcolor": "#E5ECF6",
           "caxis": {
            "gridcolor": "white",
            "linecolor": "white",
            "ticks": ""
           }
          },
          "title": {
           "x": 0.05
          },
          "xaxis": {
           "automargin": true,
           "gridcolor": "white",
           "linecolor": "white",
           "ticks": "",
           "title": {
            "standoff": 15
           },
           "zerolinecolor": "white",
           "zerolinewidth": 2
          },
          "yaxis": {
           "automargin": true,
           "gridcolor": "white",
           "linecolor": "white",
           "ticks": "",
           "title": {
            "standoff": 15
           },
           "zerolinecolor": "white",
           "zerolinewidth": 2
          }
         }
        },
        "title": {
         "text": "Распределение зарплат по грейдам"
        },
        "width": 1000,
        "xaxis": {
         "anchor": "y",
         "domain": [
          0,
          1
         ],
         "title": {
          "text": "Уровень"
         }
        },
        "yaxis": {
         "anchor": "x",
         "domain": [
          0,
          1
         ],
         "title": {
          "text": "Уровень зарплат в тыс. рублях"
         }
        }
       }
      },
      "text/html": [
       "<div>                            <div id=\"b12e8554-a04a-403e-944c-87e8f03c50e3\" class=\"plotly-graph-div\" style=\"height:600px; width:1000px;\"></div>            <script type=\"text/javascript\">                require([\"plotly\"], function(Plotly) {                    window.PLOTLYENV=window.PLOTLYENV || {};                                    if (document.getElementById(\"b12e8554-a04a-403e-944c-87e8f03c50e3\")) {                    Plotly.newPlot(                        \"b12e8554-a04a-403e-944c-87e8f03c50e3\",                        [{\"alignmentgroup\":\"True\",\"hovertemplate\":\"\\u0421\\u043f\\u0435\\u0446\\u0438\\u0430\\u043b\\u044c\\u043d\\u043e\\u0441\\u0442\\u044c=data engineer<br>\\u0423\\u0440\\u043e\\u0432\\u0435\\u043d\\u044c=%{x}<br>\\u0423\\u0440\\u043e\\u0432\\u0435\\u043d\\u044c \\u0437\\u0430\\u0440\\u043f\\u043b\\u0430\\u0442 \\u0432 \\u0442\\u044b\\u0441. \\u0440\\u0443\\u0431\\u043b\\u044f\\u0445=%{y}<extra></extra>\",\"legendgroup\":\"data engineer\",\"marker\":{\"color\":\"#636efa\"},\"name\":\"data engineer\",\"notched\":false,\"offsetgroup\":\"data engineer\",\"orientation\":\"v\",\"showlegend\":true,\"x\":[\"\\u041d\\u0435\\u0442 \\u043e\\u043f\\u044b\\u0442\\u0430\",\"\\u041d\\u0435\\u0442 \\u043e\\u043f\\u044b\\u0442\\u0430\",\"\\u041d\\u0435\\u0442 \\u043e\\u043f\\u044b\\u0442\\u0430\",\"\\u041d\\u0435\\u0442 \\u043e\\u043f\\u044b\\u0442\\u0430\",\"\\u041d\\u0435\\u0442 \\u043e\\u043f\\u044b\\u0442\\u0430\",\"\\u041e\\u0442 1 \\u0433\\u043e\\u0434\\u0430 \\u0434\\u043e 3 \\u043b\\u0435\\u0442\",\"\\u041e\\u0442 1 \\u0433\\u043e\\u0434\\u0430 \\u0434\\u043e 3 \\u043b\\u0435\\u0442\",\"\\u041e\\u0442 1 \\u0433\\u043e\\u0434\\u0430 \\u0434\\u043e 3 \\u043b\\u0435\\u0442\",\"\\u041e\\u0442 1 \\u0433\\u043e\\u0434\\u0430 \\u0434\\u043e 3 \\u043b\\u0435\\u0442\",\"\\u041e\\u0442 1 \\u0433\\u043e\\u0434\\u0430 \\u0434\\u043e 3 \\u043b\\u0435\\u0442\",\"\\u041e\\u0442 1 \\u0433\\u043e\\u0434\\u0430 \\u0434\\u043e 3 \\u043b\\u0435\\u0442\",\"\\u041e\\u0442 1 \\u0433\\u043e\\u0434\\u0430 \\u0434\\u043e 3 \\u043b\\u0435\\u0442\",\"\\u041e\\u0442 1 \\u0433\\u043e\\u0434\\u0430 \\u0434\\u043e 3 \\u043b\\u0435\\u0442\",\"\\u041e\\u0442 1 \\u0433\\u043e\\u0434\\u0430 \\u0434\\u043e 3 \\u043b\\u0435\\u0442\",\"\\u041e\\u0442 1 \\u0433\\u043e\\u0434\\u0430 \\u0434\\u043e 3 \\u043b\\u0435\\u0442\",\"\\u041e\\u0442 1 \\u0433\\u043e\\u0434\\u0430 \\u0434\\u043e 3 \\u043b\\u0435\\u0442\",\"\\u041e\\u0442 1 \\u0433\\u043e\\u0434\\u0430 \\u0434\\u043e 3 \\u043b\\u0435\\u0442\",\"\\u041e\\u0442 1 \\u0433\\u043e\\u0434\\u0430 \\u0434\\u043e 3 \\u043b\\u0435\\u0442\",\"\\u041e\\u0442 1 \\u0433\\u043e\\u0434\\u0430 \\u0434\\u043e 3 \\u043b\\u0435\\u0442\",\"\\u041e\\u0442 1 \\u0433\\u043e\\u0434\\u0430 \\u0434\\u043e 3 \\u043b\\u0435\\u0442\",\"\\u041e\\u0442 1 \\u0433\\u043e\\u0434\\u0430 \\u0434\\u043e 3 \\u043b\\u0435\\u0442\",\"\\u041e\\u0442 1 \\u0433\\u043e\\u0434\\u0430 \\u0434\\u043e 3 \\u043b\\u0435\\u0442\",\"\\u041e\\u0442 3 \\u0434\\u043e 6 \\u043b\\u0435\\u0442\",\"\\u041e\\u0442 3 \\u0434\\u043e 6 \\u043b\\u0435\\u0442\",\"\\u041e\\u0442 3 \\u0434\\u043e 6 \\u043b\\u0435\\u0442\",\"\\u041e\\u0442 3 \\u0434\\u043e 6 \\u043b\\u0435\\u0442\",\"\\u041e\\u0442 3 \\u0434\\u043e 6 \\u043b\\u0435\\u0442\",\"\\u041e\\u0442 3 \\u0434\\u043e 6 \\u043b\\u0435\\u0442\",\"\\u041e\\u0442 3 \\u0434\\u043e 6 \\u043b\\u0435\\u0442\",\"\\u041e\\u0442 3 \\u0434\\u043e 6 \\u043b\\u0435\\u0442\",\"\\u041e\\u0442 3 \\u0434\\u043e 6 \\u043b\\u0435\\u0442\",\"\\u041e\\u0442 3 \\u0434\\u043e 6 \\u043b\\u0435\\u0442\",\"\\u041e\\u0442 3 \\u0434\\u043e 6 \\u043b\\u0435\\u0442\",\"\\u041e\\u0442 3 \\u0434\\u043e 6 \\u043b\\u0435\\u0442\",\"\\u041e\\u0442 3 \\u0434\\u043e 6 \\u043b\\u0435\\u0442\",\"\\u041e\\u0442 3 \\u0434\\u043e 6 \\u043b\\u0435\\u0442\",\"\\u041e\\u0442 3 \\u0434\\u043e 6 \\u043b\\u0435\\u0442\",\"\\u041d\\u0435\\u0442 \\u043e\\u043f\\u044b\\u0442\\u0430\",\"\\u041d\\u0435\\u0442 \\u043e\\u043f\\u044b\\u0442\\u0430\",\"\\u041d\\u0435\\u0442 \\u043e\\u043f\\u044b\\u0442\\u0430\",\"\\u041d\\u0435\\u0442 \\u043e\\u043f\\u044b\\u0442\\u0430\",\"\\u041d\\u0435\\u0442 \\u043e\\u043f\\u044b\\u0442\\u0430\",\"\\u041e\\u0442 1 \\u0433\\u043e\\u0434\\u0430 \\u0434\\u043e 3 \\u043b\\u0435\\u0442\",\"\\u041e\\u0442 1 \\u0433\\u043e\\u0434\\u0430 \\u0434\\u043e 3 \\u043b\\u0435\\u0442\",\"\\u041e\\u0442 1 \\u0433\\u043e\\u0434\\u0430 \\u0434\\u043e 3 \\u043b\\u0435\\u0442\",\"\\u041e\\u0442 1 \\u0433\\u043e\\u0434\\u0430 \\u0434\\u043e 3 \\u043b\\u0435\\u0442\",\"\\u041e\\u0442 1 \\u0433\\u043e\\u0434\\u0430 \\u0434\\u043e 3 \\u043b\\u0435\\u0442\",\"\\u041e\\u0442 1 \\u0433\\u043e\\u0434\\u0430 \\u0434\\u043e 3 \\u043b\\u0435\\u0442\",\"\\u041e\\u0442 1 \\u0433\\u043e\\u0434\\u0430 \\u0434\\u043e 3 \\u043b\\u0435\\u0442\",\"\\u041e\\u0442 1 \\u0433\\u043e\\u0434\\u0430 \\u0434\\u043e 3 \\u043b\\u0435\\u0442\",\"\\u041e\\u0442 1 \\u0433\\u043e\\u0434\\u0430 \\u0434\\u043e 3 \\u043b\\u0435\\u0442\",\"\\u041e\\u0442 1 \\u0433\\u043e\\u0434\\u0430 \\u0434\\u043e 3 \\u043b\\u0435\\u0442\",\"\\u041e\\u0442 1 \\u0433\\u043e\\u0434\\u0430 \\u0434\\u043e 3 \\u043b\\u0435\\u0442\",\"\\u041e\\u0442 1 \\u0433\\u043e\\u0434\\u0430 \\u0434\\u043e 3 \\u043b\\u0435\\u0442\",\"\\u041e\\u0442 1 \\u0433\\u043e\\u0434\\u0430 \\u0434\\u043e 3 \\u043b\\u0435\\u0442\",\"\\u041e\\u0442 1 \\u0433\\u043e\\u0434\\u0430 \\u0434\\u043e 3 \\u043b\\u0435\\u0442\",\"\\u041e\\u0442 1 \\u0433\\u043e\\u0434\\u0430 \\u0434\\u043e 3 \\u043b\\u0435\\u0442\",\"\\u041e\\u0442 1 \\u0433\\u043e\\u0434\\u0430 \\u0434\\u043e 3 \\u043b\\u0435\\u0442\",\"\\u041e\\u0442 1 \\u0433\\u043e\\u0434\\u0430 \\u0434\\u043e 3 \\u043b\\u0435\\u0442\",\"\\u041e\\u0442 3 \\u0434\\u043e 6 \\u043b\\u0435\\u0442\",\"\\u041e\\u0442 3 \\u0434\\u043e 6 \\u043b\\u0435\\u0442\",\"\\u041e\\u0442 3 \\u0434\\u043e 6 \\u043b\\u0435\\u0442\",\"\\u041e\\u0442 3 \\u0434\\u043e 6 \\u043b\\u0435\\u0442\",\"\\u041e\\u0442 3 \\u0434\\u043e 6 \\u043b\\u0435\\u0442\",\"\\u041e\\u0442 3 \\u0434\\u043e 6 \\u043b\\u0435\\u0442\",\"\\u041e\\u0442 3 \\u0434\\u043e 6 \\u043b\\u0435\\u0442\",\"\\u041e\\u0442 3 \\u0434\\u043e 6 \\u043b\\u0435\\u0442\",\"\\u041e\\u0442 3 \\u0434\\u043e 6 \\u043b\\u0435\\u0442\",\"\\u041e\\u0442 3 \\u0434\\u043e 6 \\u043b\\u0435\\u0442\",\"\\u041e\\u0442 3 \\u0434\\u043e 6 \\u043b\\u0435\\u0442\",\"\\u041e\\u0442 3 \\u0434\\u043e 6 \\u043b\\u0435\\u0442\",\"\\u041e\\u0442 3 \\u0434\\u043e 6 \\u043b\\u0435\\u0442\",\"\\u041e\\u0442 3 \\u0434\\u043e 6 \\u043b\\u0435\\u0442\",\"\\u041e\\u0442 3 \\u0434\\u043e 6 \\u043b\\u0435\\u0442\"],\"x0\":\" \",\"xaxis\":\"x\",\"y\":[100000.0,174000.0,null,200000.0,69600.0,261000.0,150000.0,null,130500.0,180000.0,180000.0,null,150000.0,200000.0,88000.0,null,null,110000.0,87000.0,130500.0,180000.0,147900.0,300000.0,null,261000.0,200000.0,270000.0,null,230769.0,null,304500.0,43500.0,200000.0,200000.0,null,200000.0,200000.0,150000.0,217500.0,191400.0,null,null,null,250000.0,300150.0,null,null,200000.0,261000.0,null,null,166000.0,156600.0,391500.0,150000.0,null,165300.0,null,304500.0,null,191400.0,null,400000.0,null,423076.0,null,384615.0,435000.0,435000.0,500000.0,350000.0,400000.0,null,370000.0],\"y0\":\" \",\"yaxis\":\"y\",\"type\":\"box\"},{\"alignmentgroup\":\"True\",\"hovertemplate\":\"\\u0421\\u043f\\u0435\\u0446\\u0438\\u0430\\u043b\\u044c\\u043d\\u043e\\u0441\\u0442\\u044c=data scientist<br>\\u0423\\u0440\\u043e\\u0432\\u0435\\u043d\\u044c=%{x}<br>\\u0423\\u0440\\u043e\\u0432\\u0435\\u043d\\u044c \\u0437\\u0430\\u0440\\u043f\\u043b\\u0430\\u0442 \\u0432 \\u0442\\u044b\\u0441. \\u0440\\u0443\\u0431\\u043b\\u044f\\u0445=%{y}<extra></extra>\",\"legendgroup\":\"data scientist\",\"marker\":{\"color\":\"#EF553B\"},\"name\":\"data scientist\",\"notched\":false,\"offsetgroup\":\"data scientist\",\"orientation\":\"v\",\"showlegend\":true,\"x\":[\"\\u041d\\u0435\\u0442 \\u043e\\u043f\\u044b\\u0442\\u0430\",\"\\u041d\\u0435\\u0442 \\u043e\\u043f\\u044b\\u0442\\u0430\",\"\\u041d\\u0435\\u0442 \\u043e\\u043f\\u044b\\u0442\\u0430\",\"\\u041d\\u0435\\u0442 \\u043e\\u043f\\u044b\\u0442\\u0430\",\"\\u041d\\u0435\\u0442 \\u043e\\u043f\\u044b\\u0442\\u0430\",\"\\u041e\\u0442 1 \\u0433\\u043e\\u0434\\u0430 \\u0434\\u043e 3 \\u043b\\u0435\\u0442\",\"\\u041e\\u0442 1 \\u0433\\u043e\\u0434\\u0430 \\u0434\\u043e 3 \\u043b\\u0435\\u0442\",\"\\u041e\\u0442 1 \\u0433\\u043e\\u0434\\u0430 \\u0434\\u043e 3 \\u043b\\u0435\\u0442\",\"\\u041e\\u0442 1 \\u0433\\u043e\\u0434\\u0430 \\u0434\\u043e 3 \\u043b\\u0435\\u0442\",\"\\u041e\\u0442 1 \\u0433\\u043e\\u0434\\u0430 \\u0434\\u043e 3 \\u043b\\u0435\\u0442\",\"\\u041e\\u0442 1 \\u0433\\u043e\\u0434\\u0430 \\u0434\\u043e 3 \\u043b\\u0435\\u0442\",\"\\u041e\\u0442 1 \\u0433\\u043e\\u0434\\u0430 \\u0434\\u043e 3 \\u043b\\u0435\\u0442\",\"\\u041e\\u0442 1 \\u0433\\u043e\\u0434\\u0430 \\u0434\\u043e 3 \\u043b\\u0435\\u0442\",\"\\u041e\\u0442 1 \\u0433\\u043e\\u0434\\u0430 \\u0434\\u043e 3 \\u043b\\u0435\\u0442\",\"\\u041e\\u0442 1 \\u0433\\u043e\\u0434\\u0430 \\u0434\\u043e 3 \\u043b\\u0435\\u0442\",\"\\u041e\\u0442 1 \\u0433\\u043e\\u0434\\u0430 \\u0434\\u043e 3 \\u043b\\u0435\\u0442\",\"\\u041e\\u0442 1 \\u0433\\u043e\\u0434\\u0430 \\u0434\\u043e 3 \\u043b\\u0435\\u0442\",\"\\u041e\\u0442 1 \\u0433\\u043e\\u0434\\u0430 \\u0434\\u043e 3 \\u043b\\u0435\\u0442\",\"\\u041e\\u0442 1 \\u0433\\u043e\\u0434\\u0430 \\u0434\\u043e 3 \\u043b\\u0435\\u0442\",\"\\u041e\\u0442 3 \\u0434\\u043e 6 \\u043b\\u0435\\u0442\",\"\\u041e\\u0442 3 \\u0434\\u043e 6 \\u043b\\u0435\\u0442\",\"\\u041e\\u0442 3 \\u0434\\u043e 6 \\u043b\\u0435\\u0442\",\"\\u041e\\u0442 3 \\u0434\\u043e 6 \\u043b\\u0435\\u0442\",\"\\u041e\\u0442 3 \\u0434\\u043e 6 \\u043b\\u0435\\u0442\",\"\\u041e\\u0442 3 \\u0434\\u043e 6 \\u043b\\u0435\\u0442\",\"\\u041e\\u0442 3 \\u0434\\u043e 6 \\u043b\\u0435\\u0442\",\"\\u041e\\u0442 3 \\u0434\\u043e 6 \\u043b\\u0435\\u0442\",\"\\u041e\\u0442 3 \\u0434\\u043e 6 \\u043b\\u0435\\u0442\",\"\\u041e\\u0442 3 \\u0434\\u043e 6 \\u043b\\u0435\\u0442\",\"\\u041e\\u0442 3 \\u0434\\u043e 6 \\u043b\\u0435\\u0442\",\"\\u041e\\u0442 3 \\u0434\\u043e 6 \\u043b\\u0435\\u0442\",\"\\u041e\\u0442 3 \\u0434\\u043e 6 \\u043b\\u0435\\u0442\",\"\\u041e\\u0442 3 \\u0434\\u043e 6 \\u043b\\u0435\\u0442\",\"\\u041e\\u0442 3 \\u0434\\u043e 6 \\u043b\\u0435\\u0442\",\"\\u041e\\u0442 3 \\u0434\\u043e 6 \\u043b\\u0435\\u0442\",\"\\u041d\\u0435\\u0442 \\u043e\\u043f\\u044b\\u0442\\u0430\",\"\\u041d\\u0435\\u0442 \\u043e\\u043f\\u044b\\u0442\\u0430\",\"\\u041d\\u0435\\u0442 \\u043e\\u043f\\u044b\\u0442\\u0430\",\"\\u041d\\u0435\\u0442 \\u043e\\u043f\\u044b\\u0442\\u0430\",\"\\u041d\\u0435\\u0442 \\u043e\\u043f\\u044b\\u0442\\u0430\",\"\\u041e\\u0442 1 \\u0433\\u043e\\u0434\\u0430 \\u0434\\u043e 3 \\u043b\\u0435\\u0442\",\"\\u041e\\u0442 1 \\u0433\\u043e\\u0434\\u0430 \\u0434\\u043e 3 \\u043b\\u0435\\u0442\",\"\\u041e\\u0442 1 \\u0433\\u043e\\u0434\\u0430 \\u0434\\u043e 3 \\u043b\\u0435\\u0442\",\"\\u041e\\u0442 1 \\u0433\\u043e\\u0434\\u0430 \\u0434\\u043e 3 \\u043b\\u0435\\u0442\",\"\\u041e\\u0442 1 \\u0433\\u043e\\u0434\\u0430 \\u0434\\u043e 3 \\u043b\\u0435\\u0442\",\"\\u041e\\u0442 1 \\u0433\\u043e\\u0434\\u0430 \\u0434\\u043e 3 \\u043b\\u0435\\u0442\",\"\\u041e\\u0442 1 \\u0433\\u043e\\u0434\\u0430 \\u0434\\u043e 3 \\u043b\\u0435\\u0442\",\"\\u041e\\u0442 1 \\u0433\\u043e\\u0434\\u0430 \\u0434\\u043e 3 \\u043b\\u0435\\u0442\",\"\\u041e\\u0442 1 \\u0433\\u043e\\u0434\\u0430 \\u0434\\u043e 3 \\u043b\\u0435\\u0442\",\"\\u041e\\u0442 1 \\u0433\\u043e\\u0434\\u0430 \\u0434\\u043e 3 \\u043b\\u0435\\u0442\",\"\\u041e\\u0442 1 \\u0433\\u043e\\u0434\\u0430 \\u0434\\u043e 3 \\u043b\\u0435\\u0442\",\"\\u041e\\u0442 1 \\u0433\\u043e\\u0434\\u0430 \\u0434\\u043e 3 \\u043b\\u0435\\u0442\",\"\\u041e\\u0442 1 \\u0433\\u043e\\u0434\\u0430 \\u0434\\u043e 3 \\u043b\\u0435\\u0442\",\"\\u041e\\u0442 1 \\u0433\\u043e\\u0434\\u0430 \\u0434\\u043e 3 \\u043b\\u0435\\u0442\",\"\\u041e\\u0442 3 \\u0434\\u043e 6 \\u043b\\u0435\\u0442\",\"\\u041e\\u0442 3 \\u0434\\u043e 6 \\u043b\\u0435\\u0442\",\"\\u041e\\u0442 3 \\u0434\\u043e 6 \\u043b\\u0435\\u0442\",\"\\u041e\\u0442 3 \\u0434\\u043e 6 \\u043b\\u0435\\u0442\",\"\\u041e\\u0442 3 \\u0434\\u043e 6 \\u043b\\u0435\\u0442\",\"\\u041e\\u0442 3 \\u0434\\u043e 6 \\u043b\\u0435\\u0442\",\"\\u041e\\u0442 3 \\u0434\\u043e 6 \\u043b\\u0435\\u0442\",\"\\u041e\\u0442 3 \\u0434\\u043e 6 \\u043b\\u0435\\u0442\",\"\\u041e\\u0442 3 \\u0434\\u043e 6 \\u043b\\u0435\\u0442\",\"\\u041e\\u0442 3 \\u0434\\u043e 6 \\u043b\\u0435\\u0442\",\"\\u041e\\u0442 3 \\u0434\\u043e 6 \\u043b\\u0435\\u0442\",\"\\u041e\\u0442 3 \\u0434\\u043e 6 \\u043b\\u0435\\u0442\",\"\\u041e\\u0442 3 \\u0434\\u043e 6 \\u043b\\u0435\\u0442\",\"\\u041e\\u0442 3 \\u0434\\u043e 6 \\u043b\\u0435\\u0442\",\"\\u041e\\u0442 3 \\u0434\\u043e 6 \\u043b\\u0435\\u0442\",\"\\u041e\\u0442 3 \\u0434\\u043e 6 \\u043b\\u0435\\u0442\"],\"x0\":\" \",\"xaxis\":\"x\",\"y\":[156600.0,null,52200.0,79090.0,null,150000.0,130500.0,null,270000.0,200000.0,80000.0,200000.0,52200.0,130000.0,115384.0,104400.0,130500.0,null,87000.0,null,220000.0,300000.0,null,200000.0,300000.0,153846.0,174000.0,217500.0,200000.0,300000.0,null,230000.0,null,200000.0,300000.0,261000.0,280000.0,174000.0,118636.0,180000.0,null,261000.0,350000.0,null,null,100000.0,250000.0,174000.0,170000.0,230769.0,null,261000.0,350000.0,174000.0,435000.0,300000.0,null,300000.0,250000.0,450000.0,230769.0,null,null,300000.0,400000.0,435000.0,null,139200.0,350000.0,450000.0],\"y0\":\" \",\"yaxis\":\"y\",\"type\":\"box\"},{\"alignmentgroup\":\"True\",\"hovertemplate\":\"\\u0421\\u043f\\u0435\\u0446\\u0438\\u0430\\u043b\\u044c\\u043d\\u043e\\u0441\\u0442\\u044c=data analyst<br>\\u0423\\u0440\\u043e\\u0432\\u0435\\u043d\\u044c=%{x}<br>\\u0423\\u0440\\u043e\\u0432\\u0435\\u043d\\u044c \\u0437\\u0430\\u0440\\u043f\\u043b\\u0430\\u0442 \\u0432 \\u0442\\u044b\\u0441. \\u0440\\u0443\\u0431\\u043b\\u044f\\u0445=%{y}<extra></extra>\",\"legendgroup\":\"data analyst\",\"marker\":{\"color\":\"#00cc96\"},\"name\":\"data analyst\",\"notched\":false,\"offsetgroup\":\"data analyst\",\"orientation\":\"v\",\"showlegend\":true,\"x\":[\"\\u041d\\u0435\\u0442 \\u043e\\u043f\\u044b\\u0442\\u0430\",\"\\u041d\\u0435\\u0442 \\u043e\\u043f\\u044b\\u0442\\u0430\",\"\\u041d\\u0435\\u0442 \\u043e\\u043f\\u044b\\u0442\\u0430\",\"\\u041e\\u0442 1 \\u0433\\u043e\\u0434\\u0430 \\u0434\\u043e 3 \\u043b\\u0435\\u0442\",\"\\u041e\\u0442 1 \\u0433\\u043e\\u0434\\u0430 \\u0434\\u043e 3 \\u043b\\u0435\\u0442\",\"\\u041e\\u0442 1 \\u0433\\u043e\\u0434\\u0430 \\u0434\\u043e 3 \\u043b\\u0435\\u0442\",\"\\u041e\\u0442 1 \\u0433\\u043e\\u0434\\u0430 \\u0434\\u043e 3 \\u043b\\u0435\\u0442\",\"\\u041e\\u0442 1 \\u0433\\u043e\\u0434\\u0430 \\u0434\\u043e 3 \\u043b\\u0435\\u0442\",\"\\u041e\\u0442 1 \\u0433\\u043e\\u0434\\u0430 \\u0434\\u043e 3 \\u043b\\u0435\\u0442\",\"\\u041e\\u0442 1 \\u0433\\u043e\\u0434\\u0430 \\u0434\\u043e 3 \\u043b\\u0435\\u0442\",\"\\u041e\\u0442 1 \\u0433\\u043e\\u0434\\u0430 \\u0434\\u043e 3 \\u043b\\u0435\\u0442\",\"\\u041e\\u0442 1 \\u0433\\u043e\\u0434\\u0430 \\u0434\\u043e 3 \\u043b\\u0435\\u0442\",\"\\u041e\\u0442 1 \\u0433\\u043e\\u0434\\u0430 \\u0434\\u043e 3 \\u043b\\u0435\\u0442\",\"\\u041e\\u0442 1 \\u0433\\u043e\\u0434\\u0430 \\u0434\\u043e 3 \\u043b\\u0435\\u0442\",\"\\u041e\\u0442 1 \\u0433\\u043e\\u0434\\u0430 \\u0434\\u043e 3 \\u043b\\u0435\\u0442\",\"\\u041e\\u0442 1 \\u0433\\u043e\\u0434\\u0430 \\u0434\\u043e 3 \\u043b\\u0435\\u0442\",\"\\u041e\\u0442 1 \\u0433\\u043e\\u0434\\u0430 \\u0434\\u043e 3 \\u043b\\u0435\\u0442\",\"\\u041e\\u0442 1 \\u0433\\u043e\\u0434\\u0430 \\u0434\\u043e 3 \\u043b\\u0435\\u0442\",\"\\u041e\\u0442 1 \\u0433\\u043e\\u0434\\u0430 \\u0434\\u043e 3 \\u043b\\u0435\\u0442\",\"\\u041e\\u0442 1 \\u0433\\u043e\\u0434\\u0430 \\u0434\\u043e 3 \\u043b\\u0435\\u0442\",\"\\u041e\\u0442 1 \\u0433\\u043e\\u0434\\u0430 \\u0434\\u043e 3 \\u043b\\u0435\\u0442\",\"\\u041e\\u0442 1 \\u0433\\u043e\\u0434\\u0430 \\u0434\\u043e 3 \\u043b\\u0435\\u0442\",\"\\u041e\\u0442 1 \\u0433\\u043e\\u0434\\u0430 \\u0434\\u043e 3 \\u043b\\u0435\\u0442\",\"\\u041e\\u0442 1 \\u0433\\u043e\\u0434\\u0430 \\u0434\\u043e 3 \\u043b\\u0435\\u0442\",\"\\u041e\\u0442 1 \\u0433\\u043e\\u0434\\u0430 \\u0434\\u043e 3 \\u043b\\u0435\\u0442\",\"\\u041e\\u0442 1 \\u0433\\u043e\\u0434\\u0430 \\u0434\\u043e 3 \\u043b\\u0435\\u0442\",\"\\u041e\\u0442 3 \\u0434\\u043e 6 \\u043b\\u0435\\u0442\",\"\\u041e\\u0442 3 \\u0434\\u043e 6 \\u043b\\u0435\\u0442\",\"\\u041e\\u0442 3 \\u0434\\u043e 6 \\u043b\\u0435\\u0442\",\"\\u041e\\u0442 3 \\u0434\\u043e 6 \\u043b\\u0435\\u0442\",\"\\u041e\\u0442 3 \\u0434\\u043e 6 \\u043b\\u0435\\u0442\",\"\\u041e\\u0442 3 \\u0434\\u043e 6 \\u043b\\u0435\\u0442\",\"\\u041e\\u0442 3 \\u0434\\u043e 6 \\u043b\\u0435\\u0442\",\"\\u041e\\u0442 3 \\u0434\\u043e 6 \\u043b\\u0435\\u0442\",\"\\u041d\\u0435\\u0442 \\u043e\\u043f\\u044b\\u0442\\u0430\",\"\\u041d\\u0435\\u0442 \\u043e\\u043f\\u044b\\u0442\\u0430\",\"\\u041d\\u0435\\u0442 \\u043e\\u043f\\u044b\\u0442\\u0430\",\"\\u041e\\u0442 1 \\u0433\\u043e\\u0434\\u0430 \\u0434\\u043e 3 \\u043b\\u0435\\u0442\",\"\\u041e\\u0442 1 \\u0433\\u043e\\u0434\\u0430 \\u0434\\u043e 3 \\u043b\\u0435\\u0442\",\"\\u041e\\u0442 1 \\u0433\\u043e\\u0434\\u0430 \\u0434\\u043e 3 \\u043b\\u0435\\u0442\",\"\\u041e\\u0442 1 \\u0433\\u043e\\u0434\\u0430 \\u0434\\u043e 3 \\u043b\\u0435\\u0442\",\"\\u041e\\u0442 1 \\u0433\\u043e\\u0434\\u0430 \\u0434\\u043e 3 \\u043b\\u0435\\u0442\",\"\\u041e\\u0442 1 \\u0433\\u043e\\u0434\\u0430 \\u0434\\u043e 3 \\u043b\\u0435\\u0442\",\"\\u041e\\u0442 1 \\u0433\\u043e\\u0434\\u0430 \\u0434\\u043e 3 \\u043b\\u0435\\u0442\",\"\\u041e\\u0442 1 \\u0433\\u043e\\u0434\\u0430 \\u0434\\u043e 3 \\u043b\\u0435\\u0442\",\"\\u041e\\u0442 1 \\u0433\\u043e\\u0434\\u0430 \\u0434\\u043e 3 \\u043b\\u0435\\u0442\",\"\\u041e\\u0442 1 \\u0433\\u043e\\u0434\\u0430 \\u0434\\u043e 3 \\u043b\\u0435\\u0442\",\"\\u041e\\u0442 1 \\u0433\\u043e\\u0434\\u0430 \\u0434\\u043e 3 \\u043b\\u0435\\u0442\",\"\\u041e\\u0442 1 \\u0433\\u043e\\u0434\\u0430 \\u0434\\u043e 3 \\u043b\\u0435\\u0442\",\"\\u041e\\u0442 1 \\u0433\\u043e\\u0434\\u0430 \\u0434\\u043e 3 \\u043b\\u0435\\u0442\",\"\\u041e\\u0442 1 \\u0433\\u043e\\u0434\\u0430 \\u0434\\u043e 3 \\u043b\\u0435\\u0442\",\"\\u041e\\u0442 1 \\u0433\\u043e\\u0434\\u0430 \\u0434\\u043e 3 \\u043b\\u0435\\u0442\",\"\\u041e\\u0442 1 \\u0433\\u043e\\u0434\\u0430 \\u0434\\u043e 3 \\u043b\\u0435\\u0442\",\"\\u041e\\u0442 1 \\u0433\\u043e\\u0434\\u0430 \\u0434\\u043e 3 \\u043b\\u0435\\u0442\",\"\\u041e\\u0442 1 \\u0433\\u043e\\u0434\\u0430 \\u0434\\u043e 3 \\u043b\\u0435\\u0442\",\"\\u041e\\u0442 1 \\u0433\\u043e\\u0434\\u0430 \\u0434\\u043e 3 \\u043b\\u0435\\u0442\",\"\\u041e\\u0442 1 \\u0433\\u043e\\u0434\\u0430 \\u0434\\u043e 3 \\u043b\\u0435\\u0442\",\"\\u041e\\u0442 1 \\u0433\\u043e\\u0434\\u0430 \\u0434\\u043e 3 \\u043b\\u0435\\u0442\",\"\\u041e\\u0442 1 \\u0433\\u043e\\u0434\\u0430 \\u0434\\u043e 3 \\u043b\\u0435\\u0442\",\"\\u041e\\u0442 1 \\u0433\\u043e\\u0434\\u0430 \\u0434\\u043e 3 \\u043b\\u0435\\u0442\",\"\\u041e\\u0442 3 \\u0434\\u043e 6 \\u043b\\u0435\\u0442\",\"\\u041e\\u0442 3 \\u0434\\u043e 6 \\u043b\\u0435\\u0442\",\"\\u041e\\u0442 3 \\u0434\\u043e 6 \\u043b\\u0435\\u0442\",\"\\u041e\\u0442 3 \\u0434\\u043e 6 \\u043b\\u0435\\u0442\",\"\\u041e\\u0442 3 \\u0434\\u043e 6 \\u043b\\u0435\\u0442\",\"\\u041e\\u0442 3 \\u0434\\u043e 6 \\u043b\\u0435\\u0442\",\"\\u041e\\u0442 3 \\u0434\\u043e 6 \\u043b\\u0435\\u0442\",\"\\u041e\\u0442 3 \\u0434\\u043e 6 \\u043b\\u0435\\u0442\"],\"x0\":\" \",\"xaxis\":\"x\",\"y\":[40000.0,100000.0,null,null,200000.0,139200.0,104400.0,140000.0,174000.0,104400.0,80000.0,200000.0,174000.0,160000.0,153846.0,200769.0,null,220000.0,null,156600.0,null,150000.0,null,147900.0,58800.0,120000.0,237272.0,280000.0,150000.0,200000.0,null,200769.0,250000.0,217500.0,70000.0,140000.0,40000.0,49155.0,null,null,130500.0,200000.0,217500.0,130500.0,120000.0,null,348000.0,null,null,468461.0,80000.0,null,66923.0,234900.0,180000.0,null,234900.0,null,73400.0,null,395454.0,370000.0,220000.0,null,250000.0,267692.0,null,null],\"y0\":\" \",\"yaxis\":\"y\",\"type\":\"box\"}],                        {\"template\":{\"data\":{\"bar\":[{\"error_x\":{\"color\":\"#2a3f5f\"},\"error_y\":{\"color\":\"#2a3f5f\"},\"marker\":{\"line\":{\"color\":\"#E5ECF6\",\"width\":0.5},\"pattern\":{\"fillmode\":\"overlay\",\"size\":10,\"solidity\":0.2}},\"type\":\"bar\"}],\"barpolar\":[{\"marker\":{\"line\":{\"color\":\"#E5ECF6\",\"width\":0.5},\"pattern\":{\"fillmode\":\"overlay\",\"size\":10,\"solidity\":0.2}},\"type\":\"barpolar\"}],\"carpet\":[{\"aaxis\":{\"endlinecolor\":\"#2a3f5f\",\"gridcolor\":\"white\",\"linecolor\":\"white\",\"minorgridcolor\":\"white\",\"startlinecolor\":\"#2a3f5f\"},\"baxis\":{\"endlinecolor\":\"#2a3f5f\",\"gridcolor\":\"white\",\"linecolor\":\"white\",\"minorgridcolor\":\"white\",\"startlinecolor\":\"#2a3f5f\"},\"type\":\"carpet\"}],\"choropleth\":[{\"colorbar\":{\"outlinewidth\":0,\"ticks\":\"\"},\"type\":\"choropleth\"}],\"contour\":[{\"colorbar\":{\"outlinewidth\":0,\"ticks\":\"\"},\"colorscale\":[[0.0,\"#0d0887\"],[0.1111111111111111,\"#46039f\"],[0.2222222222222222,\"#7201a8\"],[0.3333333333333333,\"#9c179e\"],[0.4444444444444444,\"#bd3786\"],[0.5555555555555556,\"#d8576b\"],[0.6666666666666666,\"#ed7953\"],[0.7777777777777778,\"#fb9f3a\"],[0.8888888888888888,\"#fdca26\"],[1.0,\"#f0f921\"]],\"type\":\"contour\"}],\"contourcarpet\":[{\"colorbar\":{\"outlinewidth\":0,\"ticks\":\"\"},\"type\":\"contourcarpet\"}],\"heatmap\":[{\"colorbar\":{\"outlinewidth\":0,\"ticks\":\"\"},\"colorscale\":[[0.0,\"#0d0887\"],[0.1111111111111111,\"#46039f\"],[0.2222222222222222,\"#7201a8\"],[0.3333333333333333,\"#9c179e\"],[0.4444444444444444,\"#bd3786\"],[0.5555555555555556,\"#d8576b\"],[0.6666666666666666,\"#ed7953\"],[0.7777777777777778,\"#fb9f3a\"],[0.8888888888888888,\"#fdca26\"],[1.0,\"#f0f921\"]],\"type\":\"heatmap\"}],\"heatmapgl\":[{\"colorbar\":{\"outlinewidth\":0,\"ticks\":\"\"},\"colorscale\":[[0.0,\"#0d0887\"],[0.1111111111111111,\"#46039f\"],[0.2222222222222222,\"#7201a8\"],[0.3333333333333333,\"#9c179e\"],[0.4444444444444444,\"#bd3786\"],[0.5555555555555556,\"#d8576b\"],[0.6666666666666666,\"#ed7953\"],[0.7777777777777778,\"#fb9f3a\"],[0.8888888888888888,\"#fdca26\"],[1.0,\"#f0f921\"]],\"type\":\"heatmapgl\"}],\"histogram\":[{\"marker\":{\"pattern\":{\"fillmode\":\"overlay\",\"size\":10,\"solidity\":0.2}},\"type\":\"histogram\"}],\"histogram2d\":[{\"colorbar\":{\"outlinewidth\":0,\"ticks\":\"\"},\"colorscale\":[[0.0,\"#0d0887\"],[0.1111111111111111,\"#46039f\"],[0.2222222222222222,\"#7201a8\"],[0.3333333333333333,\"#9c179e\"],[0.4444444444444444,\"#bd3786\"],[0.5555555555555556,\"#d8576b\"],[0.6666666666666666,\"#ed7953\"],[0.7777777777777778,\"#fb9f3a\"],[0.8888888888888888,\"#fdca26\"],[1.0,\"#f0f921\"]],\"type\":\"histogram2d\"}],\"histogram2dcontour\":[{\"colorbar\":{\"outlinewidth\":0,\"ticks\":\"\"},\"colorscale\":[[0.0,\"#0d0887\"],[0.1111111111111111,\"#46039f\"],[0.2222222222222222,\"#7201a8\"],[0.3333333333333333,\"#9c179e\"],[0.4444444444444444,\"#bd3786\"],[0.5555555555555556,\"#d8576b\"],[0.6666666666666666,\"#ed7953\"],[0.7777777777777778,\"#fb9f3a\"],[0.8888888888888888,\"#fdca26\"],[1.0,\"#f0f921\"]],\"type\":\"histogram2dcontour\"}],\"mesh3d\":[{\"colorbar\":{\"outlinewidth\":0,\"ticks\":\"\"},\"type\":\"mesh3d\"}],\"parcoords\":[{\"line\":{\"colorbar\":{\"outlinewidth\":0,\"ticks\":\"\"}},\"type\":\"parcoords\"}],\"pie\":[{\"automargin\":true,\"type\":\"pie\"}],\"scatter\":[{\"marker\":{\"colorbar\":{\"outlinewidth\":0,\"ticks\":\"\"}},\"type\":\"scatter\"}],\"scatter3d\":[{\"line\":{\"colorbar\":{\"outlinewidth\":0,\"ticks\":\"\"}},\"marker\":{\"colorbar\":{\"outlinewidth\":0,\"ticks\":\"\"}},\"type\":\"scatter3d\"}],\"scattercarpet\":[{\"marker\":{\"colorbar\":{\"outlinewidth\":0,\"ticks\":\"\"}},\"type\":\"scattercarpet\"}],\"scattergeo\":[{\"marker\":{\"colorbar\":{\"outlinewidth\":0,\"ticks\":\"\"}},\"type\":\"scattergeo\"}],\"scattergl\":[{\"marker\":{\"colorbar\":{\"outlinewidth\":0,\"ticks\":\"\"}},\"type\":\"scattergl\"}],\"scattermapbox\":[{\"marker\":{\"colorbar\":{\"outlinewidth\":0,\"ticks\":\"\"}},\"type\":\"scattermapbox\"}],\"scatterpolar\":[{\"marker\":{\"colorbar\":{\"outlinewidth\":0,\"ticks\":\"\"}},\"type\":\"scatterpolar\"}],\"scatterpolargl\":[{\"marker\":{\"colorbar\":{\"outlinewidth\":0,\"ticks\":\"\"}},\"type\":\"scatterpolargl\"}],\"scatterternary\":[{\"marker\":{\"colorbar\":{\"outlinewidth\":0,\"ticks\":\"\"}},\"type\":\"scatterternary\"}],\"surface\":[{\"colorbar\":{\"outlinewidth\":0,\"ticks\":\"\"},\"colorscale\":[[0.0,\"#0d0887\"],[0.1111111111111111,\"#46039f\"],[0.2222222222222222,\"#7201a8\"],[0.3333333333333333,\"#9c179e\"],[0.4444444444444444,\"#bd3786\"],[0.5555555555555556,\"#d8576b\"],[0.6666666666666666,\"#ed7953\"],[0.7777777777777778,\"#fb9f3a\"],[0.8888888888888888,\"#fdca26\"],[1.0,\"#f0f921\"]],\"type\":\"surface\"}],\"table\":[{\"cells\":{\"fill\":{\"color\":\"#EBF0F8\"},\"line\":{\"color\":\"white\"}},\"header\":{\"fill\":{\"color\":\"#C8D4E3\"},\"line\":{\"color\":\"white\"}},\"type\":\"table\"}]},\"layout\":{\"annotationdefaults\":{\"arrowcolor\":\"#2a3f5f\",\"arrowhead\":0,\"arrowwidth\":1},\"autotypenumbers\":\"strict\",\"coloraxis\":{\"colorbar\":{\"outlinewidth\":0,\"ticks\":\"\"}},\"colorscale\":{\"diverging\":[[0,\"#8e0152\"],[0.1,\"#c51b7d\"],[0.2,\"#de77ae\"],[0.3,\"#f1b6da\"],[0.4,\"#fde0ef\"],[0.5,\"#f7f7f7\"],[0.6,\"#e6f5d0\"],[0.7,\"#b8e186\"],[0.8,\"#7fbc41\"],[0.9,\"#4d9221\"],[1,\"#276419\"]],\"sequential\":[[0.0,\"#0d0887\"],[0.1111111111111111,\"#46039f\"],[0.2222222222222222,\"#7201a8\"],[0.3333333333333333,\"#9c179e\"],[0.4444444444444444,\"#bd3786\"],[0.5555555555555556,\"#d8576b\"],[0.6666666666666666,\"#ed7953\"],[0.7777777777777778,\"#fb9f3a\"],[0.8888888888888888,\"#fdca26\"],[1.0,\"#f0f921\"]],\"sequentialminus\":[[0.0,\"#0d0887\"],[0.1111111111111111,\"#46039f\"],[0.2222222222222222,\"#7201a8\"],[0.3333333333333333,\"#9c179e\"],[0.4444444444444444,\"#bd3786\"],[0.5555555555555556,\"#d8576b\"],[0.6666666666666666,\"#ed7953\"],[0.7777777777777778,\"#fb9f3a\"],[0.8888888888888888,\"#fdca26\"],[1.0,\"#f0f921\"]]},\"colorway\":[\"#636efa\",\"#EF553B\",\"#00cc96\",\"#ab63fa\",\"#FFA15A\",\"#19d3f3\",\"#FF6692\",\"#B6E880\",\"#FF97FF\",\"#FECB52\"],\"font\":{\"color\":\"#2a3f5f\"},\"geo\":{\"bgcolor\":\"white\",\"lakecolor\":\"white\",\"landcolor\":\"#E5ECF6\",\"showlakes\":true,\"showland\":true,\"subunitcolor\":\"white\"},\"hoverlabel\":{\"align\":\"left\"},\"hovermode\":\"closest\",\"mapbox\":{\"style\":\"light\"},\"paper_bgcolor\":\"white\",\"plot_bgcolor\":\"#E5ECF6\",\"polar\":{\"angularaxis\":{\"gridcolor\":\"white\",\"linecolor\":\"white\",\"ticks\":\"\"},\"bgcolor\":\"#E5ECF6\",\"radialaxis\":{\"gridcolor\":\"white\",\"linecolor\":\"white\",\"ticks\":\"\"}},\"scene\":{\"xaxis\":{\"backgroundcolor\":\"#E5ECF6\",\"gridcolor\":\"white\",\"gridwidth\":2,\"linecolor\":\"white\",\"showbackground\":true,\"ticks\":\"\",\"zerolinecolor\":\"white\"},\"yaxis\":{\"backgroundcolor\":\"#E5ECF6\",\"gridcolor\":\"white\",\"gridwidth\":2,\"linecolor\":\"white\",\"showbackground\":true,\"ticks\":\"\",\"zerolinecolor\":\"white\"},\"zaxis\":{\"backgroundcolor\":\"#E5ECF6\",\"gridcolor\":\"white\",\"gridwidth\":2,\"linecolor\":\"white\",\"showbackground\":true,\"ticks\":\"\",\"zerolinecolor\":\"white\"}},\"shapedefaults\":{\"line\":{\"color\":\"#2a3f5f\"}},\"ternary\":{\"aaxis\":{\"gridcolor\":\"white\",\"linecolor\":\"white\",\"ticks\":\"\"},\"baxis\":{\"gridcolor\":\"white\",\"linecolor\":\"white\",\"ticks\":\"\"},\"bgcolor\":\"#E5ECF6\",\"caxis\":{\"gridcolor\":\"white\",\"linecolor\":\"white\",\"ticks\":\"\"}},\"title\":{\"x\":0.05},\"xaxis\":{\"automargin\":true,\"gridcolor\":\"white\",\"linecolor\":\"white\",\"ticks\":\"\",\"title\":{\"standoff\":15},\"zerolinecolor\":\"white\",\"zerolinewidth\":2},\"yaxis\":{\"automargin\":true,\"gridcolor\":\"white\",\"linecolor\":\"white\",\"ticks\":\"\",\"title\":{\"standoff\":15},\"zerolinecolor\":\"white\",\"zerolinewidth\":2}}},\"xaxis\":{\"anchor\":\"y\",\"domain\":[0.0,1.0],\"title\":{\"text\":\"\\u0423\\u0440\\u043e\\u0432\\u0435\\u043d\\u044c\"}},\"yaxis\":{\"anchor\":\"x\",\"domain\":[0.0,1.0],\"title\":{\"text\":\"\\u0423\\u0440\\u043e\\u0432\\u0435\\u043d\\u044c \\u0437\\u0430\\u0440\\u043f\\u043b\\u0430\\u0442 \\u0432 \\u0442\\u044b\\u0441. \\u0440\\u0443\\u0431\\u043b\\u044f\\u0445\"}},\"legend\":{\"title\":{\"text\":\"\\u0421\\u043f\\u0435\\u0446\\u0438\\u0430\\u043b\\u044c\\u043d\\u043e\\u0441\\u0442\\u044c\"},\"tracegroupgap\":0},\"title\":{\"text\":\"\\u0420\\u0430\\u0441\\u043f\\u0440\\u0435\\u0434\\u0435\\u043b\\u0435\\u043d\\u0438\\u0435 \\u0437\\u0430\\u0440\\u043f\\u043b\\u0430\\u0442 \\u043f\\u043e \\u0433\\u0440\\u0435\\u0439\\u0434\\u0430\\u043c\"},\"boxmode\":\"group\",\"autosize\":false,\"width\":1000,\"height\":600},                        {\"responsive\": true}                    ).then(function(){\n",
       "                            \n",
       "var gd = document.getElementById('b12e8554-a04a-403e-944c-87e8f03c50e3');\n",
       "var x = new MutationObserver(function (mutations, observer) {{\n",
       "        var display = window.getComputedStyle(gd).display;\n",
       "        if (!display || display === 'none') {{\n",
       "            console.log([gd, 'removed!']);\n",
       "            Plotly.purge(gd);\n",
       "            observer.disconnect();\n",
       "        }}\n",
       "}});\n",
       "\n",
       "// Listen for the removal of the full notebook cells\n",
       "var notebookContainer = gd.closest('#notebook-container');\n",
       "if (notebookContainer) {{\n",
       "    x.observe(notebookContainer, {childList: true});\n",
       "}}\n",
       "\n",
       "// Listen for the clearing of the current output cell\n",
       "var outputEl = gd.closest('.output');\n",
       "if (outputEl) {{\n",
       "    x.observe(outputEl, {childList: true});\n",
       "}}\n",
       "\n",
       "                        })                };                });            </script>        </div>"
      ]
     },
     "metadata": {},
     "output_type": "display_data"
    }
   ],
   "source": [
    "fig = px.box(dis, x=\"Experience\", y=\"Salary\", color='Name', labels={\n",
    "             \"Salary\": \"Уровень зарплат в тыс. рублях\",\n",
    "             \"Experience\": \"Уровень\",\n",
    "             \"Name\": \"Специальность\"\n",
    "         }, title = 'Распределение зарплат по грейдам')\n",
    "fig.update_layout(\n",
    "    autosize=False,\n",
    "    width=1000,\n",
    "    height=600,)\n",
    "fig.show()"
   ]
  },
  {
   "cell_type": "markdown",
   "metadata": {},
   "source": [
    "### Анализ востребованности навыков"
   ]
  },
  {
   "cell_type": "code",
   "execution_count": 119,
   "metadata": {},
   "outputs": [],
   "source": [
    "skills = {\n",
    "    'TensorFlow': {'tensorflow', '\\Wtf\\W', 'тензорфлоу'},\n",
    "    'PyTorch': {'pytorch', 'пайторч'},\n",
    "    'Keras': {'keras', 'керас'},\n",
    "    'Python': {'python', 'питон', 'пайтон'},\n",
    "    'Pandas/numpy': {'\\Wpandas\\W', '\\Wnumpy\\W'},\n",
    "    'R': {'\\Wr\\W'},\n",
    "    'SQL': {'sql', 'ms sql'},\n",
    "    'Scala': {'scala', 'скала'},\n",
    "    'Java': {'java', 'джава'},\n",
    "    'Julia': {'julia', 'джули[ая]'},\n",
    "    'Go': {'\\Wgo\\W'},\n",
    "    'C++': {'c\\+\\+'},\n",
    "    'C#': {'c#', 'шарп'},\n",
    "    'Linux': {'bash', 'баш', 'linux', 'линукс'},\n",
    "    'JS': {'\\Wjs\\W', 'java\\W?script'},\n",
    "    'Matlab': {'matlab', 'матлаб'},\n",
    "    'Django': {'django', 'джанго'},\n",
    "    'Flutter': {'flutter', 'флатт?ер'},\n",
    "    'Flask': {'flask', 'фласк'},\n",
    "    'Spring': {'spring'},\n",
    "    'Git': {'git', 'github', 'bitbucket', 'gitlab', 'гит', 'гитхаб', 'битбакет', 'гитлаб'},\n",
    "    'Docker': {'docker', 'докер'},\n",
    "    'Kubernetes': {'kubernetes', 'кубернетес'},\n",
    "    'Openshift': {'openshift'},\n",
    "    'Grafana': {'grafana', 'графан'},\n",
    "    'Power BI': {'power bi', 'powerbi'},\n",
    "    'Tableau': {'tableau', 'табло'},\n",
    "    'Airflow': {'airflow', 'а[э]ирфлоу'},\n",
    "    'Prometheus': {'prometheus', 'прометеус'},\n",
    "    'Redshift': {'redshift'},\n",
    "    'HDFS': {'hdfs'},\n",
    "    'MapReduce': {'mapreduce'},\n",
    "    'Spark': {'spark', 'спарк'},\n",
    "    'Hive': {'hive'},\n",
    "    'Azure': {'azure'},\n",
    "    'Hadoop': {'hadoop', 'хадуп'},\n",
    "    'Kafka': {'kafka', 'кафк[ау]'},\n",
    "    'RabbitMQ': {'rabbit', 'кролик'},\n",
    "    'MongoDB': {'mongo.?db'},\n",
    "    'Firebase': {'firebase'},\n",
    "    'Cassandra': {'cassandra'},\n",
    "    'Redis': {'redis'},\n",
    "    'Redshift': {'redshift'},\n",
    "    'BigQuery': {'bigquery'},\n",
    "    'Excel': {'\\Wexcel\\W', '\\Wэксел\\W'},\n",
    "    'Clickhouse': {'clickhouse', 'кликхау[сз]'},\n",
    "    'XGBoost': {'xgboost', '\\Wxgb\\W'},\n",
    "    'LightGBM': {'lightgbm', '\\Wlgb\\W'},\n",
    "    'CatBoost': {'catboost'},\n",
    "    'Scikit-learn': {'scikit', 'sklearn'},\n",
    "    'SciPy': {'scipy'},\n",
    "    'MLflow': {'mlflow', 'ml flow'},\n",
    "    'Agile': {'\\Wagile\\W'},\n",
    "    'BI': {'\\Wbusiness\\W', 'bi'},\n",
    "    'English': {'\\Wenglish\\W'},\n",
    "}"
   ]
  },
  {
   "cell_type": "code",
   "execution_count": 120,
   "metadata": {},
   "outputs": [],
   "source": [
    "def get_keyword_df(df, keywords):\n",
    "    for keyword, keywords_to_search in keywords.items():\n",
    "        keywords_regex = '|'.join(keywords_to_search)\n",
    "        df[keyword] = df['Keys'].str.contains(keywords_regex, regex=True)\n",
    "    keywords_df = pd.DataFrame(columns=['keyword', 'number'])\n",
    "    for keyword in list(keywords.keys()):\n",
    "        keywords_df = keywords_df.append({'keyword': keyword, 'number': len(df[df[keyword]])}, ignore_index=True)\n",
    "    keywords_df = keywords_df.sort_values(by=['number'], ascending=False).reset_index(drop=True)\n",
    "    keywords_df['perc'] = keywords_df['number'] / len(df) * 100\n",
    "    return keywords_df"
   ]
  },
  {
   "cell_type": "code",
   "execution_count": 121,
   "metadata": {},
   "outputs": [
    {
     "data": {
      "text/plain": [
       "array(['data engineer', 'data scientist', 'data analyst'], dtype=object)"
      ]
     },
     "execution_count": 121,
     "metadata": {},
     "output_type": "execute_result"
    }
   ],
   "source": [
    "da_de_ds.Name.unique()"
   ]
  },
  {
   "cell_type": "code",
   "execution_count": 122,
   "metadata": {},
   "outputs": [
    {
     "data": {
      "image/png": "[encoded data removed]",
      "text/plain": [
       "<Figure size 720x504 with 1 Axes>"
      ]
     },
     "metadata": {},
     "output_type": "display_data"
    },
    {
     "data": {
      "image/png": "[encoded data removed]",
      "text/plain": [
       "<Figure size 720x504 with 1 Axes>"
      ]
     },
     "metadata": {},
     "output_type": "display_data"
    },
    {
     "data": {
      "image/png": "[encoded data removed]",
      "text/plain": [
       "<Figure size 720x504 with 1 Axes>"
      ]
     },
     "metadata": {},
     "output_type": "display_data"
    }
   ],
   "source": [
    "for name in da_de_ds.Name.unique():\n",
    "    da_de_ds['Keys'] = da_de_ds.Keys.str.lower()\n",
    "    keyword_df = get_keyword_df(da_de_ds[da_de_ds['Name'] == name], skills).head(25)\n",
    "    skills_list = [i for i in keyword_df['keyword'].values]\n",
    "\n",
    "    fig, ax = plt.subplots(1, 1, figsize=(10,7))\n",
    "    fig.tight_layout(w_pad=5)\n",
    "\n",
    "    sns.barplot(ax = ax, data=keyword_df, x='perc', y='keyword', palette=sns.color_palette('winter_r', 25), alpha=0.7)\n",
    "    ax.set_title(label=f'Топ 25 востребованных технологий средни актуальных {name}-вакансий на hh', loc='left', size=14, pad=15)\n",
    "    ax.set_xlabel('Процент вакансий')\n",
    "    ax.set_ylabel('')"
   ]
  },
  {
   "cell_type": "markdown",
   "metadata": {},
   "source": [
    "### Предсказание зарплаты\n",
    "\n",
    "На этом этапе происходит предсказание зарплаты для вакансий, у которых она не указана. Ниже пошагово представлен алгоритм.\n",
    "___\n",
    "\n",
    "**Шаг 1: Предобработка данных**:\n",
    "- Удаление NaN значений из таблицы,\n",
    "- Поиск среднего значение для From / To столбцов,\n",
    "- Замена столбцов зарплаты на усредненое значение"
   ]
  },
  {
   "cell_type": "code",
   "execution_count": 123,
   "metadata": {},
   "outputs": [],
   "source": [
    "# Replace NaN from Salary into From / To fields,\n",
    "# Find mean values for each elemen and drop NaNs\n",
    "df = pd.read_csv('hh_results.csv')\n",
    "df_num = df[df['From'].notna() | df['From'].notna()]\n",
    "df_avg = df_num[['From', 'To']].mean(axis=1)\n",
    "df_num = df_num.drop(['Salary', 'From', 'To'], axis=1)\n",
    "df_num.insert(3, 'Average', df_avg)"
   ]
  },
  {
   "cell_type": "markdown",
   "metadata": {},
   "source": [
    "**Шаг 2: Подготовка модели**:\n",
    "- Формирование вектора признаков из столбца ключевых навыков со списком исключений `stop_words`\n",
    "- Поиск наиболее часто используемых слов в ключевых навыках\n",
    "- One-Hot кодирование признаков таблицы\n",
    "- Объединение в матрицу \"объекты-признаки\""
   ]
  },
  {
   "cell_type": "code",
   "execution_count": 124,
   "metadata": {},
   "outputs": [
    {
     "name": "stdout",
     "output_type": "stream",
     "text": [
      "Top words used in keys: ['python', 'sql', 'data', 'язык', 'английский', 'анализ', 'analysis']\n"
     ]
    },
    {
     "name": "stderr",
     "output_type": "stream",
     "text": [
      "C:\\Anaconda3\\lib\\site-packages\\sklearn\\utils\\deprecation.py:87: FutureWarning:\n",
      "\n",
      "Function get_feature_names is deprecated; get_feature_names is deprecated in 1.0 and will be removed in 1.2. Please use get_feature_names_out instead.\n",
      "\n"
     ]
    }
   ],
   "source": [
    "def text_replace(text) -> pd.Series:\n",
    "    return text.str.lower().replace(\"[^a-zA-Z]\\bqout\\b|\\bamp\\b\", \" \", regex=True)\n",
    "\n",
    "# Set TF-IDF features\n",
    "min_df = 5 # ignore terms w/ frequency < than threshold\n",
    "tf_idf = TfidfVectorizer(min_df=min_df, stop_words='english')\n",
    "\n",
    "# Training set\n",
    "X_train_text = tf_idf.fit_transform(text_replace(df_num['Keys']))\n",
    "# Dict: {key: counter}\n",
    "# print(pd.Series(tf_idf.vocabulary_)[:10])\n",
    "\n",
    "# Print top words used in keys\n",
    "idx = np.ravel(X_train_text.sum(axis=0).argsort(axis=1))[::-1][:7]\n",
    "top_words = np.array(tf_idf.get_feature_names())[idx].tolist()\n",
    "print('Top words used in keys: {}'. format(top_words))\n",
    "\n",
    "# One-hot-encoding for data frame features\n",
    "dct_enc = DictVectorizer()\n",
    "X_train_cat = dct_enc.fit_transform(df_num[['Experience', 'Name']].to_dict('Records'))\n",
    "\n",
    "# Stack vectors\n",
    "X_train = hstack([X_train_text, X_train_cat])"
   ]
  },
  {
   "cell_type": "markdown",
   "metadata": {},
   "source": [
    "**Шаг 3: Обучение модели**"
   ]
  },
  {
   "cell_type": "code",
   "execution_count": 125,
   "metadata": {},
   "outputs": [
    {
     "data": {
      "text/plain": [
       "Ridge(alpha=1, random_state=255)"
      ]
     },
     "execution_count": 125,
     "metadata": {},
     "output_type": "execute_result"
    }
   ],
   "source": [
    "# Train model\n",
    "y_train = df_num['Average']\n",
    "model = Ridge(alpha=1, random_state=255)\n",
    "model.fit(X_train, y_train)"
   ]
  },
  {
   "cell_type": "markdown",
   "metadata": {},
   "source": [
    "**Шаг 4: Применение к тестовым данным**"
   ]
  },
  {
   "cell_type": "code",
   "execution_count": 126,
   "metadata": {},
   "outputs": [
    {
     "name": "stdout",
     "output_type": "stream",
     "text": [
      "Average salary for vacancies with NaN is 191835\n"
     ]
    }
   ],
   "source": [
    "# Frame with NaNs\n",
    "x_test = df[df['From'].isna() & df['To'].isna()]\n",
    "\n",
    "# Test vectors\n",
    "X_test_text = tf_idf.transform(text_replace(x_test['Description']))\n",
    "X_test_cat = dct_enc.transform(x_test[['Experience', 'Name']].to_dict('Records'))\n",
    "X_test = hstack([X_test_text, X_test_cat])\n",
    "\n",
    "# Prediction model - result\n",
    "y_test = model.predict(X_test)\n",
    "\n",
    "print('Average salary for vacancies with NaN is {}'.format(y_test.mean(dtype=int)))"
   ]
  },
  {
   "cell_type": "markdown",
   "metadata": {},
   "source": [
    "**Шаг 5: Замена отсутствующих зарплат на предсказанные значения**"
   ]
  },
  {
   "cell_type": "code",
   "execution_count": 127,
   "metadata": {},
   "outputs": [
    {
     "data": {
      "text/html": [
       "<div>\n",
       "<style scoped>\n",
       "    .dataframe tbody tr th:only-of-type {\n",
       "        vertical-align: middle;\n",
       "    }\n",
       "\n",
       "    .dataframe tbody tr th {\n",
       "        vertical-align: top;\n",
       "    }\n",
       "\n",
       "    .dataframe thead th {\n",
       "        text-align: right;\n",
       "    }\n",
       "</style>\n",
       "<table border=\"1\" class=\"dataframe\">\n",
       "  <thead>\n",
       "    <tr style=\"text-align: right;\">\n",
       "      <th></th>\n",
       "      <th>Ids</th>\n",
       "      <th>Employer</th>\n",
       "      <th>Name</th>\n",
       "      <th>Average</th>\n",
       "      <th>Experience</th>\n",
       "      <th>Schedule</th>\n",
       "      <th>Keys</th>\n",
       "      <th>Description</th>\n",
       "    </tr>\n",
       "  </thead>\n",
       "  <tbody>\n",
       "    <tr>\n",
       "      <th>0</th>\n",
       "      <td>50880086</td>\n",
       "      <td>Домклик</td>\n",
       "      <td>Data analyst/data engineer</td>\n",
       "      <td>145430</td>\n",
       "      <td>От 1 года до 3 лет</td>\n",
       "      <td>Полный день</td>\n",
       "      <td>['Python', 'SQL', 'PostgreSQL', 'Базы данных',...</td>\n",
       "      <td>Мы - это продуктовая IT компания по созданию h...</td>\n",
       "    </tr>\n",
       "    <tr>\n",
       "      <th>1</th>\n",
       "      <td>50439267</td>\n",
       "      <td>NXP Semiconductors</td>\n",
       "      <td>Data Engineer</td>\n",
       "      <td>177103</td>\n",
       "      <td>От 1 года до 3 лет</td>\n",
       "      <td>Полный день</td>\n",
       "      <td>['Python', 'Linux', 'English', 'TCL', 'Data En...</td>\n",
       "      <td>NXP Semiconductors N.V. (NASDAQ: NXPI) enables...</td>\n",
       "    </tr>\n",
       "    <tr>\n",
       "      <th>3</th>\n",
       "      <td>50657338</td>\n",
       "      <td>COMTEK Inc.</td>\n",
       "      <td>Data Scientist</td>\n",
       "      <td>175599</td>\n",
       "      <td>От 3 до 6 лет</td>\n",
       "      <td>Полный день</td>\n",
       "      <td>['Python', 'SQL', 'Power BI', 'Английский язык...</td>\n",
       "      <td>Подбираем команду для крупной американской ком...</td>\n",
       "    </tr>\n",
       "    <tr>\n",
       "      <th>4</th>\n",
       "      <td>50439196</td>\n",
       "      <td>Медиа Бизнес Солюшенс</td>\n",
       "      <td>Data scientist</td>\n",
       "      <td>163075</td>\n",
       "      <td>От 1 года до 3 лет</td>\n",
       "      <td>Полный день</td>\n",
       "      <td>['Python', 'PostgreSQL', 'Tensorflow', 'sklear...</td>\n",
       "      <td>М3 — компания, которая занимается развитием ци...</td>\n",
       "    </tr>\n",
       "    <tr>\n",
       "      <th>5</th>\n",
       "      <td>48301399</td>\n",
       "      <td>Wargaming</td>\n",
       "      <td>ML/RL Engineer</td>\n",
       "      <td>431138</td>\n",
       "      <td>Более 6 лет</td>\n",
       "      <td>Полный день</td>\n",
       "      <td>[]</td>\n",
       "      <td>Wargaming is looking for ML/RL Engineer. You w...</td>\n",
       "    </tr>\n",
       "    <tr>\n",
       "      <th>7</th>\n",
       "      <td>50749704</td>\n",
       "      <td>Билайн</td>\n",
       "      <td>Стажер Data Scientist</td>\n",
       "      <td>149694</td>\n",
       "      <td>Нет опыта</td>\n",
       "      <td>Полный день</td>\n",
       "      <td>['Аналитическое мышление', 'Работа с большим о...</td>\n",
       "      <td>«Билайн» сейчас – компания изменений. В 2020 м...</td>\n",
       "    </tr>\n",
       "    <tr>\n",
       "      <th>8</th>\n",
       "      <td>50855401</td>\n",
       "      <td>Московская школа управления СКОЛКОВО</td>\n",
       "      <td>Data engineer</td>\n",
       "      <td>201304</td>\n",
       "      <td>От 3 до 6 лет</td>\n",
       "      <td>Полный день</td>\n",
       "      <td>['Python', 'SQL', 'Linux', 'AllFusion ERwin Da...</td>\n",
       "      <td>Московская школа управления СКОЛКОВО открывает...</td>\n",
       "    </tr>\n",
       "    <tr>\n",
       "      <th>11</th>\n",
       "      <td>49031421</td>\n",
       "      <td>inDriver</td>\n",
       "      <td>Senior Data Engineer</td>\n",
       "      <td>162224</td>\n",
       "      <td>Нет опыта</td>\n",
       "      <td>Полный день</td>\n",
       "      <td>['Python', 'SQL', 'Spark']</td>\n",
       "      <td>inDriver — международный сервис пассажирских п...</td>\n",
       "    </tr>\n",
       "    <tr>\n",
       "      <th>12</th>\n",
       "      <td>50751593</td>\n",
       "      <td>Моринтех</td>\n",
       "      <td>Разработчик нейросетевых алгоритмов / Data sci...</td>\n",
       "      <td>126912</td>\n",
       "      <td>От 1 года до 3 лет</td>\n",
       "      <td>Полный день</td>\n",
       "      <td>['Python', 'SQL', 'AllFusion ERwin Data Modele...</td>\n",
       "      <td>Команда ООО &amp;quot;Моринтех&amp;quot; старается пол...</td>\n",
       "    </tr>\n",
       "    <tr>\n",
       "      <th>13</th>\n",
       "      <td>50580531</td>\n",
       "      <td>SberAutoTech</td>\n",
       "      <td>MLOps Engineer (Data Factory)</td>\n",
       "      <td>247204</td>\n",
       "      <td>От 3 до 6 лет</td>\n",
       "      <td>Полный день</td>\n",
       "      <td>['Linux', 'Python', 'Обучение и развитие', 'Ор...</td>\n",
       "      <td>У команды SberAutoTech есть цель, и это – рево...</td>\n",
       "    </tr>\n",
       "  </tbody>\n",
       "</table>\n",
       "</div>"
      ],
      "text/plain": [
       "         Ids                              Employer  \\\n",
       "0   50880086                               Домклик   \n",
       "1   50439267                    NXP Semiconductors   \n",
       "3   50657338                           COMTEK Inc.   \n",
       "4   50439196                 Медиа Бизнес Солюшенс   \n",
       "5   48301399                             Wargaming   \n",
       "7   50749704                                Билайн   \n",
       "8   50855401  Московская школа управления СКОЛКОВО   \n",
       "11  49031421                              inDriver   \n",
       "12  50751593                              Моринтех   \n",
       "13  50580531                          SberAutoTech   \n",
       "\n",
       "                                                 Name  Average  \\\n",
       "0                          Data analyst/data engineer   145430   \n",
       "1                                       Data Engineer   177103   \n",
       "3                                      Data Scientist   175599   \n",
       "4                                      Data scientist   163075   \n",
       "5                                      ML/RL Engineer   431138   \n",
       "7                               Стажер Data Scientist   149694   \n",
       "8                                       Data engineer   201304   \n",
       "11                               Senior Data Engineer   162224   \n",
       "12  Разработчик нейросетевых алгоритмов / Data sci...   126912   \n",
       "13                      MLOps Engineer (Data Factory)   247204   \n",
       "\n",
       "            Experience     Schedule  \\\n",
       "0   От 1 года до 3 лет  Полный день   \n",
       "1   От 1 года до 3 лет  Полный день   \n",
       "3        От 3 до 6 лет  Полный день   \n",
       "4   От 1 года до 3 лет  Полный день   \n",
       "5          Более 6 лет  Полный день   \n",
       "7            Нет опыта  Полный день   \n",
       "8        От 3 до 6 лет  Полный день   \n",
       "11           Нет опыта  Полный день   \n",
       "12  От 1 года до 3 лет  Полный день   \n",
       "13       От 3 до 6 лет  Полный день   \n",
       "\n",
       "                                                 Keys  \\\n",
       "0   ['Python', 'SQL', 'PostgreSQL', 'Базы данных',...   \n",
       "1   ['Python', 'Linux', 'English', 'TCL', 'Data En...   \n",
       "3   ['Python', 'SQL', 'Power BI', 'Английский язык...   \n",
       "4   ['Python', 'PostgreSQL', 'Tensorflow', 'sklear...   \n",
       "5                                                  []   \n",
       "7   ['Аналитическое мышление', 'Работа с большим о...   \n",
       "8   ['Python', 'SQL', 'Linux', 'AllFusion ERwin Da...   \n",
       "11                         ['Python', 'SQL', 'Spark']   \n",
       "12  ['Python', 'SQL', 'AllFusion ERwin Data Modele...   \n",
       "13  ['Linux', 'Python', 'Обучение и развитие', 'Ор...   \n",
       "\n",
       "                                          Description  \n",
       "0   Мы - это продуктовая IT компания по созданию h...  \n",
       "1   NXP Semiconductors N.V. (NASDAQ: NXPI) enables...  \n",
       "3   Подбираем команду для крупной американской ком...  \n",
       "4   М3 — компания, которая занимается развитием ци...  \n",
       "5   Wargaming is looking for ML/RL Engineer. You w...  \n",
       "7   «Билайн» сейчас – компания изменений. В 2020 м...  \n",
       "8   Московская школа управления СКОЛКОВО открывает...  \n",
       "11  inDriver — международный сервис пассажирских п...  \n",
       "12  Команда ООО &quot;Моринтех&quot; старается пол...  \n",
       "13  У команды SberAutoTech есть цель, и это – рево...  "
      ]
     },
     "execution_count": 127,
     "metadata": {},
     "output_type": "execute_result"
    }
   ],
   "source": [
    "df_tst = x_test.drop(['Salary', 'From', 'To'], axis=1)\n",
    "df_tst.insert(3, 'Average', y_test.astype(int))\n",
    "df_tst.head(10)"
   ]
  },
  {
   "cell_type": "code",
   "execution_count": 128,
   "metadata": {},
   "outputs": [
    {
     "name": "stderr",
     "output_type": "stream",
     "text": [
      "C:\\Anaconda3\\lib\\site-packages\\seaborn\\categorical.py:1296: UserWarning:\n",
      "\n",
      "58.5% of the points cannot be placed; you may want to decrease the size of the markers or use stripplot.\n",
      "\n",
      "C:\\Anaconda3\\lib\\site-packages\\seaborn\\distributions.py:2619: FutureWarning:\n",
      "\n",
      "`distplot` is a deprecated function and will be removed in a future version. Please adapt your code to use either `displot` (a figure-level function with similar flexibility) or `histplot` (an axes-level function for histograms).\n",
      "\n"
     ]
    },
    {
     "data": {
      "image/png": "[encoded data removed]",
      "text/plain": [
       "<Figure size 960x640 with 3 Axes>"
      ]
     },
     "metadata": {},
     "output_type": "display_data"
    }
   ],
   "source": [
    "fp = plt.figure('Predicted salaries', figsize=(12, 8), dpi=80)\n",
    "fp.add_subplot(2, 2, 1)\n",
    "plt.title('Average Boxplot')\n",
    "sns.boxplot(data=df_tst[['Average']], width=0.4)\n",
    "\n",
    "fp.add_subplot(2, 2, 2)\n",
    "plt.title('Average Swarmplot')\n",
    "sns.swarmplot(data=df_tst[['Average']].dropna(), size=6)\n",
    "\n",
    "fp.add_subplot(2, 2, 3)\n",
    "plt.title('Average: Distribution ')\n",
    "sns.distplot(df_tst[['Average']].dropna(), bins=12)\n",
    "plt.grid(False)\n",
    "plt.yticks([], [])\n",
    "plt.tight_layout()"
   ]
  }
 ],
 "metadata": {
  "kernelspec": {
   "display_name": "Python 3 (ipykernel)",
   "language": "python",
   "name": "python3"
  },
  "language_info": {
   "codemirror_mode": {
    "name": "ipython",
    "version": 3
   },
   "file_extension": ".py",
   "mimetype": "text/x-python",
   "name": "python",
   "nbconvert_exporter": "python",
   "pygments_lexer": "ipython3",
   "version": "3.7.11"
  }
 },
 "nbformat": 4,
 "nbformat_minor": 2
}
