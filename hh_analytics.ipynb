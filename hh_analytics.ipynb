{
 "cells": [
  {
   "cell_type": "markdown",
   "metadata": {},
   "source": [
    "## Анализ полученных данных\n",
    "\n",
    "Статистика по вакансиям для удобного отображения вынесена в отдельную тетрадку."
   ]
  },
  {
   "cell_type": "code",
   "execution_count": 1,
   "metadata": {},
   "outputs": [
    {
     "name": "stderr",
     "output_type": "stream",
     "text": [
      "C:\\Anaconda3\\lib\\site-packages\\numpy\\_distributor_init.py:32: UserWarning: loaded more than 1 DLL from .libs:\n",
      "C:\\Anaconda3\\lib\\site-packages\\numpy\\.libs\\libopenblas.IPBC74C7KURV7CB2PKT5Z5FNR3SIBV4J.gfortran-win_amd64.dll\n",
      "C:\\Anaconda3\\lib\\site-packages\\numpy\\.libs\\libopenblas.PYQHXLVVQ7VESDPUVUADXEVJOBGHJPAY.gfortran-win_amd64.dll\n",
      "  stacklevel=1)\n"
     ]
    }
   ],
   "source": [
    "import matplotlib.pyplot as plt\n",
    "import seaborn as sns\n",
    "import plotly.express as px\n",
    "import pandas as pd\n",
    "import numpy as np\n",
    "import re\n",
    "\n",
    "import nltk\n",
    "# nltk.download('stopwords')\n",
    "from nltk.corpus import stopwords\n",
    "\n",
    "from scipy.sparse import hstack\n",
    "from sklearn.linear_model import Ridge\n",
    "from sklearn.feature_extraction import DictVectorizer\n",
    "from sklearn.feature_extraction.text import TfidfVectorizer\n",
    "\n",
    "sns.set()"
   ]
  },
  {
   "cell_type": "markdown",
   "metadata": {},
   "source": [
    "### Загрузка данных"
   ]
  },
  {
   "cell_type": "code",
   "execution_count": 2,
   "metadata": {},
   "outputs": [
    {
     "data": {
      "text/html": [
       "<div>\n",
       "<style scoped>\n",
       "    .dataframe tbody tr th:only-of-type {\n",
       "        vertical-align: middle;\n",
       "    }\n",
       "\n",
       "    .dataframe tbody tr th {\n",
       "        vertical-align: top;\n",
       "    }\n",
       "\n",
       "    .dataframe thead th {\n",
       "        text-align: right;\n",
       "    }\n",
       "</style>\n",
       "<table border=\"1\" class=\"dataframe\">\n",
       "  <thead>\n",
       "    <tr style=\"text-align: right;\">\n",
       "      <th></th>\n",
       "      <th>Ids</th>\n",
       "      <th>Employer</th>\n",
       "      <th>Name</th>\n",
       "      <th>Salary</th>\n",
       "      <th>From</th>\n",
       "      <th>To</th>\n",
       "      <th>Experience</th>\n",
       "      <th>Schedule</th>\n",
       "      <th>Keys</th>\n",
       "      <th>Description</th>\n",
       "    </tr>\n",
       "  </thead>\n",
       "  <tbody>\n",
       "    <tr>\n",
       "      <th>0</th>\n",
       "      <td>50880086</td>\n",
       "      <td>Домклик</td>\n",
       "      <td>Data analyst/data engineer</td>\n",
       "      <td>False</td>\n",
       "      <td>NaN</td>\n",
       "      <td>NaN</td>\n",
       "      <td>От 1 года до 3 лет</td>\n",
       "      <td>Полный день</td>\n",
       "      <td>['Python', 'SQL', 'PostgreSQL', 'Базы данных',...</td>\n",
       "      <td>Мы - это продуктовая IT компания по созданию h...</td>\n",
       "    </tr>\n",
       "    <tr>\n",
       "      <th>1</th>\n",
       "      <td>50439267</td>\n",
       "      <td>NXP Semiconductors</td>\n",
       "      <td>Data Engineer</td>\n",
       "      <td>False</td>\n",
       "      <td>NaN</td>\n",
       "      <td>NaN</td>\n",
       "      <td>От 1 года до 3 лет</td>\n",
       "      <td>Полный день</td>\n",
       "      <td>['Python', 'Linux', 'English', 'TCL', 'Data En...</td>\n",
       "      <td>NXP Semiconductors N.V. (NASDAQ: NXPI) enables...</td>\n",
       "    </tr>\n",
       "    <tr>\n",
       "      <th>2</th>\n",
       "      <td>51056512</td>\n",
       "      <td>ПИК-БРОКЕР</td>\n",
       "      <td>Data Engineer</td>\n",
       "      <td>True</td>\n",
       "      <td>150000.0</td>\n",
       "      <td>250000.0</td>\n",
       "      <td>От 1 года до 3 лет</td>\n",
       "      <td>Полный день</td>\n",
       "      <td>['Python', 'SQL', 'PostgreSQL', 'Git', 'Airflow']</td>\n",
       "      <td>Мы - ПИК-Брокер - молодая и очень динамично ра...</td>\n",
       "    </tr>\n",
       "    <tr>\n",
       "      <th>3</th>\n",
       "      <td>50657338</td>\n",
       "      <td>COMTEK Inc.</td>\n",
       "      <td>Data Scientist</td>\n",
       "      <td>False</td>\n",
       "      <td>NaN</td>\n",
       "      <td>NaN</td>\n",
       "      <td>От 3 до 6 лет</td>\n",
       "      <td>Полный день</td>\n",
       "      <td>['Python', 'SQL', 'Power BI', 'Английский язык...</td>\n",
       "      <td>Подбираем команду для крупной американской ком...</td>\n",
       "    </tr>\n",
       "    <tr>\n",
       "      <th>4</th>\n",
       "      <td>50439196</td>\n",
       "      <td>Медиа Бизнес Солюшенс</td>\n",
       "      <td>Data scientist</td>\n",
       "      <td>False</td>\n",
       "      <td>NaN</td>\n",
       "      <td>NaN</td>\n",
       "      <td>От 1 года до 3 лет</td>\n",
       "      <td>Полный день</td>\n",
       "      <td>['Python', 'PostgreSQL', 'Tensorflow', 'sklear...</td>\n",
       "      <td>М3 — компания, которая занимается развитием ци...</td>\n",
       "    </tr>\n",
       "  </tbody>\n",
       "</table>\n",
       "</div>"
      ],
      "text/plain": [
       "        Ids               Employer                        Name  Salary  \\\n",
       "0  50880086                Домклик  Data analyst/data engineer   False   \n",
       "1  50439267     NXP Semiconductors               Data Engineer   False   \n",
       "2  51056512             ПИК-БРОКЕР               Data Engineer    True   \n",
       "3  50657338            COMTEK Inc.              Data Scientist   False   \n",
       "4  50439196  Медиа Бизнес Солюшенс              Data scientist   False   \n",
       "\n",
       "       From        To          Experience     Schedule  \\\n",
       "0       NaN       NaN  От 1 года до 3 лет  Полный день   \n",
       "1       NaN       NaN  От 1 года до 3 лет  Полный день   \n",
       "2  150000.0  250000.0  От 1 года до 3 лет  Полный день   \n",
       "3       NaN       NaN       От 3 до 6 лет  Полный день   \n",
       "4       NaN       NaN  От 1 года до 3 лет  Полный день   \n",
       "\n",
       "                                                Keys  \\\n",
       "0  ['Python', 'SQL', 'PostgreSQL', 'Базы данных',...   \n",
       "1  ['Python', 'Linux', 'English', 'TCL', 'Data En...   \n",
       "2  ['Python', 'SQL', 'PostgreSQL', 'Git', 'Airflow']   \n",
       "3  ['Python', 'SQL', 'Power BI', 'Английский язык...   \n",
       "4  ['Python', 'PostgreSQL', 'Tensorflow', 'sklear...   \n",
       "\n",
       "                                         Description  \n",
       "0  Мы - это продуктовая IT компания по созданию h...  \n",
       "1  NXP Semiconductors N.V. (NASDAQ: NXPI) enables...  \n",
       "2  Мы - ПИК-Брокер - молодая и очень динамично ра...  \n",
       "3  Подбираем команду для крупной американской ком...  \n",
       "4  М3 — компания, которая занимается развитием ци...  "
      ]
     },
     "execution_count": 2,
     "metadata": {},
     "output_type": "execute_result"
    }
   ],
   "source": [
    "df = pd.read_csv('hh_results.csv')\n",
    "df.head()"
   ]
  },
  {
   "cell_type": "markdown",
   "metadata": {},
   "source": [
    "### Количество вакансий"
   ]
  },
  {
   "cell_type": "code",
   "execution_count": 271,
   "metadata": {},
   "outputs": [],
   "source": [
    "df['Name'] = df.Name.str.lower()"
   ]
  },
  {
   "cell_type": "code",
   "execution_count": 272,
   "metadata": {},
   "outputs": [],
   "source": [
    "df['Name'] = df.Name.apply(lambda x:'data engineer' if 'data engineer' in x else x)"
   ]
  },
  {
   "cell_type": "code",
   "execution_count": 273,
   "metadata": {},
   "outputs": [],
   "source": [
    "df['Name'] = df.Name.apply(lambda x:'data scientist' if 'data scientist' in x else x)"
   ]
  },
  {
   "cell_type": "code",
   "execution_count": 274,
   "metadata": {},
   "outputs": [],
   "source": [
    "for i in ('product analyst', 'аналитик данных', 'продуктовый аналитик', 'data analyst'):\n",
    "    df['Name'] = df.Name.apply(lambda x:'data analyst' if i in x else x)"
   ]
  },
  {
   "cell_type": "code",
   "execution_count": 275,
   "metadata": {},
   "outputs": [],
   "source": [
    "da_de_ds = df[\n",
    "              (df.Name.str.contains('data engineer')) | \\\n",
    "              (df.Name.str.contains('data analyst')) | \\\n",
    "              (df.Name.str.contains('data scientist'))  \n",
    "             ]"
   ]
  },
  {
   "cell_type": "code",
   "execution_count": 276,
   "metadata": {},
   "outputs": [
    {
     "data": {
      "text/plain": [
       "data engineer     303\n",
       "data scientist    235\n",
       "data analyst      231\n",
       "Name: Name, dtype: int64"
      ]
     },
     "execution_count": 276,
     "metadata": {},
     "output_type": "execute_result"
    }
   ],
   "source": [
    "da_de_ds.Name.value_counts()"
   ]
  },
  {
   "cell_type": "code",
   "execution_count": 277,
   "metadata": {},
   "outputs": [
    {
     "data": {
      "image/png": "[encoded data removed]",
      "text/plain": [
       "<Figure size 1152x720 with 3 Axes>"
      ]
     },
     "metadata": {},
     "output_type": "display_data"
    }
   ],
   "source": [
    "def get_level_stats(data, category):\n",
    "    level_stats ={\n",
    "        'Нет опыта': df[(df.Name.str.contains(category)) & (df.Experience == 'Нет опыта')].Ids.count(),\n",
    "        'От 1 года до 3 лет': df[(df.Name.str.contains(category)) & (df.Experience == 'От 1 года до 3 лет')].Ids.count(),\n",
    "        'От 3 до 6 лет': df[(df.Name.str.contains(category)) & (df.Experience == 'От 3 до 6 лет')].Ids.count(),\n",
    "        'Более 6 лет': df[(df.Name.str.contains(category)) & (df.Experience == 'Более 6 лет')].Ids.count(),\n",
    "    }\n",
    "    return level_stats\n",
    "    \n",
    "fig, (ax1, ax2, ax3) = plt.subplots(1, 3, figsize=(16, 10))\n",
    "\n",
    "centre_circle = plt.Circle((0,0),0.6, fc='white')\n",
    "centre_circle1 = plt.Circle((0,0),1, fc='white', alpha= 0.4)\n",
    "level_stats = get_level_stats(df, 'data engineer')\n",
    "ax1.pie(level_stats.values(), labels=level_stats.keys(), pctdistance=0.79,\n",
    "        colors=sns.color_palette('winter_r', 4), autopct='%1.f%%', wedgeprops = {'linewidth': 0})\n",
    "ax1.add_artist(centre_circle)\n",
    "ax1.add_artist(centre_circle1)\n",
    "ax1.set_title('Data Engineer', size=12, loc='left')\n",
    "\n",
    "centre_circle = plt.Circle((0,0),0.6, fc='white')\n",
    "centre_circle1 = plt.Circle((0,0),1, fc='white', alpha= 0.4)\n",
    "level_stats = get_level_stats(df, 'data analyst')\n",
    "ax2.pie(level_stats.values(), labels=level_stats.keys(), pctdistance=0.79,\n",
    "        colors=sns.color_palette('winter_r', 4), autopct='%1.f%%', wedgeprops = {'linewidth': 0})\n",
    "ax2.add_artist(centre_circle)\n",
    "ax2.add_artist(centre_circle1)\n",
    "ax2.set_title('Data Analyst', size=12, loc='left')\n",
    "\n",
    "\n",
    "centre_circle = plt.Circle((0,0),0.6, fc='white')\n",
    "centre_circle1 = plt.Circle((0,0),1, fc='white', alpha= 0.4)\n",
    "level_stats = get_level_stats(df, 'data scientist')\n",
    "ax3.pie(level_stats.values(), labels=level_stats.keys(), pctdistance=0.79,\n",
    "        colors=sns.color_palette('winter_r', 4), autopct='%1.f%%', wedgeprops = {'linewidth': 0})\n",
    "ax3.add_artist(centre_circle)\n",
    "ax3.add_artist(centre_circle1)\n",
    "ax3.set_title('Data Scientist', size=12, loc='left')\n",
    "plt.show()"
   ]
  },
  {
   "cell_type": "markdown",
   "metadata": {},
   "source": [
    "### Зарплаты в Data Science"
   ]
  },
  {
   "cell_type": "code",
   "execution_count": 278,
   "metadata": {},
   "outputs": [],
   "source": [
    "salary = da_de_ds[(da_de_ds.From.notnull()) | (da_de_ds.To.notnull())]"
   ]
  },
  {
   "cell_type": "code",
   "execution_count": 279,
   "metadata": {},
   "outputs": [],
   "source": [
    "salary = salary[salary['Experience'] != 'Более 6 лет'].sort_values(by='Experience')"
   ]
  },
  {
   "cell_type": "code",
   "execution_count": 280,
   "metadata": {},
   "outputs": [],
   "source": [
    "salary['mean_salary'] = salary[['From', 'To']].apply(lambda x: x[0] if np.isnan(x[1])\\\n",
    "                                              else (x[1] if np.isnan(x[0]) else (x[0] + x[1])/2), axis=1)"
   ]
  },
  {
   "cell_type": "code",
   "execution_count": 299,
   "metadata": {},
   "outputs": [],
   "source": [
    "dis = salary[['Name', 'Experience']].append(salary[['Name', 'Experience']])\n",
    "dis['Salary'] = salary[['From', 'To']].melt()['value'].tolist()"
   ]
  },
  {
   "cell_type": "code",
   "execution_count": 300,
   "metadata": {},
   "outputs": [
    {
     "data": {
      "application/vnd.plotly.v1+json": {
       "config": {
        "plotlyServerURL": "https://plotly.com"
       },
       "data": [
        {
         "alignmentgroup": "True",
         "hovertemplate": "Специальность=data engineer<br>Уровень=%{x}<br>Уровень зарплат в тыс. рублях=%{y}<extra></extra>",
         "legendgroup": "data engineer",
         "marker": {
          "color": "#636efa"
         },
         "name": "data engineer",
         "notched": false,
         "offsetgroup": "data engineer",
         "orientation": "v",
         "showlegend": true,
         "type": "box",
         "x": [
          "Нет опыта",
          "Нет опыта",
          "Нет опыта",
          "Нет опыта",
          "Нет опыта",
          "От 1 года до 3 лет",
          "От 1 года до 3 лет",
          "От 1 года до 3 лет",
          "От 1 года до 3 лет",
          "От 1 года до 3 лет",
          "От 1 года до 3 лет",
          "От 1 года до 3 лет",
          "От 1 года до 3 лет",
          "От 1 года до 3 лет",
          "От 1 года до 3 лет",
          "От 1 года до 3 лет",
          "От 1 года до 3 лет",
          "От 1 года до 3 лет",
          "От 1 года до 3 лет",
          "От 1 года до 3 лет",
          "От 1 года до 3 лет",
          "От 1 года до 3 лет",
          "От 3 до 6 лет",
          "От 3 до 6 лет",
          "От 3 до 6 лет",
          "От 3 до 6 лет",
          "От 3 до 6 лет",
          "От 3 до 6 лет",
          "От 3 до 6 лет",
          "От 3 до 6 лет",
          "От 3 до 6 лет",
          "От 3 до 6 лет",
          "От 3 до 6 лет",
          "От 3 до 6 лет",
          "От 3 до 6 лет",
          "От 3 до 6 лет",
          "От 3 до 6 лет",
          "Нет опыта",
          "Нет опыта",
          "Нет опыта",
          "Нет опыта",
          "Нет опыта",
          "От 1 года до 3 лет",
          "От 1 года до 3 лет",
          "От 1 года до 3 лет",
          "От 1 года до 3 лет",
          "От 1 года до 3 лет",
          "От 1 года до 3 лет",
          "От 1 года до 3 лет",
          "От 1 года до 3 лет",
          "От 1 года до 3 лет",
          "От 1 года до 3 лет",
          "От 1 года до 3 лет",
          "От 1 года до 3 лет",
          "От 1 года до 3 лет",
          "От 1 года до 3 лет",
          "От 1 года до 3 лет",
          "От 1 года до 3 лет",
          "От 1 года до 3 лет",
          "От 3 до 6 лет",
          "От 3 до 6 лет",
          "От 3 до 6 лет",
          "От 3 до 6 лет",
          "От 3 до 6 лет",
          "От 3 до 6 лет",
          "От 3 до 6 лет",
          "От 3 до 6 лет",
          "От 3 до 6 лет",
          "От 3 до 6 лет",
          "От 3 до 6 лет",
          "От 3 до 6 лет",
          "От 3 до 6 лет",
          "От 3 до 6 лет",
          "От 3 до 6 лет"
         ],
         "x0": " ",
         "xaxis": "x",
         "y": [
          100000,
          174000,
          null,
          200000,
          69600,
          261000,
          150000,
          null,
          130500,
          180000,
          180000,
          null,
          150000,
          200000,
          88000,
          null,
          null,
          110000,
          87000,
          130500,
          180000,
          147900,
          300000,
          null,
          261000,
          200000,
          270000,
          null,
          230769,
          null,
          304500,
          43500,
          200000,
          200000,
          null,
          200000,
          200000,
          150000,
          217500,
          191400,
          null,
          null,
          null,
          250000,
          300150,
          null,
          null,
          200000,
          261000,
          null,
          null,
          166000,
          156600,
          391500,
          150000,
          null,
          165300,
          null,
          304500,
          null,
          191400,
          null,
          400000,
          null,
          423076,
          null,
          384615,
          435000,
          435000,
          500000,
          350000,
          400000,
          null,
          370000
         ],
         "y0": " ",
         "yaxis": "y"
        },
        {
         "alignmentgroup": "True",
         "hovertemplate": "Специальность=data scientist<br>Уровень=%{x}<br>Уровень зарплат в тыс. рублях=%{y}<extra></extra>",
         "legendgroup": "data scientist",
         "marker": {
          "color": "#EF553B"
         },
         "name": "data scientist",
         "notched": false,
         "offsetgroup": "data scientist",
         "orientation": "v",
         "showlegend": true,
         "type": "box",
         "x": [
          "Нет опыта",
          "Нет опыта",
          "Нет опыта",
          "Нет опыта",
          "Нет опыта",
          "От 1 года до 3 лет",
          "От 1 года до 3 лет",
          "От 1 года до 3 лет",
          "От 1 года до 3 лет",
          "От 1 года до 3 лет",
          "От 1 года до 3 лет",
          "От 1 года до 3 лет",
          "От 1 года до 3 лет",
          "От 1 года до 3 лет",
          "От 1 года до 3 лет",
          "От 1 года до 3 лет",
          "От 1 года до 3 лет",
          "От 1 года до 3 лет",
          "От 1 года до 3 лет",
          "От 3 до 6 лет",
          "От 3 до 6 лет",
          "От 3 до 6 лет",
          "От 3 до 6 лет",
          "От 3 до 6 лет",
          "От 3 до 6 лет",
          "От 3 до 6 лет",
          "От 3 до 6 лет",
          "От 3 до 6 лет",
          "От 3 до 6 лет",
          "От 3 до 6 лет",
          "От 3 до 6 лет",
          "От 3 до 6 лет",
          "От 3 до 6 лет",
          "От 3 до 6 лет",
          "От 3 до 6 лет",
          "Нет опыта",
          "Нет опыта",
          "Нет опыта",
          "Нет опыта",
          "Нет опыта",
          "От 1 года до 3 лет",
          "От 1 года до 3 лет",
          "От 1 года до 3 лет",
          "От 1 года до 3 лет",
          "От 1 года до 3 лет",
          "От 1 года до 3 лет",
          "От 1 года до 3 лет",
          "От 1 года до 3 лет",
          "От 1 года до 3 лет",
          "От 1 года до 3 лет",
          "От 1 года до 3 лет",
          "От 1 года до 3 лет",
          "От 1 года до 3 лет",
          "От 1 года до 3 лет",
          "От 3 до 6 лет",
          "От 3 до 6 лет",
          "От 3 до 6 лет",
          "От 3 до 6 лет",
          "От 3 до 6 лет",
          "От 3 до 6 лет",
          "От 3 до 6 лет",
          "От 3 до 6 лет",
          "От 3 до 6 лет",
          "От 3 до 6 лет",
          "От 3 до 6 лет",
          "От 3 до 6 лет",
          "От 3 до 6 лет",
          "От 3 до 6 лет",
          "От 3 до 6 лет",
          "От 3 до 6 лет"
         ],
         "x0": " ",
         "xaxis": "x",
         "y": [
          156600,
          null,
          52200,
          79090,
          null,
          150000,
          130500,
          null,
          270000,
          200000,
          80000,
          200000,
          52200,
          130000,
          115384,
          104400,
          130500,
          null,
          87000,
          null,
          220000,
          300000,
          null,
          200000,
          300000,
          153846,
          174000,
          217500,
          200000,
          300000,
          null,
          230000,
          null,
          200000,
          300000,
          261000,
          280000,
          174000,
          118636,
          180000,
          null,
          261000,
          350000,
          null,
          null,
          100000,
          250000,
          174000,
          170000,
          230769,
          null,
          261000,
          350000,
          174000,
          435000,
          300000,
          null,
          300000,
          250000,
          450000,
          230769,
          null,
          null,
          300000,
          400000,
          435000,
          null,
          139200,
          350000,
          450000
         ],
         "y0": " ",
         "yaxis": "y"
        },
        {
         "alignmentgroup": "True",
         "hovertemplate": "Специальность=data analyst<br>Уровень=%{x}<br>Уровень зарплат в тыс. рублях=%{y}<extra></extra>",
         "legendgroup": "data analyst",
         "marker": {
          "color": "#00cc96"
         },
         "name": "data analyst",
         "notched": false,
         "offsetgroup": "data analyst",
         "orientation": "v",
         "showlegend": true,
         "type": "box",
         "x": [
          "Нет опыта",
          "Нет опыта",
          "Нет опыта",
          "От 1 года до 3 лет",
          "От 1 года до 3 лет",
          "От 1 года до 3 лет",
          "От 1 года до 3 лет",
          "От 1 года до 3 лет",
          "От 1 года до 3 лет",
          "От 1 года до 3 лет",
          "От 1 года до 3 лет",
          "От 1 года до 3 лет",
          "От 1 года до 3 лет",
          "От 1 года до 3 лет",
          "От 1 года до 3 лет",
          "От 1 года до 3 лет",
          "От 1 года до 3 лет",
          "От 1 года до 3 лет",
          "От 1 года до 3 лет",
          "От 1 года до 3 лет",
          "От 1 года до 3 лет",
          "От 1 года до 3 лет",
          "От 1 года до 3 лет",
          "От 1 года до 3 лет",
          "От 1 года до 3 лет",
          "От 1 года до 3 лет",
          "От 3 до 6 лет",
          "От 3 до 6 лет",
          "От 3 до 6 лет",
          "От 3 до 6 лет",
          "От 3 до 6 лет",
          "От 3 до 6 лет",
          "От 3 до 6 лет",
          "От 3 до 6 лет",
          "Нет опыта",
          "Нет опыта",
          "Нет опыта",
          "От 1 года до 3 лет",
          "От 1 года до 3 лет",
          "От 1 года до 3 лет",
          "От 1 года до 3 лет",
          "От 1 года до 3 лет",
          "От 1 года до 3 лет",
          "От 1 года до 3 лет",
          "От 1 года до 3 лет",
          "От 1 года до 3 лет",
          "От 1 года до 3 лет",
          "От 1 года до 3 лет",
          "От 1 года до 3 лет",
          "От 1 года до 3 лет",
          "От 1 года до 3 лет",
          "От 1 года до 3 лет",
          "От 1 года до 3 лет",
          "От 1 года до 3 лет",
          "От 1 года до 3 лет",
          "От 1 года до 3 лет",
          "От 1 года до 3 лет",
          "От 1 года до 3 лет",
          "От 1 года до 3 лет",
          "От 1 года до 3 лет",
          "От 3 до 6 лет",
          "От 3 до 6 лет",
          "От 3 до 6 лет",
          "От 3 до 6 лет",
          "От 3 до 6 лет",
          "От 3 до 6 лет",
          "От 3 до 6 лет",
          "От 3 до 6 лет"
         ],
         "x0": " ",
         "xaxis": "x",
         "y": [
          40000,
          100000,
          null,
          null,
          200000,
          139200,
          104400,
          140000,
          174000,
          104400,
          80000,
          200000,
          174000,
          160000,
          153846,
          200769,
          null,
          220000,
          null,
          156600,
          null,
          150000,
          null,
          147900,
          58800,
          120000,
          237272,
          280000,
          150000,
          200000,
          null,
          200769,
          250000,
          217500,
          70000,
          140000,
          40000,
          49155,
          null,
          null,
          130500,
          200000,
          217500,
          130500,
          120000,
          null,
          348000,
          null,
          null,
          468461,
          80000,
          null,
          66923,
          234900,
          180000,
          null,
          234900,
          null,
          73400,
          null,
          395454,
          370000,
          220000,
          null,
          250000,
          267692,
          null,
          null
         ],
         "y0": " ",
         "yaxis": "y"
        }
       ],
       "layout": {
        "autosize": false,
        "boxmode": "group",
        "height": 600,
        "legend": {
         "title": {
          "text": "Специальность"
         },
         "tracegroupgap": 0
        },
        "template": {
         "data": {
          "bar": [
           {
            "error_x": {
             "color": "#2a3f5f"
            },
            "error_y": {
             "color": "#2a3f5f"
            },
            "marker": {
             "line": {
              "color": "#E5ECF6",
              "width": 0.5
             },
             "pattern": {
              "fillmode": "overlay",
              "size": 10,
              "solidity": 0.2
             }
            },
            "type": "bar"
           }
          ],
          "barpolar": [
           {
            "marker": {
             "line": {
              "color": "#E5ECF6",
              "width": 0.5
             },
             "pattern": {
              "fillmode": "overlay",
              "size": 10,
              "solidity": 0.2
             }
            },
            "type": "barpolar"
           }
          ],
          "carpet": [
           {
            "aaxis": {
             "endlinecolor": "#2a3f5f",
             "gridcolor": "white",
             "linecolor": "white",
             "minorgridcolor": "white",
             "startlinecolor": "#2a3f5f"
            },
            "baxis": {
             "endlinecolor": "#2a3f5f",
             "gridcolor": "white",
             "linecolor": "white",
             "minorgridcolor": "white",
             "startlinecolor": "#2a3f5f"
            },
            "type": "carpet"
           }
          ],
          "choropleth": [
           {
            "colorbar": {
             "outlinewidth": 0,
             "ticks": ""
            },
            "type": "choropleth"
           }
          ],
          "contour": [
           {
            "colorbar": {
             "outlinewidth": 0,
             "ticks": ""
            },
            "colorscale": [
             [
              0,
              "#0d0887"
             ],
             [
              0.1111111111111111,
              "#46039f"
             ],
             [
              0.2222222222222222,
              "#7201a8"
             ],
             [
              0.3333333333333333,
              "#9c179e"
             ],
             [
              0.4444444444444444,
              "#bd3786"
             ],
             [
              0.5555555555555556,
              "#d8576b"
             ],
             [
              0.6666666666666666,
              "#ed7953"
             ],
             [
              0.7777777777777778,
              "#fb9f3a"
             ],
             [
              0.8888888888888888,
              "#fdca26"
             ],
             [
              1,
              "#f0f921"
             ]
            ],
            "type": "contour"
           }
          ],
          "contourcarpet": [
           {
            "colorbar": {
             "outlinewidth": 0,
             "ticks": ""
            },
            "type": "contourcarpet"
           }
          ],
          "heatmap": [
           {
            "colorbar": {
             "outlinewidth": 0,
             "ticks": ""
            },
            "colorscale": [
             [
              0,
              "#0d0887"
             ],
             [
              0.1111111111111111,
              "#46039f"
             ],
             [
              0.2222222222222222,
              "#7201a8"
             ],
             [
              0.3333333333333333,
              "#9c179e"
             ],
             [
              0.4444444444444444,
              "#bd3786"
             ],
             [
              0.5555555555555556,
              "#d8576b"
             ],
             [
              0.6666666666666666,
              "#ed7953"
             ],
             [
              0.7777777777777778,
              "#fb9f3a"
             ],
             [
              0.8888888888888888,
              "#fdca26"
             ],
             [
              1,
              "#f0f921"
             ]
            ],
            "type": "heatmap"
           }
          ],
          "heatmapgl": [
           {
            "colorbar": {
             "outlinewidth": 0,
             "ticks": ""
            },
            "colorscale": [
             [
              0,
              "#0d0887"
             ],
             [
              0.1111111111111111,
              "#46039f"
             ],
             [
              0.2222222222222222,
              "#7201a8"
             ],
             [
              0.3333333333333333,
              "#9c179e"
             ],
             [
              0.4444444444444444,
              "#bd3786"
             ],
             [
              0.5555555555555556,
              "#d8576b"
             ],
             [
              0.6666666666666666,
              "#ed7953"
             ],
             [
              0.7777777777777778,
              "#fb9f3a"
             ],
             [
              0.8888888888888888,
              "#fdca26"
             ],
             [
              1,
              "#f0f921"
             ]
            ],
            "type": "heatmapgl"
           }
          ],
          "histogram": [
           {
            "marker": {
             "pattern": {
              "fillmode": "overlay",
              "size": 10,
              "solidity": 0.2
             }
            },
            "type": "histogram"
           }
          ],
          "histogram2d": [
           {
            "colorbar": {
             "outlinewidth": 0,
             "ticks": ""
            },
            "colorscale": [
             [
              0,
              "#0d0887"
             ],
             [
              0.1111111111111111,
              "#46039f"
             ],
             [
              0.2222222222222222,
              "#7201a8"
             ],
             [
              0.3333333333333333,
              "#9c179e"
             ],
             [
              0.4444444444444444,
              "#bd3786"
             ],
             [
              0.5555555555555556,
              "#d8576b"
             ],
             [
              0.6666666666666666,
              "#ed7953"
             ],
             [
              0.7777777777777778,
              "#fb9f3a"
             ],
             [
              0.8888888888888888,
              "#fdca26"
             ],
             [
              1,
              "#f0f921"
             ]
            ],
            "type": "histogram2d"
           }
          ],
          "histogram2dcontour": [
           {
            "colorbar": {
             "outlinewidth": 0,
             "ticks": ""
            },
            "colorscale": [
             [
              0,
              "#0d0887"
             ],
             [
              0.1111111111111111,
              "#46039f"
             ],
             [
              0.2222222222222222,
              "#7201a8"
             ],
             [
              0.3333333333333333,
              "#9c179e"
             ],
             [
              0.4444444444444444,
              "#bd3786"
             ],
             [
              0.5555555555555556,
              "#d8576b"
             ],
             [
              0.6666666666666666,
              "#ed7953"
             ],
             [
              0.7777777777777778,
              "#fb9f3a"
             ],
             [
              0.8888888888888888,
              "#fdca26"
             ],
             [
              1,
              "#f0f921"
             ]
            ],
            "type": "histogram2dcontour"
           }
          ],
          "mesh3d": [
           {
            "colorbar": {
             "outlinewidth": 0,
             "ticks": ""
            },
            "type": "mesh3d"
           }
          ],
          "parcoords": [
           {
            "line": {
             "colorbar": {
              "outlinewidth": 0,
              "ticks": ""
             }
            },
            "type": "parcoords"
           }
          ],
          "pie": [
           {
            "automargin": true,
            "type": "pie"
           }
          ],
          "scatter": [
           {
            "marker": {
             "colorbar": {
              "outlinewidth": 0,
              "ticks": ""
             }
            },
            "type": "scatter"
           }
          ],
          "scatter3d": [
           {
            "line": {
             "colorbar": {
              "outlinewidth": 0,
              "ticks": ""
             }
            },
            "marker": {
             "colorbar": {
              "outlinewidth": 0,
              "ticks": ""
             }
            },
            "type": "scatter3d"
           }
          ],
          "scattercarpet": [
           {
            "marker": {
             "colorbar": {
              "outlinewidth": 0,
              "ticks": ""
             }
            },
            "type": "scattercarpet"
           }
          ],
          "scattergeo": [
           {
            "marker": {
             "colorbar": {
              "outlinewidth": 0,
              "ticks": ""
             }
            },
            "type": "scattergeo"
           }
          ],
          "scattergl": [
           {
            "marker": {
             "colorbar": {
              "outlinewidth": 0,
              "ticks": ""
             }
            },
            "type": "scattergl"
           }
          ],
          "scattermapbox": [
           {
            "marker": {
             "colorbar": {
              "outlinewidth": 0,
              "ticks": ""
             }
            },
            "type": "scattermapbox"
           }
          ],
          "scatterpolar": [
           {
            "marker": {
             "colorbar": {
              "outlinewidth": 0,
              "ticks": ""
             }
            },
            "type": "scatterpolar"
           }
          ],
          "scatterpolargl": [
           {
            "marker": {
             "colorbar": {
              "outlinewidth": 0,
              "ticks": ""
             }
            },
            "type": "scatterpolargl"
           }
          ],
          "scatterternary": [
           {
            "marker": {
             "colorbar": {
              "outlinewidth": 0,
              "ticks": ""
             }
            },
            "type": "scatterternary"
           }
          ],
          "surface": [
           {
            "colorbar": {
             "outlinewidth": 0,
             "ticks": ""
            },
            "colorscale": [
             [
              0,
              "#0d0887"
             ],
             [
              0.1111111111111111,
              "#46039f"
             ],
             [
              0.2222222222222222,
              "#7201a8"
             ],
             [
              0.3333333333333333,
              "#9c179e"
             ],
             [
              0.4444444444444444,
              "#bd3786"
             ],
             [
              0.5555555555555556,
              "#d8576b"
             ],
             [
              0.6666666666666666,
              "#ed7953"
             ],
             [
              0.7777777777777778,
              "#fb9f3a"
             ],
             [
              0.8888888888888888,
              "#fdca26"
             ],
             [
              1,
              "#f0f921"
             ]
            ],
            "type": "surface"
           }
          ],
          "table": [
           {
            "cells": {
             "fill": {
              "color": "#EBF0F8"
             },
             "line": {
              "color": "white"
             }
            },
            "header": {
             "fill": {
              "color": "#C8D4E3"
             },
             "line": {
              "color": "white"
             }
            },
            "type": "table"
           }
          ]
         },
         "layout": {
          "annotationdefaults": {
           "arrowcolor": "#2a3f5f",
           "arrowhead": 0,
           "arrowwidth": 1
          },
          "autotypenumbers": "strict",
          "coloraxis": {
           "colorbar": {
            "outlinewidth": 0,
            "ticks": ""
           }
          },
          "colorscale": {
           "diverging": [
            [
             0,
             "#8e0152"
            ],
            [
             0.1,
             "#c51b7d"
            ],
            [
             0.2,
             "#de77ae"
            ],
            [
             0.3,
             "#f1b6da"
            ],
            [
             0.4,
             "#fde0ef"
            ],
            [
             0.5,
             "#f7f7f7"
            ],
            [
             0.6,
             "#e6f5d0"
            ],
            [
             0.7,
             "#b8e186"
            ],
            [
             0.8,
             "#7fbc41"
            ],
            [
             0.9,
             "#4d9221"
            ],
            [
             1,
             "#276419"
            ]
           ],
           "sequential": [
            [
             0,
             "#0d0887"
            ],
            [
             0.1111111111111111,
             "#46039f"
            ],
            [
             0.2222222222222222,
             "#7201a8"
            ],
            [
             0.3333333333333333,
             "#9c179e"
            ],
            [
             0.4444444444444444,
             "#bd3786"
            ],
            [
             0.5555555555555556,
             "#d8576b"
            ],
            [
             0.6666666666666666,
             "#ed7953"
            ],
            [
             0.7777777777777778,
             "#fb9f3a"
            ],
            [
             0.8888888888888888,
             "#fdca26"
            ],
            [
             1,
             "#f0f921"
            ]
           ],
           "sequentialminus": [
            [
             0,
             "#0d0887"
            ],
            [
             0.1111111111111111,
             "#46039f"
            ],
            [
             0.2222222222222222,
             "#7201a8"
            ],
            [
             0.3333333333333333,
             "#9c179e"
            ],
            [
             0.4444444444444444,
             "#bd3786"
            ],
            [
             0.5555555555555556,
             "#d8576b"
            ],
            [
             0.6666666666666666,
             "#ed7953"
            ],
            [
             0.7777777777777778,
             "#fb9f3a"
            ],
            [
             0.8888888888888888,
             "#fdca26"
            ],
            [
             1,
             "#f0f921"
            ]
           ]
          },
          "colorway": [
           "#636efa",
           "#EF553B",
           "#00cc96",
           "#ab63fa",
           "#FFA15A",
           "#19d3f3",
           "#FF6692",
           "#B6E880",
           "#FF97FF",
           "#FECB52"
          ],
          "font": {
           "color": "#2a3f5f"
          },
          "geo": {
           "bgcolor": "white",
           "lakecolor": "white",
           "landcolor": "#E5ECF6",
           "showlakes": true,
           "showland": true,
           "subunitcolor": "white"
          },
          "hoverlabel": {
           "align": "left"
          },
          "hovermode": "closest",
          "mapbox": {
           "style": "light"
          },
          "paper_bgcolor": "white",
          "plot_bgcolor": "#E5ECF6",
          "polar": {
           "angularaxis": {
            "gridcolor": "white",
            "linecolor": "white",
            "ticks": ""
           },
           "bgcolor": "#E5ECF6",
           "radialaxis": {
            "gridcolor": "white",
            "linecolor": "white",
            "ticks": ""
           }
          },
          "scene": {
           "xaxis": {
            "backgroundcolor": "#E5ECF6",
            "gridcolor": "white",
            "gridwidth": 2,
            "linecolor": "white",
            "showbackground": true,
            "ticks": "",
            "zerolinecolor": "white"
           },
           "yaxis": {
            "backgroundcolor": "#E5ECF6",
            "gridcolor": "white",
            "gridwidth": 2,
            "linecolor": "white",
            "showbackground": true,
            "ticks": "",
            "zerolinecolor": "white"
           },
           "zaxis": {
            "backgroundcolor": "#E5ECF6",
            "gridcolor": "white",
            "gridwidth": 2,
            "linecolor": "white",
            "showbackground": true,
            "ticks": "",
            "zerolinecolor": "white"
           }
          },
          "shapedefaults": {
           "line": {
            "color": "#2a3f5f"
           }
          },
          "ternary": {
           "aaxis": {
            "gridcolor": "white",
            "linecolor": "white",
            "ticks": ""
           },
           "baxis": {
            "gridcolor": "white",
            "linecolor": "white",
            "ticks": ""
           },
           "bgcolor": "#E5ECF6",
           "caxis": {
            "gridcolor": "white",
            "linecolor": "white",
            "ticks": ""
           }
          },
          "title": {
           "x": 0.05
          },
          "xaxis": {
           "automargin": true,
           "gridcolor": "white",
           "linecolor": "white",
           "ticks": "",
           "title": {
            "standoff": 15
           },
           "zerolinecolor": "white",
           "zerolinewidth": 2
          },
          "yaxis": {
           "automargin": true,
           "gridcolor": "white",
           "linecolor": "white",
           "ticks": "",
           "title": {
            "standoff": 15
           },
           "zerolinecolor": "white",
           "zerolinewidth": 2
          }
         }
        },
        "title": {
         "text": "Распределение зарплат по грейдам"
        },
        "width": 1000,
        "xaxis": {
         "anchor": "y",
         "domain": [
          0,
          1
         ],
         "title": {
          "text": "Уровень"
         }
        },
        "yaxis": {
         "anchor": "x",
         "domain": [
          0,
          1
         ],
         "title": {
          "text": "Уровень зарплат в тыс. рублях"
         }
        }
       }
      },
      "text/html": [
       "<div>                            <div id=\"4f548b76-4f97-4d72-806b-2c851c84aa52\" class=\"plotly-graph-div\" style=\"height:600px; width:1000px;\"></div>            <script type=\"text/javascript\">                require([\"plotly\"], function(Plotly) {                    window.PLOTLYENV=window.PLOTLYENV || {};                                    if (document.getElementById(\"4f548b76-4f97-4d72-806b-2c851c84aa52\")) {                    Plotly.newPlot(                        \"4f548b76-4f97-4d72-806b-2c851c84aa52\",                        [{\"alignmentgroup\":\"True\",\"hovertemplate\":\"\\u0421\\u043f\\u0435\\u0446\\u0438\\u0430\\u043b\\u044c\\u043d\\u043e\\u0441\\u0442\\u044c=data engineer<br>\\u0423\\u0440\\u043e\\u0432\\u0435\\u043d\\u044c=%{x}<br>\\u0423\\u0440\\u043e\\u0432\\u0435\\u043d\\u044c \\u0437\\u0430\\u0440\\u043f\\u043b\\u0430\\u0442 \\u0432 \\u0442\\u044b\\u0441. \\u0440\\u0443\\u0431\\u043b\\u044f\\u0445=%{y}<extra></extra>\",\"legendgroup\":\"data engineer\",\"marker\":{\"color\":\"#636efa\"},\"name\":\"data engineer\",\"notched\":false,\"offsetgroup\":\"data engineer\",\"orientation\":\"v\",\"showlegend\":true,\"x\":[\"\\u041d\\u0435\\u0442 \\u043e\\u043f\\u044b\\u0442\\u0430\",\"\\u041d\\u0435\\u0442 \\u043e\\u043f\\u044b\\u0442\\u0430\",\"\\u041d\\u0435\\u0442 \\u043e\\u043f\\u044b\\u0442\\u0430\",\"\\u041d\\u0435\\u0442 \\u043e\\u043f\\u044b\\u0442\\u0430\",\"\\u041d\\u0435\\u0442 \\u043e\\u043f\\u044b\\u0442\\u0430\",\"\\u041e\\u0442 1 \\u0433\\u043e\\u0434\\u0430 \\u0434\\u043e 3 \\u043b\\u0435\\u0442\",\"\\u041e\\u0442 1 \\u0433\\u043e\\u0434\\u0430 \\u0434\\u043e 3 \\u043b\\u0435\\u0442\",\"\\u041e\\u0442 1 \\u0433\\u043e\\u0434\\u0430 \\u0434\\u043e 3 \\u043b\\u0435\\u0442\",\"\\u041e\\u0442 1 \\u0433\\u043e\\u0434\\u0430 \\u0434\\u043e 3 \\u043b\\u0435\\u0442\",\"\\u041e\\u0442 1 \\u0433\\u043e\\u0434\\u0430 \\u0434\\u043e 3 \\u043b\\u0435\\u0442\",\"\\u041e\\u0442 1 \\u0433\\u043e\\u0434\\u0430 \\u0434\\u043e 3 \\u043b\\u0435\\u0442\",\"\\u041e\\u0442 1 \\u0433\\u043e\\u0434\\u0430 \\u0434\\u043e 3 \\u043b\\u0435\\u0442\",\"\\u041e\\u0442 1 \\u0433\\u043e\\u0434\\u0430 \\u0434\\u043e 3 \\u043b\\u0435\\u0442\",\"\\u041e\\u0442 1 \\u0433\\u043e\\u0434\\u0430 \\u0434\\u043e 3 \\u043b\\u0435\\u0442\",\"\\u041e\\u0442 1 \\u0433\\u043e\\u0434\\u0430 \\u0434\\u043e 3 \\u043b\\u0435\\u0442\",\"\\u041e\\u0442 1 \\u0433\\u043e\\u0434\\u0430 \\u0434\\u043e 3 \\u043b\\u0435\\u0442\",\"\\u041e\\u0442 1 \\u0433\\u043e\\u0434\\u0430 \\u0434\\u043e 3 \\u043b\\u0435\\u0442\",\"\\u041e\\u0442 1 \\u0433\\u043e\\u0434\\u0430 \\u0434\\u043e 3 \\u043b\\u0435\\u0442\",\"\\u041e\\u0442 1 \\u0433\\u043e\\u0434\\u0430 \\u0434\\u043e 3 \\u043b\\u0435\\u0442\",\"\\u041e\\u0442 1 \\u0433\\u043e\\u0434\\u0430 \\u0434\\u043e 3 \\u043b\\u0435\\u0442\",\"\\u041e\\u0442 1 \\u0433\\u043e\\u0434\\u0430 \\u0434\\u043e 3 \\u043b\\u0435\\u0442\",\"\\u041e\\u0442 1 \\u0433\\u043e\\u0434\\u0430 \\u0434\\u043e 3 \\u043b\\u0435\\u0442\",\"\\u041e\\u0442 3 \\u0434\\u043e 6 \\u043b\\u0435\\u0442\",\"\\u041e\\u0442 3 \\u0434\\u043e 6 \\u043b\\u0435\\u0442\",\"\\u041e\\u0442 3 \\u0434\\u043e 6 \\u043b\\u0435\\u0442\",\"\\u041e\\u0442 3 \\u0434\\u043e 6 \\u043b\\u0435\\u0442\",\"\\u041e\\u0442 3 \\u0434\\u043e 6 \\u043b\\u0435\\u0442\",\"\\u041e\\u0442 3 \\u0434\\u043e 6 \\u043b\\u0435\\u0442\",\"\\u041e\\u0442 3 \\u0434\\u043e 6 \\u043b\\u0435\\u0442\",\"\\u041e\\u0442 3 \\u0434\\u043e 6 \\u043b\\u0435\\u0442\",\"\\u041e\\u0442 3 \\u0434\\u043e 6 \\u043b\\u0435\\u0442\",\"\\u041e\\u0442 3 \\u0434\\u043e 6 \\u043b\\u0435\\u0442\",\"\\u041e\\u0442 3 \\u0434\\u043e 6 \\u043b\\u0435\\u0442\",\"\\u041e\\u0442 3 \\u0434\\u043e 6 \\u043b\\u0435\\u0442\",\"\\u041e\\u0442 3 \\u0434\\u043e 6 \\u043b\\u0435\\u0442\",\"\\u041e\\u0442 3 \\u0434\\u043e 6 \\u043b\\u0435\\u0442\",\"\\u041e\\u0442 3 \\u0434\\u043e 6 \\u043b\\u0435\\u0442\",\"\\u041d\\u0435\\u0442 \\u043e\\u043f\\u044b\\u0442\\u0430\",\"\\u041d\\u0435\\u0442 \\u043e\\u043f\\u044b\\u0442\\u0430\",\"\\u041d\\u0435\\u0442 \\u043e\\u043f\\u044b\\u0442\\u0430\",\"\\u041d\\u0435\\u0442 \\u043e\\u043f\\u044b\\u0442\\u0430\",\"\\u041d\\u0435\\u0442 \\u043e\\u043f\\u044b\\u0442\\u0430\",\"\\u041e\\u0442 1 \\u0433\\u043e\\u0434\\u0430 \\u0434\\u043e 3 \\u043b\\u0435\\u0442\",\"\\u041e\\u0442 1 \\u0433\\u043e\\u0434\\u0430 \\u0434\\u043e 3 \\u043b\\u0435\\u0442\",\"\\u041e\\u0442 1 \\u0433\\u043e\\u0434\\u0430 \\u0434\\u043e 3 \\u043b\\u0435\\u0442\",\"\\u041e\\u0442 1 \\u0433\\u043e\\u0434\\u0430 \\u0434\\u043e 3 \\u043b\\u0435\\u0442\",\"\\u041e\\u0442 1 \\u0433\\u043e\\u0434\\u0430 \\u0434\\u043e 3 \\u043b\\u0435\\u0442\",\"\\u041e\\u0442 1 \\u0433\\u043e\\u0434\\u0430 \\u0434\\u043e 3 \\u043b\\u0435\\u0442\",\"\\u041e\\u0442 1 \\u0433\\u043e\\u0434\\u0430 \\u0434\\u043e 3 \\u043b\\u0435\\u0442\",\"\\u041e\\u0442 1 \\u0433\\u043e\\u0434\\u0430 \\u0434\\u043e 3 \\u043b\\u0435\\u0442\",\"\\u041e\\u0442 1 \\u0433\\u043e\\u0434\\u0430 \\u0434\\u043e 3 \\u043b\\u0435\\u0442\",\"\\u041e\\u0442 1 \\u0433\\u043e\\u0434\\u0430 \\u0434\\u043e 3 \\u043b\\u0435\\u0442\",\"\\u041e\\u0442 1 \\u0433\\u043e\\u0434\\u0430 \\u0434\\u043e 3 \\u043b\\u0435\\u0442\",\"\\u041e\\u0442 1 \\u0433\\u043e\\u0434\\u0430 \\u0434\\u043e 3 \\u043b\\u0435\\u0442\",\"\\u041e\\u0442 1 \\u0433\\u043e\\u0434\\u0430 \\u0434\\u043e 3 \\u043b\\u0435\\u0442\",\"\\u041e\\u0442 1 \\u0433\\u043e\\u0434\\u0430 \\u0434\\u043e 3 \\u043b\\u0435\\u0442\",\"\\u041e\\u0442 1 \\u0433\\u043e\\u0434\\u0430 \\u0434\\u043e 3 \\u043b\\u0435\\u0442\",\"\\u041e\\u0442 1 \\u0433\\u043e\\u0434\\u0430 \\u0434\\u043e 3 \\u043b\\u0435\\u0442\",\"\\u041e\\u0442 1 \\u0433\\u043e\\u0434\\u0430 \\u0434\\u043e 3 \\u043b\\u0435\\u0442\",\"\\u041e\\u0442 3 \\u0434\\u043e 6 \\u043b\\u0435\\u0442\",\"\\u041e\\u0442 3 \\u0434\\u043e 6 \\u043b\\u0435\\u0442\",\"\\u041e\\u0442 3 \\u0434\\u043e 6 \\u043b\\u0435\\u0442\",\"\\u041e\\u0442 3 \\u0434\\u043e 6 \\u043b\\u0435\\u0442\",\"\\u041e\\u0442 3 \\u0434\\u043e 6 \\u043b\\u0435\\u0442\",\"\\u041e\\u0442 3 \\u0434\\u043e 6 \\u043b\\u0435\\u0442\",\"\\u041e\\u0442 3 \\u0434\\u043e 6 \\u043b\\u0435\\u0442\",\"\\u041e\\u0442 3 \\u0434\\u043e 6 \\u043b\\u0435\\u0442\",\"\\u041e\\u0442 3 \\u0434\\u043e 6 \\u043b\\u0435\\u0442\",\"\\u041e\\u0442 3 \\u0434\\u043e 6 \\u043b\\u0435\\u0442\",\"\\u041e\\u0442 3 \\u0434\\u043e 6 \\u043b\\u0435\\u0442\",\"\\u041e\\u0442 3 \\u0434\\u043e 6 \\u043b\\u0435\\u0442\",\"\\u041e\\u0442 3 \\u0434\\u043e 6 \\u043b\\u0435\\u0442\",\"\\u041e\\u0442 3 \\u0434\\u043e 6 \\u043b\\u0435\\u0442\",\"\\u041e\\u0442 3 \\u0434\\u043e 6 \\u043b\\u0435\\u0442\"],\"x0\":\" \",\"xaxis\":\"x\",\"y\":[100000.0,174000.0,null,200000.0,69600.0,261000.0,150000.0,null,130500.0,180000.0,180000.0,null,150000.0,200000.0,88000.0,null,null,110000.0,87000.0,130500.0,180000.0,147900.0,300000.0,null,261000.0,200000.0,270000.0,null,230769.0,null,304500.0,43500.0,200000.0,200000.0,null,200000.0,200000.0,150000.0,217500.0,191400.0,null,null,null,250000.0,300150.0,null,null,200000.0,261000.0,null,null,166000.0,156600.0,391500.0,150000.0,null,165300.0,null,304500.0,null,191400.0,null,400000.0,null,423076.0,null,384615.0,435000.0,435000.0,500000.0,350000.0,400000.0,null,370000.0],\"y0\":\" \",\"yaxis\":\"y\",\"type\":\"box\"},{\"alignmentgroup\":\"True\",\"hovertemplate\":\"\\u0421\\u043f\\u0435\\u0446\\u0438\\u0430\\u043b\\u044c\\u043d\\u043e\\u0441\\u0442\\u044c=data scientist<br>\\u0423\\u0440\\u043e\\u0432\\u0435\\u043d\\u044c=%{x}<br>\\u0423\\u0440\\u043e\\u0432\\u0435\\u043d\\u044c \\u0437\\u0430\\u0440\\u043f\\u043b\\u0430\\u0442 \\u0432 \\u0442\\u044b\\u0441. \\u0440\\u0443\\u0431\\u043b\\u044f\\u0445=%{y}<extra></extra>\",\"legendgroup\":\"data scientist\",\"marker\":{\"color\":\"#EF553B\"},\"name\":\"data scientist\",\"notched\":false,\"offsetgroup\":\"data scientist\",\"orientation\":\"v\",\"showlegend\":true,\"x\":[\"\\u041d\\u0435\\u0442 \\u043e\\u043f\\u044b\\u0442\\u0430\",\"\\u041d\\u0435\\u0442 \\u043e\\u043f\\u044b\\u0442\\u0430\",\"\\u041d\\u0435\\u0442 \\u043e\\u043f\\u044b\\u0442\\u0430\",\"\\u041d\\u0435\\u0442 \\u043e\\u043f\\u044b\\u0442\\u0430\",\"\\u041d\\u0435\\u0442 \\u043e\\u043f\\u044b\\u0442\\u0430\",\"\\u041e\\u0442 1 \\u0433\\u043e\\u0434\\u0430 \\u0434\\u043e 3 \\u043b\\u0435\\u0442\",\"\\u041e\\u0442 1 \\u0433\\u043e\\u0434\\u0430 \\u0434\\u043e 3 \\u043b\\u0435\\u0442\",\"\\u041e\\u0442 1 \\u0433\\u043e\\u0434\\u0430 \\u0434\\u043e 3 \\u043b\\u0435\\u0442\",\"\\u041e\\u0442 1 \\u0433\\u043e\\u0434\\u0430 \\u0434\\u043e 3 \\u043b\\u0435\\u0442\",\"\\u041e\\u0442 1 \\u0433\\u043e\\u0434\\u0430 \\u0434\\u043e 3 \\u043b\\u0435\\u0442\",\"\\u041e\\u0442 1 \\u0433\\u043e\\u0434\\u0430 \\u0434\\u043e 3 \\u043b\\u0435\\u0442\",\"\\u041e\\u0442 1 \\u0433\\u043e\\u0434\\u0430 \\u0434\\u043e 3 \\u043b\\u0435\\u0442\",\"\\u041e\\u0442 1 \\u0433\\u043e\\u0434\\u0430 \\u0434\\u043e 3 \\u043b\\u0435\\u0442\",\"\\u041e\\u0442 1 \\u0433\\u043e\\u0434\\u0430 \\u0434\\u043e 3 \\u043b\\u0435\\u0442\",\"\\u041e\\u0442 1 \\u0433\\u043e\\u0434\\u0430 \\u0434\\u043e 3 \\u043b\\u0435\\u0442\",\"\\u041e\\u0442 1 \\u0433\\u043e\\u0434\\u0430 \\u0434\\u043e 3 \\u043b\\u0435\\u0442\",\"\\u041e\\u0442 1 \\u0433\\u043e\\u0434\\u0430 \\u0434\\u043e 3 \\u043b\\u0435\\u0442\",\"\\u041e\\u0442 1 \\u0433\\u043e\\u0434\\u0430 \\u0434\\u043e 3 \\u043b\\u0435\\u0442\",\"\\u041e\\u0442 1 \\u0433\\u043e\\u0434\\u0430 \\u0434\\u043e 3 \\u043b\\u0435\\u0442\",\"\\u041e\\u0442 3 \\u0434\\u043e 6 \\u043b\\u0435\\u0442\",\"\\u041e\\u0442 3 \\u0434\\u043e 6 \\u043b\\u0435\\u0442\",\"\\u041e\\u0442 3 \\u0434\\u043e 6 \\u043b\\u0435\\u0442\",\"\\u041e\\u0442 3 \\u0434\\u043e 6 \\u043b\\u0435\\u0442\",\"\\u041e\\u0442 3 \\u0434\\u043e 6 \\u043b\\u0435\\u0442\",\"\\u041e\\u0442 3 \\u0434\\u043e 6 \\u043b\\u0435\\u0442\",\"\\u041e\\u0442 3 \\u0434\\u043e 6 \\u043b\\u0435\\u0442\",\"\\u041e\\u0442 3 \\u0434\\u043e 6 \\u043b\\u0435\\u0442\",\"\\u041e\\u0442 3 \\u0434\\u043e 6 \\u043b\\u0435\\u0442\",\"\\u041e\\u0442 3 \\u0434\\u043e 6 \\u043b\\u0435\\u0442\",\"\\u041e\\u0442 3 \\u0434\\u043e 6 \\u043b\\u0435\\u0442\",\"\\u041e\\u0442 3 \\u0434\\u043e 6 \\u043b\\u0435\\u0442\",\"\\u041e\\u0442 3 \\u0434\\u043e 6 \\u043b\\u0435\\u0442\",\"\\u041e\\u0442 3 \\u0434\\u043e 6 \\u043b\\u0435\\u0442\",\"\\u041e\\u0442 3 \\u0434\\u043e 6 \\u043b\\u0435\\u0442\",\"\\u041e\\u0442 3 \\u0434\\u043e 6 \\u043b\\u0435\\u0442\",\"\\u041d\\u0435\\u0442 \\u043e\\u043f\\u044b\\u0442\\u0430\",\"\\u041d\\u0435\\u0442 \\u043e\\u043f\\u044b\\u0442\\u0430\",\"\\u041d\\u0435\\u0442 \\u043e\\u043f\\u044b\\u0442\\u0430\",\"\\u041d\\u0435\\u0442 \\u043e\\u043f\\u044b\\u0442\\u0430\",\"\\u041d\\u0435\\u0442 \\u043e\\u043f\\u044b\\u0442\\u0430\",\"\\u041e\\u0442 1 \\u0433\\u043e\\u0434\\u0430 \\u0434\\u043e 3 \\u043b\\u0435\\u0442\",\"\\u041e\\u0442 1 \\u0433\\u043e\\u0434\\u0430 \\u0434\\u043e 3 \\u043b\\u0435\\u0442\",\"\\u041e\\u0442 1 \\u0433\\u043e\\u0434\\u0430 \\u0434\\u043e 3 \\u043b\\u0435\\u0442\",\"\\u041e\\u0442 1 \\u0433\\u043e\\u0434\\u0430 \\u0434\\u043e 3 \\u043b\\u0435\\u0442\",\"\\u041e\\u0442 1 \\u0433\\u043e\\u0434\\u0430 \\u0434\\u043e 3 \\u043b\\u0435\\u0442\",\"\\u041e\\u0442 1 \\u0433\\u043e\\u0434\\u0430 \\u0434\\u043e 3 \\u043b\\u0435\\u0442\",\"\\u041e\\u0442 1 \\u0433\\u043e\\u0434\\u0430 \\u0434\\u043e 3 \\u043b\\u0435\\u0442\",\"\\u041e\\u0442 1 \\u0433\\u043e\\u0434\\u0430 \\u0434\\u043e 3 \\u043b\\u0435\\u0442\",\"\\u041e\\u0442 1 \\u0433\\u043e\\u0434\\u0430 \\u0434\\u043e 3 \\u043b\\u0435\\u0442\",\"\\u041e\\u0442 1 \\u0433\\u043e\\u0434\\u0430 \\u0434\\u043e 3 \\u043b\\u0435\\u0442\",\"\\u041e\\u0442 1 \\u0433\\u043e\\u0434\\u0430 \\u0434\\u043e 3 \\u043b\\u0435\\u0442\",\"\\u041e\\u0442 1 \\u0433\\u043e\\u0434\\u0430 \\u0434\\u043e 3 \\u043b\\u0435\\u0442\",\"\\u041e\\u0442 1 \\u0433\\u043e\\u0434\\u0430 \\u0434\\u043e 3 \\u043b\\u0435\\u0442\",\"\\u041e\\u0442 1 \\u0433\\u043e\\u0434\\u0430 \\u0434\\u043e 3 \\u043b\\u0435\\u0442\",\"\\u041e\\u0442 3 \\u0434\\u043e 6 \\u043b\\u0435\\u0442\",\"\\u041e\\u0442 3 \\u0434\\u043e 6 \\u043b\\u0435\\u0442\",\"\\u041e\\u0442 3 \\u0434\\u043e 6 \\u043b\\u0435\\u0442\",\"\\u041e\\u0442 3 \\u0434\\u043e 6 \\u043b\\u0435\\u0442\",\"\\u041e\\u0442 3 \\u0434\\u043e 6 \\u043b\\u0435\\u0442\",\"\\u041e\\u0442 3 \\u0434\\u043e 6 \\u043b\\u0435\\u0442\",\"\\u041e\\u0442 3 \\u0434\\u043e 6 \\u043b\\u0435\\u0442\",\"\\u041e\\u0442 3 \\u0434\\u043e 6 \\u043b\\u0435\\u0442\",\"\\u041e\\u0442 3 \\u0434\\u043e 6 \\u043b\\u0435\\u0442\",\"\\u041e\\u0442 3 \\u0434\\u043e 6 \\u043b\\u0435\\u0442\",\"\\u041e\\u0442 3 \\u0434\\u043e 6 \\u043b\\u0435\\u0442\",\"\\u041e\\u0442 3 \\u0434\\u043e 6 \\u043b\\u0435\\u0442\",\"\\u041e\\u0442 3 \\u0434\\u043e 6 \\u043b\\u0435\\u0442\",\"\\u041e\\u0442 3 \\u0434\\u043e 6 \\u043b\\u0435\\u0442\",\"\\u041e\\u0442 3 \\u0434\\u043e 6 \\u043b\\u0435\\u0442\",\"\\u041e\\u0442 3 \\u0434\\u043e 6 \\u043b\\u0435\\u0442\"],\"x0\":\" \",\"xaxis\":\"x\",\"y\":[156600.0,null,52200.0,79090.0,null,150000.0,130500.0,null,270000.0,200000.0,80000.0,200000.0,52200.0,130000.0,115384.0,104400.0,130500.0,null,87000.0,null,220000.0,300000.0,null,200000.0,300000.0,153846.0,174000.0,217500.0,200000.0,300000.0,null,230000.0,null,200000.0,300000.0,261000.0,280000.0,174000.0,118636.0,180000.0,null,261000.0,350000.0,null,null,100000.0,250000.0,174000.0,170000.0,230769.0,null,261000.0,350000.0,174000.0,435000.0,300000.0,null,300000.0,250000.0,450000.0,230769.0,null,null,300000.0,400000.0,435000.0,null,139200.0,350000.0,450000.0],\"y0\":\" \",\"yaxis\":\"y\",\"type\":\"box\"},{\"alignmentgroup\":\"True\",\"hovertemplate\":\"\\u0421\\u043f\\u0435\\u0446\\u0438\\u0430\\u043b\\u044c\\u043d\\u043e\\u0441\\u0442\\u044c=data analyst<br>\\u0423\\u0440\\u043e\\u0432\\u0435\\u043d\\u044c=%{x}<br>\\u0423\\u0440\\u043e\\u0432\\u0435\\u043d\\u044c \\u0437\\u0430\\u0440\\u043f\\u043b\\u0430\\u0442 \\u0432 \\u0442\\u044b\\u0441. \\u0440\\u0443\\u0431\\u043b\\u044f\\u0445=%{y}<extra></extra>\",\"legendgroup\":\"data analyst\",\"marker\":{\"color\":\"#00cc96\"},\"name\":\"data analyst\",\"notched\":false,\"offsetgroup\":\"data analyst\",\"orientation\":\"v\",\"showlegend\":true,\"x\":[\"\\u041d\\u0435\\u0442 \\u043e\\u043f\\u044b\\u0442\\u0430\",\"\\u041d\\u0435\\u0442 \\u043e\\u043f\\u044b\\u0442\\u0430\",\"\\u041d\\u0435\\u0442 \\u043e\\u043f\\u044b\\u0442\\u0430\",\"\\u041e\\u0442 1 \\u0433\\u043e\\u0434\\u0430 \\u0434\\u043e 3 \\u043b\\u0435\\u0442\",\"\\u041e\\u0442 1 \\u0433\\u043e\\u0434\\u0430 \\u0434\\u043e 3 \\u043b\\u0435\\u0442\",\"\\u041e\\u0442 1 \\u0433\\u043e\\u0434\\u0430 \\u0434\\u043e 3 \\u043b\\u0435\\u0442\",\"\\u041e\\u0442 1 \\u0433\\u043e\\u0434\\u0430 \\u0434\\u043e 3 \\u043b\\u0435\\u0442\",\"\\u041e\\u0442 1 \\u0433\\u043e\\u0434\\u0430 \\u0434\\u043e 3 \\u043b\\u0435\\u0442\",\"\\u041e\\u0442 1 \\u0433\\u043e\\u0434\\u0430 \\u0434\\u043e 3 \\u043b\\u0435\\u0442\",\"\\u041e\\u0442 1 \\u0433\\u043e\\u0434\\u0430 \\u0434\\u043e 3 \\u043b\\u0435\\u0442\",\"\\u041e\\u0442 1 \\u0433\\u043e\\u0434\\u0430 \\u0434\\u043e 3 \\u043b\\u0435\\u0442\",\"\\u041e\\u0442 1 \\u0433\\u043e\\u0434\\u0430 \\u0434\\u043e 3 \\u043b\\u0435\\u0442\",\"\\u041e\\u0442 1 \\u0433\\u043e\\u0434\\u0430 \\u0434\\u043e 3 \\u043b\\u0435\\u0442\",\"\\u041e\\u0442 1 \\u0433\\u043e\\u0434\\u0430 \\u0434\\u043e 3 \\u043b\\u0435\\u0442\",\"\\u041e\\u0442 1 \\u0433\\u043e\\u0434\\u0430 \\u0434\\u043e 3 \\u043b\\u0435\\u0442\",\"\\u041e\\u0442 1 \\u0433\\u043e\\u0434\\u0430 \\u0434\\u043e 3 \\u043b\\u0435\\u0442\",\"\\u041e\\u0442 1 \\u0433\\u043e\\u0434\\u0430 \\u0434\\u043e 3 \\u043b\\u0435\\u0442\",\"\\u041e\\u0442 1 \\u0433\\u043e\\u0434\\u0430 \\u0434\\u043e 3 \\u043b\\u0435\\u0442\",\"\\u041e\\u0442 1 \\u0433\\u043e\\u0434\\u0430 \\u0434\\u043e 3 \\u043b\\u0435\\u0442\",\"\\u041e\\u0442 1 \\u0433\\u043e\\u0434\\u0430 \\u0434\\u043e 3 \\u043b\\u0435\\u0442\",\"\\u041e\\u0442 1 \\u0433\\u043e\\u0434\\u0430 \\u0434\\u043e 3 \\u043b\\u0435\\u0442\",\"\\u041e\\u0442 1 \\u0433\\u043e\\u0434\\u0430 \\u0434\\u043e 3 \\u043b\\u0435\\u0442\",\"\\u041e\\u0442 1 \\u0433\\u043e\\u0434\\u0430 \\u0434\\u043e 3 \\u043b\\u0435\\u0442\",\"\\u041e\\u0442 1 \\u0433\\u043e\\u0434\\u0430 \\u0434\\u043e 3 \\u043b\\u0435\\u0442\",\"\\u041e\\u0442 1 \\u0433\\u043e\\u0434\\u0430 \\u0434\\u043e 3 \\u043b\\u0435\\u0442\",\"\\u041e\\u0442 1 \\u0433\\u043e\\u0434\\u0430 \\u0434\\u043e 3 \\u043b\\u0435\\u0442\",\"\\u041e\\u0442 3 \\u0434\\u043e 6 \\u043b\\u0435\\u0442\",\"\\u041e\\u0442 3 \\u0434\\u043e 6 \\u043b\\u0435\\u0442\",\"\\u041e\\u0442 3 \\u0434\\u043e 6 \\u043b\\u0435\\u0442\",\"\\u041e\\u0442 3 \\u0434\\u043e 6 \\u043b\\u0435\\u0442\",\"\\u041e\\u0442 3 \\u0434\\u043e 6 \\u043b\\u0435\\u0442\",\"\\u041e\\u0442 3 \\u0434\\u043e 6 \\u043b\\u0435\\u0442\",\"\\u041e\\u0442 3 \\u0434\\u043e 6 \\u043b\\u0435\\u0442\",\"\\u041e\\u0442 3 \\u0434\\u043e 6 \\u043b\\u0435\\u0442\",\"\\u041d\\u0435\\u0442 \\u043e\\u043f\\u044b\\u0442\\u0430\",\"\\u041d\\u0435\\u0442 \\u043e\\u043f\\u044b\\u0442\\u0430\",\"\\u041d\\u0435\\u0442 \\u043e\\u043f\\u044b\\u0442\\u0430\",\"\\u041e\\u0442 1 \\u0433\\u043e\\u0434\\u0430 \\u0434\\u043e 3 \\u043b\\u0435\\u0442\",\"\\u041e\\u0442 1 \\u0433\\u043e\\u0434\\u0430 \\u0434\\u043e 3 \\u043b\\u0435\\u0442\",\"\\u041e\\u0442 1 \\u0433\\u043e\\u0434\\u0430 \\u0434\\u043e 3 \\u043b\\u0435\\u0442\",\"\\u041e\\u0442 1 \\u0433\\u043e\\u0434\\u0430 \\u0434\\u043e 3 \\u043b\\u0435\\u0442\",\"\\u041e\\u0442 1 \\u0433\\u043e\\u0434\\u0430 \\u0434\\u043e 3 \\u043b\\u0435\\u0442\",\"\\u041e\\u0442 1 \\u0433\\u043e\\u0434\\u0430 \\u0434\\u043e 3 \\u043b\\u0435\\u0442\",\"\\u041e\\u0442 1 \\u0433\\u043e\\u0434\\u0430 \\u0434\\u043e 3 \\u043b\\u0435\\u0442\",\"\\u041e\\u0442 1 \\u0433\\u043e\\u0434\\u0430 \\u0434\\u043e 3 \\u043b\\u0435\\u0442\",\"\\u041e\\u0442 1 \\u0433\\u043e\\u0434\\u0430 \\u0434\\u043e 3 \\u043b\\u0435\\u0442\",\"\\u041e\\u0442 1 \\u0433\\u043e\\u0434\\u0430 \\u0434\\u043e 3 \\u043b\\u0435\\u0442\",\"\\u041e\\u0442 1 \\u0433\\u043e\\u0434\\u0430 \\u0434\\u043e 3 \\u043b\\u0435\\u0442\",\"\\u041e\\u0442 1 \\u0433\\u043e\\u0434\\u0430 \\u0434\\u043e 3 \\u043b\\u0435\\u0442\",\"\\u041e\\u0442 1 \\u0433\\u043e\\u0434\\u0430 \\u0434\\u043e 3 \\u043b\\u0435\\u0442\",\"\\u041e\\u0442 1 \\u0433\\u043e\\u0434\\u0430 \\u0434\\u043e 3 \\u043b\\u0435\\u0442\",\"\\u041e\\u0442 1 \\u0433\\u043e\\u0434\\u0430 \\u0434\\u043e 3 \\u043b\\u0435\\u0442\",\"\\u041e\\u0442 1 \\u0433\\u043e\\u0434\\u0430 \\u0434\\u043e 3 \\u043b\\u0435\\u0442\",\"\\u041e\\u0442 1 \\u0433\\u043e\\u0434\\u0430 \\u0434\\u043e 3 \\u043b\\u0435\\u0442\",\"\\u041e\\u0442 1 \\u0433\\u043e\\u0434\\u0430 \\u0434\\u043e 3 \\u043b\\u0435\\u0442\",\"\\u041e\\u0442 1 \\u0433\\u043e\\u0434\\u0430 \\u0434\\u043e 3 \\u043b\\u0435\\u0442\",\"\\u041e\\u0442 1 \\u0433\\u043e\\u0434\\u0430 \\u0434\\u043e 3 \\u043b\\u0435\\u0442\",\"\\u041e\\u0442 1 \\u0433\\u043e\\u0434\\u0430 \\u0434\\u043e 3 \\u043b\\u0435\\u0442\",\"\\u041e\\u0442 1 \\u0433\\u043e\\u0434\\u0430 \\u0434\\u043e 3 \\u043b\\u0435\\u0442\",\"\\u041e\\u0442 1 \\u0433\\u043e\\u0434\\u0430 \\u0434\\u043e 3 \\u043b\\u0435\\u0442\",\"\\u041e\\u0442 3 \\u0434\\u043e 6 \\u043b\\u0435\\u0442\",\"\\u041e\\u0442 3 \\u0434\\u043e 6 \\u043b\\u0435\\u0442\",\"\\u041e\\u0442 3 \\u0434\\u043e 6 \\u043b\\u0435\\u0442\",\"\\u041e\\u0442 3 \\u0434\\u043e 6 \\u043b\\u0435\\u0442\",\"\\u041e\\u0442 3 \\u0434\\u043e 6 \\u043b\\u0435\\u0442\",\"\\u041e\\u0442 3 \\u0434\\u043e 6 \\u043b\\u0435\\u0442\",\"\\u041e\\u0442 3 \\u0434\\u043e 6 \\u043b\\u0435\\u0442\",\"\\u041e\\u0442 3 \\u0434\\u043e 6 \\u043b\\u0435\\u0442\"],\"x0\":\" \",\"xaxis\":\"x\",\"y\":[40000.0,100000.0,null,null,200000.0,139200.0,104400.0,140000.0,174000.0,104400.0,80000.0,200000.0,174000.0,160000.0,153846.0,200769.0,null,220000.0,null,156600.0,null,150000.0,null,147900.0,58800.0,120000.0,237272.0,280000.0,150000.0,200000.0,null,200769.0,250000.0,217500.0,70000.0,140000.0,40000.0,49155.0,null,null,130500.0,200000.0,217500.0,130500.0,120000.0,null,348000.0,null,null,468461.0,80000.0,null,66923.0,234900.0,180000.0,null,234900.0,null,73400.0,null,395454.0,370000.0,220000.0,null,250000.0,267692.0,null,null],\"y0\":\" \",\"yaxis\":\"y\",\"type\":\"box\"}],                        {\"template\":{\"data\":{\"bar\":[{\"error_x\":{\"color\":\"#2a3f5f\"},\"error_y\":{\"color\":\"#2a3f5f\"},\"marker\":{\"line\":{\"color\":\"#E5ECF6\",\"width\":0.5},\"pattern\":{\"fillmode\":\"overlay\",\"size\":10,\"solidity\":0.2}},\"type\":\"bar\"}],\"barpolar\":[{\"marker\":{\"line\":{\"color\":\"#E5ECF6\",\"width\":0.5},\"pattern\":{\"fillmode\":\"overlay\",\"size\":10,\"solidity\":0.2}},\"type\":\"barpolar\"}],\"carpet\":[{\"aaxis\":{\"endlinecolor\":\"#2a3f5f\",\"gridcolor\":\"white\",\"linecolor\":\"white\",\"minorgridcolor\":\"white\",\"startlinecolor\":\"#2a3f5f\"},\"baxis\":{\"endlinecolor\":\"#2a3f5f\",\"gridcolor\":\"white\",\"linecolor\":\"white\",\"minorgridcolor\":\"white\",\"startlinecolor\":\"#2a3f5f\"},\"type\":\"carpet\"}],\"choropleth\":[{\"colorbar\":{\"outlinewidth\":0,\"ticks\":\"\"},\"type\":\"choropleth\"}],\"contour\":[{\"colorbar\":{\"outlinewidth\":0,\"ticks\":\"\"},\"colorscale\":[[0.0,\"#0d0887\"],[0.1111111111111111,\"#46039f\"],[0.2222222222222222,\"#7201a8\"],[0.3333333333333333,\"#9c179e\"],[0.4444444444444444,\"#bd3786\"],[0.5555555555555556,\"#d8576b\"],[0.6666666666666666,\"#ed7953\"],[0.7777777777777778,\"#fb9f3a\"],[0.8888888888888888,\"#fdca26\"],[1.0,\"#f0f921\"]],\"type\":\"contour\"}],\"contourcarpet\":[{\"colorbar\":{\"outlinewidth\":0,\"ticks\":\"\"},\"type\":\"contourcarpet\"}],\"heatmap\":[{\"colorbar\":{\"outlinewidth\":0,\"ticks\":\"\"},\"colorscale\":[[0.0,\"#0d0887\"],[0.1111111111111111,\"#46039f\"],[0.2222222222222222,\"#7201a8\"],[0.3333333333333333,\"#9c179e\"],[0.4444444444444444,\"#bd3786\"],[0.5555555555555556,\"#d8576b\"],[0.6666666666666666,\"#ed7953\"],[0.7777777777777778,\"#fb9f3a\"],[0.8888888888888888,\"#fdca26\"],[1.0,\"#f0f921\"]],\"type\":\"heatmap\"}],\"heatmapgl\":[{\"colorbar\":{\"outlinewidth\":0,\"ticks\":\"\"},\"colorscale\":[[0.0,\"#0d0887\"],[0.1111111111111111,\"#46039f\"],[0.2222222222222222,\"#7201a8\"],[0.3333333333333333,\"#9c179e\"],[0.4444444444444444,\"#bd3786\"],[0.5555555555555556,\"#d8576b\"],[0.6666666666666666,\"#ed7953\"],[0.7777777777777778,\"#fb9f3a\"],[0.8888888888888888,\"#fdca26\"],[1.0,\"#f0f921\"]],\"type\":\"heatmapgl\"}],\"histogram\":[{\"marker\":{\"pattern\":{\"fillmode\":\"overlay\",\"size\":10,\"solidity\":0.2}},\"type\":\"histogram\"}],\"histogram2d\":[{\"colorbar\":{\"outlinewidth\":0,\"ticks\":\"\"},\"colorscale\":[[0.0,\"#0d0887\"],[0.1111111111111111,\"#46039f\"],[0.2222222222222222,\"#7201a8\"],[0.3333333333333333,\"#9c179e\"],[0.4444444444444444,\"#bd3786\"],[0.5555555555555556,\"#d8576b\"],[0.6666666666666666,\"#ed7953\"],[0.7777777777777778,\"#fb9f3a\"],[0.8888888888888888,\"#fdca26\"],[1.0,\"#f0f921\"]],\"type\":\"histogram2d\"}],\"histogram2dcontour\":[{\"colorbar\":{\"outlinewidth\":0,\"ticks\":\"\"},\"colorscale\":[[0.0,\"#0d0887\"],[0.1111111111111111,\"#46039f\"],[0.2222222222222222,\"#7201a8\"],[0.3333333333333333,\"#9c179e\"],[0.4444444444444444,\"#bd3786\"],[0.5555555555555556,\"#d8576b\"],[0.6666666666666666,\"#ed7953\"],[0.7777777777777778,\"#fb9f3a\"],[0.8888888888888888,\"#fdca26\"],[1.0,\"#f0f921\"]],\"type\":\"histogram2dcontour\"}],\"mesh3d\":[{\"colorbar\":{\"outlinewidth\":0,\"ticks\":\"\"},\"type\":\"mesh3d\"}],\"parcoords\":[{\"line\":{\"colorbar\":{\"outlinewidth\":0,\"ticks\":\"\"}},\"type\":\"parcoords\"}],\"pie\":[{\"automargin\":true,\"type\":\"pie\"}],\"scatter\":[{\"marker\":{\"colorbar\":{\"outlinewidth\":0,\"ticks\":\"\"}},\"type\":\"scatter\"}],\"scatter3d\":[{\"line\":{\"colorbar\":{\"outlinewidth\":0,\"ticks\":\"\"}},\"marker\":{\"colorbar\":{\"outlinewidth\":0,\"ticks\":\"\"}},\"type\":\"scatter3d\"}],\"scattercarpet\":[{\"marker\":{\"colorbar\":{\"outlinewidth\":0,\"ticks\":\"\"}},\"type\":\"scattercarpet\"}],\"scattergeo\":[{\"marker\":{\"colorbar\":{\"outlinewidth\":0,\"ticks\":\"\"}},\"type\":\"scattergeo\"}],\"scattergl\":[{\"marker\":{\"colorbar\":{\"outlinewidth\":0,\"ticks\":\"\"}},\"type\":\"scattergl\"}],\"scattermapbox\":[{\"marker\":{\"colorbar\":{\"outlinewidth\":0,\"ticks\":\"\"}},\"type\":\"scattermapbox\"}],\"scatterpolar\":[{\"marker\":{\"colorbar\":{\"outlinewidth\":0,\"ticks\":\"\"}},\"type\":\"scatterpolar\"}],\"scatterpolargl\":[{\"marker\":{\"colorbar\":{\"outlinewidth\":0,\"ticks\":\"\"}},\"type\":\"scatterpolargl\"}],\"scatterternary\":[{\"marker\":{\"colorbar\":{\"outlinewidth\":0,\"ticks\":\"\"}},\"type\":\"scatterternary\"}],\"surface\":[{\"colorbar\":{\"outlinewidth\":0,\"ticks\":\"\"},\"colorscale\":[[0.0,\"#0d0887\"],[0.1111111111111111,\"#46039f\"],[0.2222222222222222,\"#7201a8\"],[0.3333333333333333,\"#9c179e\"],[0.4444444444444444,\"#bd3786\"],[0.5555555555555556,\"#d8576b\"],[0.6666666666666666,\"#ed7953\"],[0.7777777777777778,\"#fb9f3a\"],[0.8888888888888888,\"#fdca26\"],[1.0,\"#f0f921\"]],\"type\":\"surface\"}],\"table\":[{\"cells\":{\"fill\":{\"color\":\"#EBF0F8\"},\"line\":{\"color\":\"white\"}},\"header\":{\"fill\":{\"color\":\"#C8D4E3\"},\"line\":{\"color\":\"white\"}},\"type\":\"table\"}]},\"layout\":{\"annotationdefaults\":{\"arrowcolor\":\"#2a3f5f\",\"arrowhead\":0,\"arrowwidth\":1},\"autotypenumbers\":\"strict\",\"coloraxis\":{\"colorbar\":{\"outlinewidth\":0,\"ticks\":\"\"}},\"colorscale\":{\"diverging\":[[0,\"#8e0152\"],[0.1,\"#c51b7d\"],[0.2,\"#de77ae\"],[0.3,\"#f1b6da\"],[0.4,\"#fde0ef\"],[0.5,\"#f7f7f7\"],[0.6,\"#e6f5d0\"],[0.7,\"#b8e186\"],[0.8,\"#7fbc41\"],[0.9,\"#4d9221\"],[1,\"#276419\"]],\"sequential\":[[0.0,\"#0d0887\"],[0.1111111111111111,\"#46039f\"],[0.2222222222222222,\"#7201a8\"],[0.3333333333333333,\"#9c179e\"],[0.4444444444444444,\"#bd3786\"],[0.5555555555555556,\"#d8576b\"],[0.6666666666666666,\"#ed7953\"],[0.7777777777777778,\"#fb9f3a\"],[0.8888888888888888,\"#fdca26\"],[1.0,\"#f0f921\"]],\"sequentialminus\":[[0.0,\"#0d0887\"],[0.1111111111111111,\"#46039f\"],[0.2222222222222222,\"#7201a8\"],[0.3333333333333333,\"#9c179e\"],[0.4444444444444444,\"#bd3786\"],[0.5555555555555556,\"#d8576b\"],[0.6666666666666666,\"#ed7953\"],[0.7777777777777778,\"#fb9f3a\"],[0.8888888888888888,\"#fdca26\"],[1.0,\"#f0f921\"]]},\"colorway\":[\"#636efa\",\"#EF553B\",\"#00cc96\",\"#ab63fa\",\"#FFA15A\",\"#19d3f3\",\"#FF6692\",\"#B6E880\",\"#FF97FF\",\"#FECB52\"],\"font\":{\"color\":\"#2a3f5f\"},\"geo\":{\"bgcolor\":\"white\",\"lakecolor\":\"white\",\"landcolor\":\"#E5ECF6\",\"showlakes\":true,\"showland\":true,\"subunitcolor\":\"white\"},\"hoverlabel\":{\"align\":\"left\"},\"hovermode\":\"closest\",\"mapbox\":{\"style\":\"light\"},\"paper_bgcolor\":\"white\",\"plot_bgcolor\":\"#E5ECF6\",\"polar\":{\"angularaxis\":{\"gridcolor\":\"white\",\"linecolor\":\"white\",\"ticks\":\"\"},\"bgcolor\":\"#E5ECF6\",\"radialaxis\":{\"gridcolor\":\"white\",\"linecolor\":\"white\",\"ticks\":\"\"}},\"scene\":{\"xaxis\":{\"backgroundcolor\":\"#E5ECF6\",\"gridcolor\":\"white\",\"gridwidth\":2,\"linecolor\":\"white\",\"showbackground\":true,\"ticks\":\"\",\"zerolinecolor\":\"white\"},\"yaxis\":{\"backgroundcolor\":\"#E5ECF6\",\"gridcolor\":\"white\",\"gridwidth\":2,\"linecolor\":\"white\",\"showbackground\":true,\"ticks\":\"\",\"zerolinecolor\":\"white\"},\"zaxis\":{\"backgroundcolor\":\"#E5ECF6\",\"gridcolor\":\"white\",\"gridwidth\":2,\"linecolor\":\"white\",\"showbackground\":true,\"ticks\":\"\",\"zerolinecolor\":\"white\"}},\"shapedefaults\":{\"line\":{\"color\":\"#2a3f5f\"}},\"ternary\":{\"aaxis\":{\"gridcolor\":\"white\",\"linecolor\":\"white\",\"ticks\":\"\"},\"baxis\":{\"gridcolor\":\"white\",\"linecolor\":\"white\",\"ticks\":\"\"},\"bgcolor\":\"#E5ECF6\",\"caxis\":{\"gridcolor\":\"white\",\"linecolor\":\"white\",\"ticks\":\"\"}},\"title\":{\"x\":0.05},\"xaxis\":{\"automargin\":true,\"gridcolor\":\"white\",\"linecolor\":\"white\",\"ticks\":\"\",\"title\":{\"standoff\":15},\"zerolinecolor\":\"white\",\"zerolinewidth\":2},\"yaxis\":{\"automargin\":true,\"gridcolor\":\"white\",\"linecolor\":\"white\",\"ticks\":\"\",\"title\":{\"standoff\":15},\"zerolinecolor\":\"white\",\"zerolinewidth\":2}}},\"xaxis\":{\"anchor\":\"y\",\"domain\":[0.0,1.0],\"title\":{\"text\":\"\\u0423\\u0440\\u043e\\u0432\\u0435\\u043d\\u044c\"}},\"yaxis\":{\"anchor\":\"x\",\"domain\":[0.0,1.0],\"title\":{\"text\":\"\\u0423\\u0440\\u043e\\u0432\\u0435\\u043d\\u044c \\u0437\\u0430\\u0440\\u043f\\u043b\\u0430\\u0442 \\u0432 \\u0442\\u044b\\u0441. \\u0440\\u0443\\u0431\\u043b\\u044f\\u0445\"}},\"legend\":{\"title\":{\"text\":\"\\u0421\\u043f\\u0435\\u0446\\u0438\\u0430\\u043b\\u044c\\u043d\\u043e\\u0441\\u0442\\u044c\"},\"tracegroupgap\":0},\"title\":{\"text\":\"\\u0420\\u0430\\u0441\\u043f\\u0440\\u0435\\u0434\\u0435\\u043b\\u0435\\u043d\\u0438\\u0435 \\u0437\\u0430\\u0440\\u043f\\u043b\\u0430\\u0442 \\u043f\\u043e \\u0433\\u0440\\u0435\\u0439\\u0434\\u0430\\u043c\"},\"boxmode\":\"group\",\"autosize\":false,\"width\":1000,\"height\":600},                        {\"responsive\": true}                    ).then(function(){\n",
       "                            \n",
       "var gd = document.getElementById('4f548b76-4f97-4d72-806b-2c851c84aa52');\n",
       "var x = new MutationObserver(function (mutations, observer) {{\n",
       "        var display = window.getComputedStyle(gd).display;\n",
       "        if (!display || display === 'none') {{\n",
       "            console.log([gd, 'removed!']);\n",
       "            Plotly.purge(gd);\n",
       "            observer.disconnect();\n",
       "        }}\n",
       "}});\n",
       "\n",
       "// Listen for the removal of the full notebook cells\n",
       "var notebookContainer = gd.closest('#notebook-container');\n",
       "if (notebookContainer) {{\n",
       "    x.observe(notebookContainer, {childList: true});\n",
       "}}\n",
       "\n",
       "// Listen for the clearing of the current output cell\n",
       "var outputEl = gd.closest('.output');\n",
       "if (outputEl) {{\n",
       "    x.observe(outputEl, {childList: true});\n",
       "}}\n",
       "\n",
       "                        })                };                });            </script>        </div>"
      ]
     },
     "metadata": {},
     "output_type": "display_data"
    }
   ],
   "source": [
    "fig = px.box(dis, x=\"Experience\", y=\"Salary\", color='Name', labels={\n",
    "             \"Salary\": \"Уровень зарплат в тыс. рублях\",\n",
    "             \"Experience\": \"Уровень\",\n",
    "             \"Name\": \"Специальность\"\n",
    "         }, title = 'Распределение зарплат по грейдам')\n",
    "fig.update_layout(\n",
    "    autosize=False,\n",
    "    width=1000,\n",
    "    height=600,)\n",
    "fig.show()"
   ]
  },
  {
   "cell_type": "markdown",
   "metadata": {},
   "source": [
    "### Анализ навыков"
   ]
  },
  {
   "cell_type": "code",
   "execution_count": 301,
   "metadata": {},
   "outputs": [],
   "source": [
    "skills = {\n",
    "    'TensorFlow': {'tensorflow', '\\Wtf\\W', 'тензорфлоу'},\n",
    "    'PyTorch': {'pytorch', 'пайторч'},\n",
    "    'Keras': {'keras', 'керас'},\n",
    "    'Python': {'python', 'питон', 'пайтон'},\n",
    "    'Pandas/numpy': {'\\Wpandas\\W', '\\Wnumpy\\W'},\n",
    "    'R': {'\\Wr\\W'},\n",
    "    'SQL': {'sql'},\n",
    "    'Scala': {'scala', 'скала'},\n",
    "    'Java': {'java', 'джава'},\n",
    "    'Julia': {'julia', 'джули[ая]'},\n",
    "    'Go': {'\\Wgo\\W'},\n",
    "    'C++': {'c\\+\\+'},\n",
    "    'C#': {'c#', 'шарп'},\n",
    "    'Linux': {'bash', 'баш', 'linux', 'линукс'},\n",
    "    'JS': {'\\Wjs\\W', 'java\\W?script'},\n",
    "    'Matlab': {'matlab', 'матлаб'},\n",
    "    'Django': {'django', 'джанго'},\n",
    "    'Flutter': {'flutter', 'флатт?ер'},\n",
    "    'Flask': {'flask', 'фласк'},\n",
    "    'Spring': {'spring'},\n",
    "    'Git': {'git', 'github', 'bitbucket', 'gitlab', 'гит', 'гитхаб', 'битбакет', 'гитлаб'},\n",
    "    'Docker': {'docker', 'докер'},\n",
    "    'Kubernetes': {'kubernetes', 'кубернетес'},\n",
    "    'Openshift': {'openshift'},\n",
    "    'Grafana': {'grafana', 'графан'},\n",
    "    'Power BI': {'power bi', 'powerbi'},\n",
    "    'Tableau': {'tableau', 'табло'},\n",
    "    'Airflow': {'airflow', 'а[э]ирфлоу'},\n",
    "    'Prometheus': {'prometheus', 'прометеус'},\n",
    "    'Redshift': {'redshift'},\n",
    "    'HDFS': {'hdfs'},\n",
    "    'MapReduce': {'mapreduce'},\n",
    "    'Spark': {'spark', 'спарк'},\n",
    "    'Hive': {'hive'},\n",
    "    'Azure': {'azure'},\n",
    "    'Hadoop': {'hadoop', 'хадуп'},\n",
    "    'Kafka': {'kafka', 'кафк[ау]'},\n",
    "    'RabbitMQ': {'rabbit', 'кролик'},\n",
    "    'MongoDB': {'mongo.?db'},\n",
    "    'Firebase': {'firebase'},\n",
    "    'Cassandra': {'cassandra'},\n",
    "    'Redis': {'redis'},\n",
    "    'Redshift': {'redshift'},\n",
    "    'BigQuery': {'bigquery'},\n",
    "    'Excel': {'\\Wexcel\\W', '\\Wэксел\\W'},\n",
    "    'Clickhouse': {'clickhouse', 'кликхау[сз]'},\n",
    "    'XGBoost': {'xgboost', '\\Wxgb\\W'},\n",
    "    'LightGBM': {'lightgbm', '\\Wlgb\\W'},\n",
    "    'CatBoost': {'catboost'},\n",
    "    'Scikit-learn': {'scikit', 'sklearn'},\n",
    "    'SciPy': {'scipy'},\n",
    "    'MLflow': {'mlflow', 'ml flow'},\n",
    "}"
   ]
  },
  {
   "cell_type": "code",
   "execution_count": 302,
   "metadata": {},
   "outputs": [],
   "source": [
    "def get_keyword_df(df, keywords):\n",
    "    for keyword, keywords_to_search in keywords.items():\n",
    "        keywords_regex = '|'.join(keywords_to_search)\n",
    "        df[keyword] = df['Keys'].str.contains(keywords_regex, regex=True)\n",
    "    keywords_df = pd.DataFrame(columns=['keyword', 'number'])\n",
    "    for keyword in list(keywords.keys()):\n",
    "        keywords_df = keywords_df.append({'keyword': keyword, 'number': len(df[df[keyword]])}, ignore_index=True)\n",
    "    keywords_df = keywords_df.sort_values(by=['number'], ascending=False).reset_index(drop=True)\n",
    "    keywords_df['perc'] = keywords_df['number'] / len(df) * 100\n",
    "    return keywords_df"
   ]
  },
  {
   "cell_type": "code",
   "execution_count": 310,
   "metadata": {},
   "outputs": [
    {
     "name": "stderr",
     "output_type": "stream",
     "text": [
      "C:\\Anaconda3\\lib\\site-packages\\ipykernel_launcher.py:1: SettingWithCopyWarning:\n",
      "\n",
      "\n",
      "A value is trying to be set on a copy of a slice from a DataFrame.\n",
      "Try using .loc[row_indexer,col_indexer] = value instead\n",
      "\n",
      "See the caveats in the documentation: https://pandas.pydata.org/pandas-docs/stable/user_guide/indexing.html#returning-a-view-versus-a-copy\n",
      "\n",
      "C:\\Anaconda3\\lib\\site-packages\\ipykernel_launcher.py:4: SettingWithCopyWarning:\n",
      "\n",
      "\n",
      "A value is trying to be set on a copy of a slice from a DataFrame.\n",
      "Try using .loc[row_indexer,col_indexer] = value instead\n",
      "\n",
      "See the caveats in the documentation: https://pandas.pydata.org/pandas-docs/stable/user_guide/indexing.html#returning-a-view-versus-a-copy\n",
      "\n"
     ]
    }
   ],
   "source": [
    "da_de_ds['Keys'] = df.Keys.str.lower()\n",
    "keyword_df = get_keyword_df(da_de_ds, skills).head(25)\n",
    "skills_list = [i for i in keyword_df['keyword'].values]"
   ]
  },
  {
   "cell_type": "code",
   "execution_count": 311,
   "metadata": {},
   "outputs": [
    {
     "data": {
      "text/plain": [
       "Text(61.125, 0.5, '')"
      ]
     },
     "execution_count": 311,
     "metadata": {},
     "output_type": "execute_result"
    },
    {
     "data": {
      "image/png": "[encoded data removed]",
      "text/plain": [
       "<Figure size 720x504 with 1 Axes>"
      ]
     },
     "metadata": {},
     "output_type": "display_data"
    }
   ],
   "source": [
    "fig, ax = plt.subplots(1, 1, figsize=(10,7))\n",
    "fig.tight_layout(w_pad=5)\n",
    "\n",
    "sns.barplot(ax = ax, data=keyword_df, x='perc', y='keyword', palette=sns.color_palette('winter_r', 25), alpha=0.7)\n",
    "ax.set_title(label=f'Топ 25 востребованных технологий средни актуальных DS-вакансий на hh', loc='left', size=14, pad=15)\n",
    "ax.set_xlabel('Процент вакансий')\n",
    "ax.set_ylabel('')"
   ]
  },
  {
   "cell_type": "code",
   "execution_count": 360,
   "metadata": {},
   "outputs": [
    {
     "data": {
      "text/html": [
       "<div>\n",
       "<style scoped>\n",
       "    .dataframe tbody tr th:only-of-type {\n",
       "        vertical-align: middle;\n",
       "    }\n",
       "\n",
       "    .dataframe tbody tr th {\n",
       "        vertical-align: top;\n",
       "    }\n",
       "\n",
       "    .dataframe thead th {\n",
       "        text-align: right;\n",
       "    }\n",
       "</style>\n",
       "<table border=\"1\" class=\"dataframe\">\n",
       "  <thead>\n",
       "    <tr style=\"text-align: right;\">\n",
       "      <th></th>\n",
       "      <th>Ids</th>\n",
       "      <th>Employer</th>\n",
       "      <th>Name</th>\n",
       "      <th>Salary</th>\n",
       "      <th>From</th>\n",
       "      <th>To</th>\n",
       "      <th>Experience</th>\n",
       "      <th>Schedule</th>\n",
       "      <th>Keys</th>\n",
       "      <th>Description</th>\n",
       "      <th>mean_salary</th>\n",
       "    </tr>\n",
       "  </thead>\n",
       "  <tbody>\n",
       "    <tr>\n",
       "      <th>1499</th>\n",
       "      <td>50403064</td>\n",
       "      <td>Сбербанк</td>\n",
       "      <td>data engineer</td>\n",
       "      <td>True</td>\n",
       "      <td>100000.0</td>\n",
       "      <td>150000.0</td>\n",
       "      <td>Нет опыта</td>\n",
       "      <td>Полный день</td>\n",
       "      <td>['Linux', 'Python', 'Git', 'Bash', 'Docker']</td>\n",
       "      <td>SberDevices занимается созданием экосистемы (с...</td>\n",
       "      <td>125000.0</td>\n",
       "    </tr>\n",
       "    <tr>\n",
       "      <th>385</th>\n",
       "      <td>50812636</td>\n",
       "      <td>Фином Технологии</td>\n",
       "      <td>data engineer</td>\n",
       "      <td>True</td>\n",
       "      <td>174000.0</td>\n",
       "      <td>217500.0</td>\n",
       "      <td>Нет опыта</td>\n",
       "      <td>Удаленная работа</td>\n",
       "      <td>['Python', 'PostgreSQL', 'SQL', 'Английский яз...</td>\n",
       "      <td>Задачи  Построение и поддержание инфраструкт...</td>\n",
       "      <td>195750.0</td>\n",
       "    </tr>\n",
       "    <tr>\n",
       "      <th>602</th>\n",
       "      <td>47765653</td>\n",
       "      <td>Агентство КИТ Консалт</td>\n",
       "      <td>data scientist</td>\n",
       "      <td>True</td>\n",
       "      <td>156600.0</td>\n",
       "      <td>261000.0</td>\n",
       "      <td>Нет опыта</td>\n",
       "      <td>Полный день</td>\n",
       "      <td>[]</td>\n",
       "      <td>Международная производственная компания ищет в...</td>\n",
       "      <td>208800.0</td>\n",
       "    </tr>\n",
       "    <tr>\n",
       "      <th>1405</th>\n",
       "      <td>50654414</td>\n",
       "      <td>Кадровое агентство Юнити</td>\n",
       "      <td>data engineer</td>\n",
       "      <td>True</td>\n",
       "      <td>NaN</td>\n",
       "      <td>191400.0</td>\n",
       "      <td>Нет опыта</td>\n",
       "      <td>Полный день</td>\n",
       "      <td>['MS SQL', 'PostgreSQL']</td>\n",
       "      <td>Нашим клиентом является крупный производитель ...</td>\n",
       "      <td>191400.0</td>\n",
       "    </tr>\n",
       "    <tr>\n",
       "      <th>40</th>\n",
       "      <td>50882565</td>\n",
       "      <td>Brand Mobile</td>\n",
       "      <td>data analyst</td>\n",
       "      <td>True</td>\n",
       "      <td>40000.0</td>\n",
       "      <td>70000.0</td>\n",
       "      <td>Нет опыта</td>\n",
       "      <td>Гибкий график</td>\n",
       "      <td>['Анализ данных', 'Digital Marketing', 'Матема...</td>\n",
       "      <td>В агентство Brand Mobile требуется стажер для ...</td>\n",
       "      <td>55000.0</td>\n",
       "    </tr>\n",
       "    <tr>\n",
       "      <th>...</th>\n",
       "      <td>...</td>\n",
       "      <td>...</td>\n",
       "      <td>...</td>\n",
       "      <td>...</td>\n",
       "      <td>...</td>\n",
       "      <td>...</td>\n",
       "      <td>...</td>\n",
       "      <td>...</td>\n",
       "      <td>...</td>\n",
       "      <td>...</td>\n",
       "      <td>...</td>\n",
       "    </tr>\n",
       "    <tr>\n",
       "      <th>1239</th>\n",
       "      <td>48837237</td>\n",
       "      <td>Playkot</td>\n",
       "      <td>data engineer</td>\n",
       "      <td>True</td>\n",
       "      <td>200000.0</td>\n",
       "      <td>370000.0</td>\n",
       "      <td>От 3 до 6 лет</td>\n",
       "      <td>Удаленная работа</td>\n",
       "      <td>['SQL', 'SCALA', 'Spark', 'Java', 'AWS']</td>\n",
       "      <td>Что такое Плэйкот сегодня? 11 лет опыта, 6 люб...</td>\n",
       "      <td>285000.0</td>\n",
       "    </tr>\n",
       "    <tr>\n",
       "      <th>68</th>\n",
       "      <td>51042194</td>\n",
       "      <td>FoodRocket</td>\n",
       "      <td>data analyst</td>\n",
       "      <td>True</td>\n",
       "      <td>250000.0</td>\n",
       "      <td>NaN</td>\n",
       "      <td>От 3 до 6 лет</td>\n",
       "      <td>Удаленная работа</td>\n",
       "      <td>['Tableau', 'SQL', 'Amplitude', 'A/B тесты', '...</td>\n",
       "      <td>Американский FoodTech стартап в поиске Product...</td>\n",
       "      <td>250000.0</td>\n",
       "    </tr>\n",
       "    <tr>\n",
       "      <th>67</th>\n",
       "      <td>50932609</td>\n",
       "      <td>24Н Софт</td>\n",
       "      <td>data scientist</td>\n",
       "      <td>True</td>\n",
       "      <td>200000.0</td>\n",
       "      <td>350000.0</td>\n",
       "      <td>От 3 до 6 лет</td>\n",
       "      <td>Полный день</td>\n",
       "      <td>['SQL', 'Статистический анализ', 'Математическ...</td>\n",
       "      <td>Обязанности:  Анализ данных (DWH, BigQuery) по...</td>\n",
       "      <td>275000.0</td>\n",
       "    </tr>\n",
       "    <tr>\n",
       "      <th>280</th>\n",
       "      <td>51109345</td>\n",
       "      <td>Joom</td>\n",
       "      <td>data analyst</td>\n",
       "      <td>True</td>\n",
       "      <td>217500.0</td>\n",
       "      <td>NaN</td>\n",
       "      <td>От 3 до 6 лет</td>\n",
       "      <td>Полный день</td>\n",
       "      <td>['SQL', 'Python', 'Анализ данных', 'Data Analy...</td>\n",
       "      <td>Joom — международный мобильный маркетплейс, са...</td>\n",
       "      <td>217500.0</td>\n",
       "    </tr>\n",
       "    <tr>\n",
       "      <th>200</th>\n",
       "      <td>50897545</td>\n",
       "      <td>Osome</td>\n",
       "      <td>data scientist</td>\n",
       "      <td>True</td>\n",
       "      <td>300000.0</td>\n",
       "      <td>450000.0</td>\n",
       "      <td>От 3 до 6 лет</td>\n",
       "      <td>Полный день</td>\n",
       "      <td>['PyTorch', 'Python', 'Machine Learning', 'NLP...</td>\n",
       "      <td>Osome - это сервис для предпринимателей, котор...</td>\n",
       "      <td>375000.0</td>\n",
       "    </tr>\n",
       "  </tbody>\n",
       "</table>\n",
       "<p>106 rows × 11 columns</p>\n",
       "</div>"
      ],
      "text/plain": [
       "           Ids                  Employer            Name  Salary      From  \\\n",
       "1499  50403064                  Сбербанк   data engineer    True  100000.0   \n",
       "385   50812636          Фином Технологии   data engineer    True  174000.0   \n",
       "602   47765653     Агентство КИТ Консалт  data scientist    True  156600.0   \n",
       "1405  50654414  Кадровое агентство Юнити   data engineer    True       NaN   \n",
       "40    50882565              Brand Mobile    data analyst    True   40000.0   \n",
       "...        ...                       ...             ...     ...       ...   \n",
       "1239  48837237                   Playkot   data engineer    True  200000.0   \n",
       "68    51042194                FoodRocket    data analyst    True  250000.0   \n",
       "67    50932609                  24Н Софт  data scientist    True  200000.0   \n",
       "280   51109345                      Joom    data analyst    True  217500.0   \n",
       "200   50897545                     Osome  data scientist    True  300000.0   \n",
       "\n",
       "            To     Experience          Schedule  \\\n",
       "1499  150000.0      Нет опыта       Полный день   \n",
       "385   217500.0      Нет опыта  Удаленная работа   \n",
       "602   261000.0      Нет опыта       Полный день   \n",
       "1405  191400.0      Нет опыта       Полный день   \n",
       "40     70000.0      Нет опыта     Гибкий график   \n",
       "...        ...            ...               ...   \n",
       "1239  370000.0  От 3 до 6 лет  Удаленная работа   \n",
       "68         NaN  От 3 до 6 лет  Удаленная работа   \n",
       "67    350000.0  От 3 до 6 лет       Полный день   \n",
       "280        NaN  От 3 до 6 лет       Полный день   \n",
       "200   450000.0  От 3 до 6 лет       Полный день   \n",
       "\n",
       "                                                   Keys  \\\n",
       "1499       ['Linux', 'Python', 'Git', 'Bash', 'Docker']   \n",
       "385   ['Python', 'PostgreSQL', 'SQL', 'Английский яз...   \n",
       "602                                                  []   \n",
       "1405                           ['MS SQL', 'PostgreSQL']   \n",
       "40    ['Анализ данных', 'Digital Marketing', 'Матема...   \n",
       "...                                                 ...   \n",
       "1239           ['SQL', 'SCALA', 'Spark', 'Java', 'AWS']   \n",
       "68    ['Tableau', 'SQL', 'Amplitude', 'A/B тесты', '...   \n",
       "67    ['SQL', 'Статистический анализ', 'Математическ...   \n",
       "280   ['SQL', 'Python', 'Анализ данных', 'Data Analy...   \n",
       "200   ['PyTorch', 'Python', 'Machine Learning', 'NLP...   \n",
       "\n",
       "                                            Description  mean_salary  \n",
       "1499  SberDevices занимается созданием экосистемы (с...     125000.0  \n",
       "385     Задачи  Построение и поддержание инфраструкт...     195750.0  \n",
       "602   Международная производственная компания ищет в...     208800.0  \n",
       "1405  Нашим клиентом является крупный производитель ...     191400.0  \n",
       "40    В агентство Brand Mobile требуется стажер для ...      55000.0  \n",
       "...                                                 ...          ...  \n",
       "1239  Что такое Плэйкот сегодня? 11 лет опыта, 6 люб...     285000.0  \n",
       "68    Американский FoodTech стартап в поиске Product...     250000.0  \n",
       "67    Обязанности:  Анализ данных (DWH, BigQuery) по...     275000.0  \n",
       "280   Joom — международный мобильный маркетплейс, са...     217500.0  \n",
       "200   Osome - это сервис для предпринимателей, котор...     375000.0  \n",
       "\n",
       "[106 rows x 11 columns]"
      ]
     },
     "execution_count": 360,
     "metadata": {},
     "output_type": "execute_result"
    }
   ],
   "source": [
    "salary"
   ]
  },
  {
   "cell_type": "code",
   "execution_count": 356,
   "metadata": {},
   "outputs": [
    {
     "name": "stderr",
     "output_type": "stream",
     "text": [
      "C:\\Anaconda3\\lib\\site-packages\\ipykernel_launcher.py:1: FutureWarning:\n",
      "\n",
      "The default value of regex will change from True to False in a future version. In addition, single character regular expressions will *not* be treated as literal strings when regex=True.\n",
      "\n"
     ]
    }
   ],
   "source": [
    "high = salary['Keys'].str.lower().str.replace(\"'\", \"\").str.replace(']', '').str.replace('[', '').str.split(',').str.join(',')\\\n",
    "    .str.get_dummies(sep=',').astype(bool)\n"
   ]
  },
  {
   "cell_type": "code",
   "execution_count": 363,
   "metadata": {},
   "outputs": [],
   "source": [
    "score = pd.merge(high, salary['mean_salary'], left_index=True, right_index=True)"
   ]
  },
  {
   "cell_type": "code",
   "execution_count": 369,
   "metadata": {},
   "outputs": [
    {
     "data": {
      "text/html": [
       "<div>\n",
       "<style scoped>\n",
       "    .dataframe tbody tr th:only-of-type {\n",
       "        vertical-align: middle;\n",
       "    }\n",
       "\n",
       "    .dataframe tbody tr th {\n",
       "        vertical-align: top;\n",
       "    }\n",
       "\n",
       "    .dataframe thead th {\n",
       "        text-align: right;\n",
       "    }\n",
       "</style>\n",
       "<table border=\"1\" class=\"dataframe\">\n",
       "  <thead>\n",
       "    <tr style=\"text-align: right;\">\n",
       "      <th></th>\n",
       "      <th>a/b тесты</th>\n",
       "      <th>ad hoc анализ</th>\n",
       "      <th>agile</th>\n",
       "      <th>agile project management</th>\n",
       "      <th>airflow</th>\n",
       "      <th>alpha launch</th>\n",
       "      <th>amplitude</th>\n",
       "      <th>analysis</th>\n",
       "      <th>analytical skills</th>\n",
       "      <th>appsflyer</th>\n",
       "      <th>...</th>\n",
       "      <th>tableau</th>\n",
       "      <th>uml</th>\n",
       "      <th>анализ данных</th>\n",
       "      <th>аналитика</th>\n",
       "      <th>английский язык</th>\n",
       "      <th>базы данных</th>\n",
       "      <th>работа в команде</th>\n",
       "      <th>управление проектами</th>\n",
       "      <th>управленческая отчетность</th>\n",
       "      <th>mean_salary</th>\n",
       "    </tr>\n",
       "  </thead>\n",
       "  <tbody>\n",
       "    <tr>\n",
       "      <th>580</th>\n",
       "      <td>False</td>\n",
       "      <td>False</td>\n",
       "      <td>False</td>\n",
       "      <td>False</td>\n",
       "      <td>False</td>\n",
       "      <td>True</td>\n",
       "      <td>False</td>\n",
       "      <td>False</td>\n",
       "      <td>False</td>\n",
       "      <td>False</td>\n",
       "      <td>...</td>\n",
       "      <td>False</td>\n",
       "      <td>False</td>\n",
       "      <td>False</td>\n",
       "      <td>False</td>\n",
       "      <td>False</td>\n",
       "      <td>False</td>\n",
       "      <td>False</td>\n",
       "      <td>False</td>\n",
       "      <td>False</td>\n",
       "      <td>350000.0</td>\n",
       "    </tr>\n",
       "  </tbody>\n",
       "</table>\n",
       "<p>1 rows × 231 columns</p>\n",
       "</div>"
      ],
      "text/plain": [
       "      a/b тесты   ad hoc анализ   agile   agile project management   airflow  \\\n",
       "580       False           False   False                      False     False   \n",
       "\n",
       "      alpha launch   amplitude   analysis   analytical skills   appsflyer  \\\n",
       "580           True       False      False               False       False   \n",
       "\n",
       "     ...  tableau    uml  анализ данных  аналитика  английский язык  \\\n",
       "580  ...    False  False          False      False            False   \n",
       "\n",
       "     базы данных  работа в команде  управление проектами  \\\n",
       "580        False             False                 False   \n",
       "\n",
       "     управленческая отчетность  mean_salary  \n",
       "580                      False     350000.0  \n",
       "\n",
       "[1 rows x 231 columns]"
      ]
     },
     "execution_count": 369,
     "metadata": {},
     "output_type": "execute_result"
    }
   ],
   "source": [
    "score[score[score.columns[5]] == True]"
   ]
  },
  {
   "cell_type": "code",
   "execution_count": 370,
   "metadata": {},
   "outputs": [
    {
     "name": "stdout",
     "output_type": "stream",
     "text": [
      " a/b тесты\n",
      " ad hoc анализ\n",
      " agile\n",
      " agile project management\n",
      " airflow\n",
      " alpha launch\n",
      " amplitude\n",
      " analysis\n",
      " analytical skills\n",
      " appsflyer\n",
      " aws\n",
      " azure devops\n",
      " b2c маркетинг\n",
      " bash\n",
      " beta-тестирования\n",
      " bi\n",
      " big data\n",
      " bigquery\n",
      " bpmn\n",
      " business analysis\n",
      " business english\n",
      " business intelligence\n",
      " business intelligence systems\n",
      " c++\n",
      " clickhouse\n",
      " coaching\n",
      " code development\n",
      " computer vision\n",
      " core\n",
      " customer orientation\n",
      " cистемы управления базами данных\n",
      " data analysis\n",
      " data mining\n",
      " data science\n",
      " data scientist\n",
      " deep learning\n",
      " digital marketing\n",
      " docker\n",
      " dwh\n",
      " elastic\n",
      " engineering\n",
      " english\n",
      " english c1\n",
      " etl\n",
      " financial analysis\n",
      " front and dashboard\n",
      " git\n",
      " gitlab\n",
      " google adwords\n",
      " google analytics\n",
      " google bigquery\n",
      " google cloud platform\n",
      " google core\n",
      " google data studio\n",
      " google docs\n",
      " google sheets\n",
      " google tag manager\n",
      " hadoop\n",
      " highload\n",
      " hive\n",
      " it analysis\n",
      " java\n",
      " javascript\n",
      " jira\n",
      " js\n",
      " jupyter notebooks\n",
      " kafka\n",
      " kanban\n",
      " kubernetes\n",
      " leadership skills\n",
      " linux\n",
      " machine learning\n",
      " macros\n",
      " market research\n",
      " marketing\n",
      " marketing analysis\n",
      " mathematical analysis\n",
      " mathematical modeling\n",
      " mathematical programming\n",
      " mathematical statistics\n",
      " matlab\n",
      " microsoft azure\n",
      " microsoft power bi\n",
      " ml\n",
      " mongodb\n",
      " ms access\n",
      " ms azure\n",
      " ms excel\n",
      " ms power bi\n",
      " ms powerpoint\n",
      " ms sql\n",
      " multitasking\n",
      " mvp\n",
      " mysql\n",
      " natural language processing\n",
      " ner\n",
      " nlp\n",
      " numpy\n",
      " numpy pandas\n",
      " olap\n",
      " olap (online analytical processing)\n",
      " olap аналитик\n",
      " opencv\n",
      " oracle\n",
      " oracle bi\n",
      " pandas\n",
      " postgresql\n",
      " power bi\n",
      " powerbi\n",
      " product promotion\n",
      " purchasing\n",
      " pyspark\n",
      " pytest\n",
      " python\n",
      " pytorch\n",
      " qlikview\n",
      " r\n",
      " redshift\n",
      " reinforcement learning\n",
      " rest\n",
      " ropo\n",
      " s&op\n",
      " sas\n",
      " scala\n",
      " scikit-learn\n",
      " scipy\n",
      " scope study\n",
      " scrum\n",
      " simulink\n",
      " soap\n",
      " spark\n",
      " sql\n",
      " sql программист\n",
      " ssas\n",
      " ssrs\n",
      " standard sql\n",
      " statistics\n",
      " supply chain\n",
      " tableau\n",
      " team management\n",
      " tensorflow\n",
      " time management\n",
      " time series analysis\n",
      " use case analysis\n",
      " vba\n",
      " web аналитика\n",
      " xgboost\n",
      " алгоритмы\n",
      " анализ бизнес показателей\n",
      " анализ временных рядов\n",
      " анализ данных\n",
      " аналитика\n",
      " аналитические исследования\n",
      " аналитическое мышление\n",
      " английский язык\n",
      " английский язык (intermediate)\n",
      " английский-b1-intermediate\n",
      " атрибуция\n",
      " базы данных\n",
      " бигквери\n",
      " бизнес-анализ\n",
      " бизнес-аналитика\n",
      " визуализация данных\n",
      " грамотность\n",
      " дашборд\n",
      " желание учиться и развиваться\n",
      " интернет маркетинг\n",
      " информационные технологии\n",
      " когортный анализ\n",
      " математическая статистика\n",
      " математический анализ\n",
      " математический склад ума\n",
      " математическое моделирование\n",
      " машинная лингвистика\n",
      " моделирование бизнес процессов\n",
      " оптимизация бизнес-процессов\n",
      " ориентация на результат\n",
      " оформление ноутбуки\n",
      " подготовка отчетов\n",
      " подготовка презентаций\n",
      " постановка задач разработчикам\n",
      " преподаватель\n",
      " прогнозирование\n",
      " прогнозирование спроса\n",
      " продвинутый пользователь пк\n",
      " работа в команде\n",
      " работа с базами данных\n",
      " разработка технических заданий\n",
      " с#\n",
      " системное мышление\n",
      " системный анализ\n",
      " сквозная аналитика\n",
      " статистический анализ\n",
      " субд\n",
      " теория вероятностей\n",
      " теория вероятности\n",
      " тестирование\n",
      " удаленная работа\n",
      " умение принимать решения\n",
      " усердие\n",
      " хранилище данных\n",
      " яндекс.директ\n",
      " яндекс.метрика\n",
      "analytical skills\n",
      "apache nifi\n",
      "data engineer\n",
      "deep learning\n",
      "etl\n",
      "git\n",
      "google analytics\n",
      "hadoop\n",
      "linux\n",
      "machine learning\n",
      "marketing analysis\n",
      "mpi\n",
      "ms sql\n",
      "nlp\n",
      "postgresql\n",
      "python\n",
      "pytorch\n",
      "sql\n",
      "tableau\n",
      "uml\n",
      "анализ данных\n",
      "аналитика\n",
      "английский язык\n",
      "базы данных\n",
      "работа в команде\n",
      "управление проектами\n",
      "управленческая отчетность\n",
      "mean_salary\n"
     ]
    }
   ],
   "source": [
    "for i in score.columns:\n",
    "    print(i)"
   ]
  },
  {
   "cell_type": "code",
   "execution_count": null,
   "metadata": {},
   "outputs": [],
   "source": []
  }
 ],
 "metadata": {
  "kernelspec": {
   "display_name": "Python 3 (ipykernel)",
   "language": "python",
   "name": "python3"
  },
  "language_info": {
   "codemirror_mode": {
    "name": "ipython",
    "version": 3
   },
   "file_extension": ".py",
   "mimetype": "text/x-python",
   "name": "python",
   "nbconvert_exporter": "python",
   "pygments_lexer": "ipython3",
   "version": "3.7.11"
  }
 },
 "nbformat": 4,
 "nbformat_minor": 2
}
